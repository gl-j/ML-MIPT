{
 "cells": [
  {
   "cell_type": "markdown",
   "metadata": {
    "nbgrader": {
     "grade": false,
     "grade_id": "cell-86e0de040aac317a",
     "locked": true,
     "schema_version": 2,
     "solution": false
    }
   },
   "source": [
    "# Lab assignment №1, part 2\n",
    "\n",
    "This lab assignment consists of several parts. You are supposed to make some transformations, train some models, estimate the quality of the models and explain your results.\n",
    "\n",
    "Several comments:\n",
    "* Don't hesitate to ask questions, it's a good practice.\n",
    "* No private/public sharing, please. The copied assignments will be graded with 0 points.\n",
    "* Blocks of this lab will be graded separately."
   ]
  },
  {
   "cell_type": "markdown",
   "metadata": {},
   "source": [
    "__*This is the second part of the assignment. First and third parts are waiting for you in the same directory.*__"
   ]
  },
  {
   "cell_type": "markdown",
   "metadata": {
    "nbgrader": {
     "grade": false,
     "grade_id": "cell-512ba712fc0fc065",
     "locked": true,
     "schema_version": 2,
     "solution": false
    }
   },
   "source": [
    "## Part 2. Data preprocessing, model training and evaluation."
   ]
  },
  {
   "cell_type": "markdown",
   "metadata": {
    "nbgrader": {
     "grade": false,
     "grade_id": "cell-b656a4266174b009",
     "locked": true,
     "schema_version": 2,
     "solution": false
    }
   },
   "source": [
    "### 1. Reading the data\n",
    "Today we work with the [dataset](https://archive.ics.uci.edu/ml/datasets/Statlog+%28Vehicle+Silhouettes%29), describing different cars for multiclass ($k=4$) classification problem. The data is available below."
   ]
  },
  {
   "cell_type": "code",
   "execution_count": 1,
   "metadata": {},
   "outputs": [],
   "source": [
    "# If on colab, uncomment the following lines\n",
    "\n",
    "# ! wget https://raw.githubusercontent.com/girafe-ai/ml-course/22f_made/homeworks/lab01_ml_pipeline/car_data.csv"
   ]
  },
  {
   "cell_type": "code",
   "execution_count": 2,
   "metadata": {
    "nbgrader": {
     "grade": false,
     "grade_id": "cell-eebac6bfdf73d0bc",
     "locked": true,
     "schema_version": 2,
     "solution": false
    }
   },
   "outputs": [
    {
     "name": "stdout",
     "output_type": "stream",
     "text": [
      "(846, 19) (846,)\n",
      "(549, 19) (549,) (297, 19) (297,)\n"
     ]
    }
   ],
   "source": [
    "import pandas as pd\n",
    "import numpy as np\n",
    "from sklearn.model_selection import train_test_split\n",
    "\n",
    "dataset = pd.read_csv('car_data.csv', delimiter=',', header=None).values\n",
    "data = dataset[:, :-1].astype(int)\n",
    "target = dataset[:, -1]\n",
    "\n",
    "print(data.shape, target.shape)\n",
    "\n",
    "X_train, X_test, y_train, y_test = train_test_split(data, target, test_size=0.35)\n",
    "print(X_train.shape, y_train.shape, X_test.shape, y_test.shape)"
   ]
  },
  {
   "cell_type": "markdown",
   "metadata": {
    "nbgrader": {
     "grade": false,
     "grade_id": "cell-88b1a0f688568f2c",
     "locked": true,
     "schema_version": 2,
     "solution": false
    }
   },
   "source": [
    "To get some insights about the dataset, `pandas` might be used. The `train` part is transformed to `pd.DataFrame` below."
   ]
  },
  {
   "cell_type": "code",
   "execution_count": 3,
   "metadata": {},
   "outputs": [
    {
     "data": {
      "text/html": [
       "<div>\n",
       "<style scoped>\n",
       "    .dataframe tbody tr th:only-of-type {\n",
       "        vertical-align: middle;\n",
       "    }\n",
       "\n",
       "    .dataframe tbody tr th {\n",
       "        vertical-align: top;\n",
       "    }\n",
       "\n",
       "    .dataframe thead th {\n",
       "        text-align: right;\n",
       "    }\n",
       "</style>\n",
       "<table border=\"1\" class=\"dataframe\">\n",
       "  <thead>\n",
       "    <tr style=\"text-align: right;\">\n",
       "      <th></th>\n",
       "      <th>0</th>\n",
       "      <th>1</th>\n",
       "      <th>2</th>\n",
       "      <th>3</th>\n",
       "      <th>4</th>\n",
       "      <th>5</th>\n",
       "      <th>6</th>\n",
       "      <th>7</th>\n",
       "      <th>8</th>\n",
       "      <th>9</th>\n",
       "      <th>10</th>\n",
       "      <th>11</th>\n",
       "      <th>12</th>\n",
       "      <th>13</th>\n",
       "      <th>14</th>\n",
       "      <th>15</th>\n",
       "      <th>16</th>\n",
       "      <th>17</th>\n",
       "      <th>18</th>\n",
       "    </tr>\n",
       "  </thead>\n",
       "  <tbody>\n",
       "    <tr>\n",
       "      <th>0</th>\n",
       "      <td>300</td>\n",
       "      <td>106</td>\n",
       "      <td>53</td>\n",
       "      <td>98</td>\n",
       "      <td>193</td>\n",
       "      <td>60</td>\n",
       "      <td>10</td>\n",
       "      <td>215</td>\n",
       "      <td>31</td>\n",
       "      <td>24</td>\n",
       "      <td>169</td>\n",
       "      <td>224</td>\n",
       "      <td>681</td>\n",
       "      <td>218</td>\n",
       "      <td>73</td>\n",
       "      <td>8</td>\n",
       "      <td>21</td>\n",
       "      <td>188</td>\n",
       "      <td>197</td>\n",
       "    </tr>\n",
       "    <tr>\n",
       "      <th>1</th>\n",
       "      <td>391</td>\n",
       "      <td>91</td>\n",
       "      <td>38</td>\n",
       "      <td>70</td>\n",
       "      <td>160</td>\n",
       "      <td>66</td>\n",
       "      <td>25</td>\n",
       "      <td>140</td>\n",
       "      <td>47</td>\n",
       "      <td>18</td>\n",
       "      <td>139</td>\n",
       "      <td>162</td>\n",
       "      <td>296</td>\n",
       "      <td>130</td>\n",
       "      <td>67</td>\n",
       "      <td>4</td>\n",
       "      <td>11</td>\n",
       "      <td>192</td>\n",
       "      <td>202</td>\n",
       "    </tr>\n",
       "    <tr>\n",
       "      <th>2</th>\n",
       "      <td>716</td>\n",
       "      <td>97</td>\n",
       "      <td>41</td>\n",
       "      <td>88</td>\n",
       "      <td>184</td>\n",
       "      <td>59</td>\n",
       "      <td>9</td>\n",
       "      <td>175</td>\n",
       "      <td>38</td>\n",
       "      <td>21</td>\n",
       "      <td>140</td>\n",
       "      <td>192</td>\n",
       "      <td>459</td>\n",
       "      <td>147</td>\n",
       "      <td>63</td>\n",
       "      <td>1</td>\n",
       "      <td>5</td>\n",
       "      <td>196</td>\n",
       "      <td>205</td>\n",
       "    </tr>\n",
       "    <tr>\n",
       "      <th>3</th>\n",
       "      <td>726</td>\n",
       "      <td>102</td>\n",
       "      <td>48</td>\n",
       "      <td>105</td>\n",
       "      <td>214</td>\n",
       "      <td>64</td>\n",
       "      <td>10</td>\n",
       "      <td>201</td>\n",
       "      <td>33</td>\n",
       "      <td>23</td>\n",
       "      <td>152</td>\n",
       "      <td>214</td>\n",
       "      <td>600</td>\n",
       "      <td>178</td>\n",
       "      <td>64</td>\n",
       "      <td>0</td>\n",
       "      <td>25</td>\n",
       "      <td>192</td>\n",
       "      <td>204</td>\n",
       "    </tr>\n",
       "    <tr>\n",
       "      <th>4</th>\n",
       "      <td>577</td>\n",
       "      <td>99</td>\n",
       "      <td>54</td>\n",
       "      <td>100</td>\n",
       "      <td>199</td>\n",
       "      <td>62</td>\n",
       "      <td>9</td>\n",
       "      <td>200</td>\n",
       "      <td>33</td>\n",
       "      <td>23</td>\n",
       "      <td>166</td>\n",
       "      <td>222</td>\n",
       "      <td>600</td>\n",
       "      <td>241</td>\n",
       "      <td>70</td>\n",
       "      <td>2</td>\n",
       "      <td>7</td>\n",
       "      <td>189</td>\n",
       "      <td>198</td>\n",
       "    </tr>\n",
       "    <tr>\n",
       "      <th>5</th>\n",
       "      <td>511</td>\n",
       "      <td>88</td>\n",
       "      <td>38</td>\n",
       "      <td>77</td>\n",
       "      <td>156</td>\n",
       "      <td>56</td>\n",
       "      <td>7</td>\n",
       "      <td>163</td>\n",
       "      <td>41</td>\n",
       "      <td>20</td>\n",
       "      <td>129</td>\n",
       "      <td>184</td>\n",
       "      <td>395</td>\n",
       "      <td>140</td>\n",
       "      <td>67</td>\n",
       "      <td>1</td>\n",
       "      <td>9</td>\n",
       "      <td>192</td>\n",
       "      <td>198</td>\n",
       "    </tr>\n",
       "    <tr>\n",
       "      <th>6</th>\n",
       "      <td>795</td>\n",
       "      <td>83</td>\n",
       "      <td>40</td>\n",
       "      <td>53</td>\n",
       "      <td>114</td>\n",
       "      <td>53</td>\n",
       "      <td>6</td>\n",
       "      <td>132</td>\n",
       "      <td>53</td>\n",
       "      <td>18</td>\n",
       "      <td>140</td>\n",
       "      <td>142</td>\n",
       "      <td>247</td>\n",
       "      <td>157</td>\n",
       "      <td>86</td>\n",
       "      <td>8</td>\n",
       "      <td>7</td>\n",
       "      <td>176</td>\n",
       "      <td>183</td>\n",
       "    </tr>\n",
       "    <tr>\n",
       "      <th>7</th>\n",
       "      <td>735</td>\n",
       "      <td>86</td>\n",
       "      <td>37</td>\n",
       "      <td>77</td>\n",
       "      <td>144</td>\n",
       "      <td>54</td>\n",
       "      <td>7</td>\n",
       "      <td>154</td>\n",
       "      <td>43</td>\n",
       "      <td>19</td>\n",
       "      <td>127</td>\n",
       "      <td>179</td>\n",
       "      <td>352</td>\n",
       "      <td>145</td>\n",
       "      <td>71</td>\n",
       "      <td>14</td>\n",
       "      <td>13</td>\n",
       "      <td>186</td>\n",
       "      <td>191</td>\n",
       "    </tr>\n",
       "    <tr>\n",
       "      <th>8</th>\n",
       "      <td>348</td>\n",
       "      <td>95</td>\n",
       "      <td>44</td>\n",
       "      <td>84</td>\n",
       "      <td>158</td>\n",
       "      <td>62</td>\n",
       "      <td>10</td>\n",
       "      <td>145</td>\n",
       "      <td>46</td>\n",
       "      <td>19</td>\n",
       "      <td>148</td>\n",
       "      <td>163</td>\n",
       "      <td>312</td>\n",
       "      <td>166</td>\n",
       "      <td>64</td>\n",
       "      <td>10</td>\n",
       "      <td>6</td>\n",
       "      <td>199</td>\n",
       "      <td>206</td>\n",
       "    </tr>\n",
       "    <tr>\n",
       "      <th>9</th>\n",
       "      <td>826</td>\n",
       "      <td>95</td>\n",
       "      <td>49</td>\n",
       "      <td>92</td>\n",
       "      <td>193</td>\n",
       "      <td>62</td>\n",
       "      <td>10</td>\n",
       "      <td>178</td>\n",
       "      <td>37</td>\n",
       "      <td>21</td>\n",
       "      <td>154</td>\n",
       "      <td>200</td>\n",
       "      <td>478</td>\n",
       "      <td>171</td>\n",
       "      <td>64</td>\n",
       "      <td>2</td>\n",
       "      <td>0</td>\n",
       "      <td>198</td>\n",
       "      <td>206</td>\n",
       "    </tr>\n",
       "    <tr>\n",
       "      <th>10</th>\n",
       "      <td>593</td>\n",
       "      <td>89</td>\n",
       "      <td>43</td>\n",
       "      <td>77</td>\n",
       "      <td>147</td>\n",
       "      <td>54</td>\n",
       "      <td>8</td>\n",
       "      <td>144</td>\n",
       "      <td>46</td>\n",
       "      <td>19</td>\n",
       "      <td>146</td>\n",
       "      <td>163</td>\n",
       "      <td>308</td>\n",
       "      <td>174</td>\n",
       "      <td>64</td>\n",
       "      <td>13</td>\n",
       "      <td>5</td>\n",
       "      <td>194</td>\n",
       "      <td>201</td>\n",
       "    </tr>\n",
       "    <tr>\n",
       "      <th>11</th>\n",
       "      <td>378</td>\n",
       "      <td>82</td>\n",
       "      <td>36</td>\n",
       "      <td>54</td>\n",
       "      <td>117</td>\n",
       "      <td>53</td>\n",
       "      <td>7</td>\n",
       "      <td>125</td>\n",
       "      <td>54</td>\n",
       "      <td>18</td>\n",
       "      <td>126</td>\n",
       "      <td>146</td>\n",
       "      <td>229</td>\n",
       "      <td>128</td>\n",
       "      <td>78</td>\n",
       "      <td>1</td>\n",
       "      <td>5</td>\n",
       "      <td>180</td>\n",
       "      <td>184</td>\n",
       "    </tr>\n",
       "    <tr>\n",
       "      <th>12</th>\n",
       "      <td>32</td>\n",
       "      <td>93</td>\n",
       "      <td>35</td>\n",
       "      <td>66</td>\n",
       "      <td>154</td>\n",
       "      <td>59</td>\n",
       "      <td>6</td>\n",
       "      <td>142</td>\n",
       "      <td>46</td>\n",
       "      <td>18</td>\n",
       "      <td>128</td>\n",
       "      <td>162</td>\n",
       "      <td>304</td>\n",
       "      <td>120</td>\n",
       "      <td>64</td>\n",
       "      <td>5</td>\n",
       "      <td>13</td>\n",
       "      <td>197</td>\n",
       "      <td>202</td>\n",
       "    </tr>\n",
       "    <tr>\n",
       "      <th>13</th>\n",
       "      <td>171</td>\n",
       "      <td>106</td>\n",
       "      <td>54</td>\n",
       "      <td>103</td>\n",
       "      <td>161</td>\n",
       "      <td>47</td>\n",
       "      <td>4</td>\n",
       "      <td>247</td>\n",
       "      <td>27</td>\n",
       "      <td>27</td>\n",
       "      <td>166</td>\n",
       "      <td>266</td>\n",
       "      <td>892</td>\n",
       "      <td>242</td>\n",
       "      <td>85</td>\n",
       "      <td>4</td>\n",
       "      <td>11</td>\n",
       "      <td>181</td>\n",
       "      <td>183</td>\n",
       "    </tr>\n",
       "    <tr>\n",
       "      <th>14</th>\n",
       "      <td>401</td>\n",
       "      <td>85</td>\n",
       "      <td>37</td>\n",
       "      <td>80</td>\n",
       "      <td>158</td>\n",
       "      <td>59</td>\n",
       "      <td>8</td>\n",
       "      <td>153</td>\n",
       "      <td>44</td>\n",
       "      <td>19</td>\n",
       "      <td>126</td>\n",
       "      <td>179</td>\n",
       "      <td>348</td>\n",
       "      <td>136</td>\n",
       "      <td>69</td>\n",
       "      <td>6</td>\n",
       "      <td>21</td>\n",
       "      <td>191</td>\n",
       "      <td>197</td>\n",
       "    </tr>\n",
       "  </tbody>\n",
       "</table>\n",
       "</div>"
      ],
      "text/plain": [
       "     0    1   2    3    4   5   6    7   8   9    10   11   12   13  14  15  \\\n",
       "0   300  106  53   98  193  60  10  215  31  24  169  224  681  218  73   8   \n",
       "1   391   91  38   70  160  66  25  140  47  18  139  162  296  130  67   4   \n",
       "2   716   97  41   88  184  59   9  175  38  21  140  192  459  147  63   1   \n",
       "3   726  102  48  105  214  64  10  201  33  23  152  214  600  178  64   0   \n",
       "4   577   99  54  100  199  62   9  200  33  23  166  222  600  241  70   2   \n",
       "5   511   88  38   77  156  56   7  163  41  20  129  184  395  140  67   1   \n",
       "6   795   83  40   53  114  53   6  132  53  18  140  142  247  157  86   8   \n",
       "7   735   86  37   77  144  54   7  154  43  19  127  179  352  145  71  14   \n",
       "8   348   95  44   84  158  62  10  145  46  19  148  163  312  166  64  10   \n",
       "9   826   95  49   92  193  62  10  178  37  21  154  200  478  171  64   2   \n",
       "10  593   89  43   77  147  54   8  144  46  19  146  163  308  174  64  13   \n",
       "11  378   82  36   54  117  53   7  125  54  18  126  146  229  128  78   1   \n",
       "12   32   93  35   66  154  59   6  142  46  18  128  162  304  120  64   5   \n",
       "13  171  106  54  103  161  47   4  247  27  27  166  266  892  242  85   4   \n",
       "14  401   85  37   80  158  59   8  153  44  19  126  179  348  136  69   6   \n",
       "\n",
       "    16   17   18  \n",
       "0   21  188  197  \n",
       "1   11  192  202  \n",
       "2    5  196  205  \n",
       "3   25  192  204  \n",
       "4    7  189  198  \n",
       "5    9  192  198  \n",
       "6    7  176  183  \n",
       "7   13  186  191  \n",
       "8    6  199  206  \n",
       "9    0  198  206  \n",
       "10   5  194  201  \n",
       "11   5  180  184  \n",
       "12  13  197  202  \n",
       "13  11  181  183  \n",
       "14  21  191  197  "
      ]
     },
     "execution_count": 3,
     "metadata": {},
     "output_type": "execute_result"
    }
   ],
   "source": [
    "X_train_pd = pd.DataFrame(X_train)\n",
    "\n",
    "# First 15 rows of our dataset.\n",
    "X_train_pd.head(15)"
   ]
  },
  {
   "cell_type": "markdown",
   "metadata": {
    "nbgrader": {
     "grade": false,
     "grade_id": "cell-98e7d91d77d65fcf",
     "locked": true,
     "schema_version": 2,
     "solution": false
    }
   },
   "source": [
    "Methods `describe` and `info` deliver some useful information."
   ]
  },
  {
   "cell_type": "code",
   "execution_count": 4,
   "metadata": {},
   "outputs": [
    {
     "data": {
      "text/html": [
       "<div>\n",
       "<style scoped>\n",
       "    .dataframe tbody tr th:only-of-type {\n",
       "        vertical-align: middle;\n",
       "    }\n",
       "\n",
       "    .dataframe tbody tr th {\n",
       "        vertical-align: top;\n",
       "    }\n",
       "\n",
       "    .dataframe thead th {\n",
       "        text-align: right;\n",
       "    }\n",
       "</style>\n",
       "<table border=\"1\" class=\"dataframe\">\n",
       "  <thead>\n",
       "    <tr style=\"text-align: right;\">\n",
       "      <th></th>\n",
       "      <th>0</th>\n",
       "      <th>1</th>\n",
       "      <th>2</th>\n",
       "      <th>3</th>\n",
       "      <th>4</th>\n",
       "      <th>5</th>\n",
       "      <th>6</th>\n",
       "      <th>7</th>\n",
       "      <th>8</th>\n",
       "      <th>9</th>\n",
       "      <th>10</th>\n",
       "      <th>11</th>\n",
       "      <th>12</th>\n",
       "      <th>13</th>\n",
       "      <th>14</th>\n",
       "      <th>15</th>\n",
       "      <th>16</th>\n",
       "      <th>17</th>\n",
       "      <th>18</th>\n",
       "    </tr>\n",
       "  </thead>\n",
       "  <tbody>\n",
       "    <tr>\n",
       "      <th>count</th>\n",
       "      <td>549.000000</td>\n",
       "      <td>549.000000</td>\n",
       "      <td>549.000000</td>\n",
       "      <td>549.000000</td>\n",
       "      <td>549.000000</td>\n",
       "      <td>549.000000</td>\n",
       "      <td>549.000000</td>\n",
       "      <td>549.000000</td>\n",
       "      <td>549.000000</td>\n",
       "      <td>549.000000</td>\n",
       "      <td>549.000000</td>\n",
       "      <td>549.000000</td>\n",
       "      <td>549.000000</td>\n",
       "      <td>549.000000</td>\n",
       "      <td>549.000000</td>\n",
       "      <td>549.000000</td>\n",
       "      <td>549.000000</td>\n",
       "      <td>549.000000</td>\n",
       "      <td>549.000000</td>\n",
       "    </tr>\n",
       "    <tr>\n",
       "      <th>mean</th>\n",
       "      <td>419.522769</td>\n",
       "      <td>93.759563</td>\n",
       "      <td>44.848816</td>\n",
       "      <td>82.096539</td>\n",
       "      <td>169.672131</td>\n",
       "      <td>61.859745</td>\n",
       "      <td>8.637523</td>\n",
       "      <td>168.879781</td>\n",
       "      <td>40.910747</td>\n",
       "      <td>20.582878</td>\n",
       "      <td>147.939891</td>\n",
       "      <td>188.610200</td>\n",
       "      <td>440.530055</td>\n",
       "      <td>174.426230</td>\n",
       "      <td>72.311475</td>\n",
       "      <td>6.229508</td>\n",
       "      <td>12.635701</td>\n",
       "      <td>189.162113</td>\n",
       "      <td>195.857923</td>\n",
       "    </tr>\n",
       "    <tr>\n",
       "      <th>std</th>\n",
       "      <td>245.630527</td>\n",
       "      <td>8.114628</td>\n",
       "      <td>6.254407</td>\n",
       "      <td>16.033489</td>\n",
       "      <td>34.102063</td>\n",
       "      <td>8.278920</td>\n",
       "      <td>4.957643</td>\n",
       "      <td>33.340865</td>\n",
       "      <td>7.888205</td>\n",
       "      <td>2.583453</td>\n",
       "      <td>14.600833</td>\n",
       "      <td>31.643445</td>\n",
       "      <td>176.803774</td>\n",
       "      <td>32.929317</td>\n",
       "      <td>7.757471</td>\n",
       "      <td>4.862542</td>\n",
       "      <td>8.968227</td>\n",
       "      <td>6.201097</td>\n",
       "      <td>7.480988</td>\n",
       "    </tr>\n",
       "    <tr>\n",
       "      <th>min</th>\n",
       "      <td>0.000000</td>\n",
       "      <td>76.000000</td>\n",
       "      <td>33.000000</td>\n",
       "      <td>40.000000</td>\n",
       "      <td>104.000000</td>\n",
       "      <td>47.000000</td>\n",
       "      <td>2.000000</td>\n",
       "      <td>112.000000</td>\n",
       "      <td>26.000000</td>\n",
       "      <td>17.000000</td>\n",
       "      <td>118.000000</td>\n",
       "      <td>130.000000</td>\n",
       "      <td>184.000000</td>\n",
       "      <td>109.000000</td>\n",
       "      <td>59.000000</td>\n",
       "      <td>0.000000</td>\n",
       "      <td>0.000000</td>\n",
       "      <td>176.000000</td>\n",
       "      <td>181.000000</td>\n",
       "    </tr>\n",
       "    <tr>\n",
       "      <th>25%</th>\n",
       "      <td>206.000000</td>\n",
       "      <td>88.000000</td>\n",
       "      <td>40.000000</td>\n",
       "      <td>70.000000</td>\n",
       "      <td>143.000000</td>\n",
       "      <td>57.000000</td>\n",
       "      <td>7.000000</td>\n",
       "      <td>145.000000</td>\n",
       "      <td>33.000000</td>\n",
       "      <td>19.000000</td>\n",
       "      <td>137.000000</td>\n",
       "      <td>167.000000</td>\n",
       "      <td>314.000000</td>\n",
       "      <td>147.000000</td>\n",
       "      <td>67.000000</td>\n",
       "      <td>2.000000</td>\n",
       "      <td>5.000000</td>\n",
       "      <td>185.000000</td>\n",
       "      <td>191.000000</td>\n",
       "    </tr>\n",
       "    <tr>\n",
       "      <th>50%</th>\n",
       "      <td>418.000000</td>\n",
       "      <td>93.000000</td>\n",
       "      <td>44.000000</td>\n",
       "      <td>80.000000</td>\n",
       "      <td>169.000000</td>\n",
       "      <td>61.000000</td>\n",
       "      <td>8.000000</td>\n",
       "      <td>157.000000</td>\n",
       "      <td>43.000000</td>\n",
       "      <td>20.000000</td>\n",
       "      <td>146.000000</td>\n",
       "      <td>179.000000</td>\n",
       "      <td>366.000000</td>\n",
       "      <td>174.000000</td>\n",
       "      <td>71.000000</td>\n",
       "      <td>5.000000</td>\n",
       "      <td>11.000000</td>\n",
       "      <td>189.000000</td>\n",
       "      <td>197.000000</td>\n",
       "    </tr>\n",
       "    <tr>\n",
       "      <th>75%</th>\n",
       "      <td>634.000000</td>\n",
       "      <td>100.000000</td>\n",
       "      <td>50.000000</td>\n",
       "      <td>98.000000</td>\n",
       "      <td>196.000000</td>\n",
       "      <td>65.000000</td>\n",
       "      <td>10.000000</td>\n",
       "      <td>200.000000</td>\n",
       "      <td>46.000000</td>\n",
       "      <td>23.000000</td>\n",
       "      <td>160.000000</td>\n",
       "      <td>217.000000</td>\n",
       "      <td>601.000000</td>\n",
       "      <td>198.000000</td>\n",
       "      <td>75.000000</td>\n",
       "      <td>9.000000</td>\n",
       "      <td>19.000000</td>\n",
       "      <td>193.000000</td>\n",
       "      <td>201.000000</td>\n",
       "    </tr>\n",
       "    <tr>\n",
       "      <th>max</th>\n",
       "      <td>844.000000</td>\n",
       "      <td>116.000000</td>\n",
       "      <td>59.000000</td>\n",
       "      <td>112.000000</td>\n",
       "      <td>333.000000</td>\n",
       "      <td>138.000000</td>\n",
       "      <td>55.000000</td>\n",
       "      <td>265.000000</td>\n",
       "      <td>61.000000</td>\n",
       "      <td>29.000000</td>\n",
       "      <td>188.000000</td>\n",
       "      <td>320.000000</td>\n",
       "      <td>1018.000000</td>\n",
       "      <td>264.000000</td>\n",
       "      <td>135.000000</td>\n",
       "      <td>22.000000</td>\n",
       "      <td>41.000000</td>\n",
       "      <td>206.000000</td>\n",
       "      <td>211.000000</td>\n",
       "    </tr>\n",
       "  </tbody>\n",
       "</table>\n",
       "</div>"
      ],
      "text/plain": [
       "               0           1           2           3           4           5   \\\n",
       "count  549.000000  549.000000  549.000000  549.000000  549.000000  549.000000   \n",
       "mean   419.522769   93.759563   44.848816   82.096539  169.672131   61.859745   \n",
       "std    245.630527    8.114628    6.254407   16.033489   34.102063    8.278920   \n",
       "min      0.000000   76.000000   33.000000   40.000000  104.000000   47.000000   \n",
       "25%    206.000000   88.000000   40.000000   70.000000  143.000000   57.000000   \n",
       "50%    418.000000   93.000000   44.000000   80.000000  169.000000   61.000000   \n",
       "75%    634.000000  100.000000   50.000000   98.000000  196.000000   65.000000   \n",
       "max    844.000000  116.000000   59.000000  112.000000  333.000000  138.000000   \n",
       "\n",
       "               6           7           8           9           10          11  \\\n",
       "count  549.000000  549.000000  549.000000  549.000000  549.000000  549.000000   \n",
       "mean     8.637523  168.879781   40.910747   20.582878  147.939891  188.610200   \n",
       "std      4.957643   33.340865    7.888205    2.583453   14.600833   31.643445   \n",
       "min      2.000000  112.000000   26.000000   17.000000  118.000000  130.000000   \n",
       "25%      7.000000  145.000000   33.000000   19.000000  137.000000  167.000000   \n",
       "50%      8.000000  157.000000   43.000000   20.000000  146.000000  179.000000   \n",
       "75%     10.000000  200.000000   46.000000   23.000000  160.000000  217.000000   \n",
       "max     55.000000  265.000000   61.000000   29.000000  188.000000  320.000000   \n",
       "\n",
       "                12          13          14          15          16  \\\n",
       "count   549.000000  549.000000  549.000000  549.000000  549.000000   \n",
       "mean    440.530055  174.426230   72.311475    6.229508   12.635701   \n",
       "std     176.803774   32.929317    7.757471    4.862542    8.968227   \n",
       "min     184.000000  109.000000   59.000000    0.000000    0.000000   \n",
       "25%     314.000000  147.000000   67.000000    2.000000    5.000000   \n",
       "50%     366.000000  174.000000   71.000000    5.000000   11.000000   \n",
       "75%     601.000000  198.000000   75.000000    9.000000   19.000000   \n",
       "max    1018.000000  264.000000  135.000000   22.000000   41.000000   \n",
       "\n",
       "               17          18  \n",
       "count  549.000000  549.000000  \n",
       "mean   189.162113  195.857923  \n",
       "std      6.201097    7.480988  \n",
       "min    176.000000  181.000000  \n",
       "25%    185.000000  191.000000  \n",
       "50%    189.000000  197.000000  \n",
       "75%    193.000000  201.000000  \n",
       "max    206.000000  211.000000  "
      ]
     },
     "execution_count": 4,
     "metadata": {},
     "output_type": "execute_result"
    }
   ],
   "source": [
    "X_train_pd.describe()"
   ]
  },
  {
   "cell_type": "code",
   "execution_count": 5,
   "metadata": {},
   "outputs": [
    {
     "name": "stdout",
     "output_type": "stream",
     "text": [
      "<class 'pandas.core.frame.DataFrame'>\n",
      "RangeIndex: 549 entries, 0 to 548\n",
      "Data columns (total 19 columns):\n",
      " #   Column  Non-Null Count  Dtype\n",
      "---  ------  --------------  -----\n",
      " 0   0       549 non-null    int32\n",
      " 1   1       549 non-null    int32\n",
      " 2   2       549 non-null    int32\n",
      " 3   3       549 non-null    int32\n",
      " 4   4       549 non-null    int32\n",
      " 5   5       549 non-null    int32\n",
      " 6   6       549 non-null    int32\n",
      " 7   7       549 non-null    int32\n",
      " 8   8       549 non-null    int32\n",
      " 9   9       549 non-null    int32\n",
      " 10  10      549 non-null    int32\n",
      " 11  11      549 non-null    int32\n",
      " 12  12      549 non-null    int32\n",
      " 13  13      549 non-null    int32\n",
      " 14  14      549 non-null    int32\n",
      " 15  15      549 non-null    int32\n",
      " 16  16      549 non-null    int32\n",
      " 17  17      549 non-null    int32\n",
      " 18  18      549 non-null    int32\n",
      "dtypes: int32(19)\n",
      "memory usage: 40.9 KB\n"
     ]
    }
   ],
   "source": [
    "X_train_pd.info()"
   ]
  },
  {
   "cell_type": "markdown",
   "metadata": {
    "nbgrader": {
     "grade": false,
     "grade_id": "cell-be844269be69c387",
     "locked": true,
     "schema_version": 2,
     "solution": false
    }
   },
   "source": [
    "### 2. Machine Learning pipeline\n",
    "Here you are supposed to perform the desired transformations. Please, explain your results briefly after each task."
   ]
  },
  {
   "cell_type": "markdown",
   "metadata": {},
   "source": [
    "#### 2.0. Data preprocessing\n",
    "* Make some transformations of the dataset (if necessary). Briefly explain the transformations"
   ]
  },
  {
   "cell_type": "code",
   "execution_count": 6,
   "metadata": {
    "nbgrader": {
     "grade": true,
     "grade_id": "cell-a1514aa189a49fca",
     "locked": false,
     "points": 15,
     "schema_version": 2,
     "solution": true
    }
   },
   "outputs": [
    {
     "data": {
      "text/plain": [
       "'***************** Check bellow, in the next few cells my solution is presented and explained! '"
      ]
     },
     "execution_count": 6,
     "metadata": {},
     "output_type": "execute_result"
    }
   ],
   "source": [
    "### YOUR CODE HERE\n",
    "\n",
    "'''***************** Check bellow, in the next few cells my solution is presented and explained! '''"
   ]
  },
  {
   "cell_type": "markdown",
   "metadata": {},
   "source": [
    "## Standarizing the sample data \n",
    "Explanation: \n",
    "Variables that are measured at different scales do not contribute equally to the model fitting/model learned function\n",
    "and might end up creating a bias.\n",
    "\n",
    "Also, since in the second part PCA analysis is applied, so, for example, if a feature/column set has data expressed in units of Kilograms, Light years, or Millions, the variance scale is huge in the training set, If PCA is applied on such a feature set, the resultant loadings for features with high variance will also be large. Hence, principal components will be biased towards features with high variance, leading to false results.\n",
    "\n",
    "Feature/Column wise standarization is performed to this end, that is, each columns is standarized, \n",
    "meaning that, for each column $\\mu = 0$ - mean is zero, and $\\sigma = 1$ - standard deviation equal to one, so the standarization is:\n",
    "$$\n",
    "z = \\frac{\\mathbf{x} - \\mu}{\\sigma}\n",
    "$$\n",
    "where \n",
    "$$\n",
    "\\mu = \\frac{1}{N}\\sum_{i = 1}^{N}x_i \\quad \\sigma = \\sqrt{\\frac{1}{N}{\\sum_{i=1}^{N}(x_i - \\mu)^{2}}} \n",
    "$$\n",
    "\n",
    "So,\n",
    "$$\n",
    "\\quad\n",
    "$$\n",
    "The standarization removes the mean and scales each feature/variable to unit variance. This operation is performed column/feature-wise in an independent way.\n",
    "$$\n",
    "\\quad\n",
    "$$\n",
    "The standarization can be influenced by outliers (if they exist in the dataset) since it involves the estimation of the empirical mean and standard deviation of each feature."
   ]
  },
  {
   "cell_type": "code",
   "execution_count": 7,
   "metadata": {},
   "outputs": [
    {
     "name": "stdout",
     "output_type": "stream",
     "text": [
      "[ 0.00000000e+00  5.87919521e-16 -3.14956886e-16 -3.65349988e-16\n",
      " -1.67977006e-16  3.77948264e-17 -1.63777581e-16 -3.56951138e-16\n",
      "  1.72176431e-16  1.67977006e-17  8.27286755e-16 -9.02876408e-17\n",
      " -1.46979880e-16  3.73748839e-16 -6.92905150e-16 -5.24928144e-17\n",
      " -2.93959761e-17 -1.31022065e-15  1.52649104e-15]\n",
      "[1. 1. 1. 1. 1. 1. 1. 1. 1. 1. 1. 1. 1. 1. 1. 1. 1. 1. 1.]\n",
      "(549, 19) (549,) (297, 19) (297,)\n"
     ]
    }
   ],
   "source": [
    "Xdata = data\n",
    "\n",
    "datamean = np.mean(Xdata, axis=0)\n",
    "datastd = np.std(Xdata, axis=0)\n",
    "Xnormal = data - datamean\n",
    "Xnormal /= datastd\n",
    "\n",
    "print(Xnormal.mean(axis = 0) ) #Checking that the columns have mean approximatly zero \n",
    "print(Xnormal.var(axis = 0) ) #Checking that the columns have standard deviation approximatly one\n",
    "\n",
    "#Splitting the train and test sets based on the normalized data \n",
    "X_train, X_test, y_train, y_test = train_test_split(Xnormal, target, test_size=0.35)\n",
    "print(X_train.shape, y_train.shape, X_test.shape, y_test.shape)\n"
   ]
  },
  {
   "cell_type": "code",
   "execution_count": 8,
   "metadata": {},
   "outputs": [],
   "source": [
    "#Encoding labes from non-numerical values of target\n",
    "from sklearn.preprocessing import LabelEncoder\n",
    "\n",
    "y_train = LabelEncoder().fit_transform(y_train)\n",
    "y_test = LabelEncoder().fit_transform(y_test) \n",
    "\n",
    "#print(y_train)\n",
    "#print(y_test)"
   ]
  },
  {
   "cell_type": "markdown",
   "metadata": {},
   "source": [
    "#### 2.1. Basic logistic regression\n",
    "* Find optimal hyperparameters for logistic regression with cross-validation on the `train` data (small grid/random search is enough, no need to find the *best* parameters).\n",
    "\n",
    "* Estimate the model quality with `f1` and `accuracy` scores.\n",
    "* Plot a ROC-curve for the trained model. For the multiclass case you might use `scikitplot` library (e.g. `scikitplot.metrics.plot_roc(test_labels, predicted_proba)`).\n",
    "\n",
    "*Note: please, use the following hyperparameters for logistic regression: `multi_class='multinomial'`, `solver='saga'` `tol=1e-3` and ` max_iter=500`.*"
   ]
  },
  {
   "cell_type": "code",
   "execution_count": 9,
   "metadata": {
    "nbgrader": {
     "grade": true,
     "grade_id": "cell-1dd5ad5d0845cbbb",
     "locked": false,
     "points": 5,
     "schema_version": 2,
     "solution": true
    }
   },
   "outputs": [
    {
     "data": {
      "text/plain": [
       "'***************** Check bellow, in the next few cells my solution is presented and explained! '"
      ]
     },
     "execution_count": 9,
     "metadata": {},
     "output_type": "execute_result"
    }
   ],
   "source": [
    "### YOUR CODE HERE\n",
    "\n",
    "'''***************** Check bellow, in the next few cells my solution is presented and explained! '''"
   ]
  },
  {
   "cell_type": "markdown",
   "metadata": {},
   "source": [
    "## My solution\n",
    "\n",
    "## Finding optimal hyperparameters for C and penalty norm \n",
    "\n",
    "Cross validation grid search is used for a set of 20 different (along a logarithmic base 10 scale) values for C and for l2 and l1 norms, using as scoring f1 and accuracy.\n",
    "Two estimators are refitted relative to the best f1 and accuracy score, \n",
    "the scores are compared and the final model, with its optimal hyperparameters, is choosen as the one that yields the best score along with its hyperparameters\n"
   ]
  },
  {
   "cell_type": "code",
   "execution_count": 10,
   "metadata": {},
   "outputs": [
    {
     "name": "stdout",
     "output_type": "stream",
     "text": [
      "LogisticRegression(max_iter=500, multi_class='multinomial', solver='saga',\n",
      "                   tol=0.001)\n"
     ]
    }
   ],
   "source": [
    "from sklearn.linear_model import LogisticRegression \n",
    "from sklearn.model_selection import GridSearchCV\n",
    "\n",
    "\n",
    "logreg_clf = LogisticRegression(multi_class='multinomial', solver='saga', tol=1e-3, max_iter=500)\n",
    "print(logreg_clf)\n",
    "\n",
    "C_range = np.logspace(-4, 4, 20)\n",
    "penalty_range = np.array(['l2', 'l1'])\n",
    "grid_search_CV_parameters = {\n",
    "        'C':C_range,\n",
    "        'penalty':penalty_range\n",
    "        }\n",
    "scoring = {'f1':'f1_micro','accuracy':'accuracy'}"
   ]
  },
  {
   "cell_type": "code",
   "execution_count": 11,
   "metadata": {},
   "outputs": [
    {
     "name": "stdout",
     "output_type": "stream",
     "text": [
      "GridSearchCV(cv=5,\n",
      "             estimator=LogisticRegression(max_iter=500,\n",
      "                                          multi_class='multinomial',\n",
      "                                          solver='saga', tol=0.001),\n",
      "             n_jobs=-1,\n",
      "             param_grid={'C': array([1.00000000e-04, 2.63665090e-04, 6.95192796e-04, 1.83298071e-03,\n",
      "       4.83293024e-03, 1.27427499e-02, 3.35981829e-02, 8.85866790e-02,\n",
      "       2.33572147e-01, 6.15848211e-01, 1.62377674e+00, 4.28133240e+00,\n",
      "       1.12883789e+01, 2.97635144e+01, 7.84759970e+01, 2.06913808e+02,\n",
      "       5.45559478e+02, 1.43844989e+03, 3.79269019e+03, 1.00000000e+04]),\n",
      "                         'penalty': array(['l2', 'l1'], dtype='<U2')},\n",
      "             refit='f1', scoring={'accuracy': 'accuracy', 'f1': 'f1_micro'},\n",
      "             verbose=1)\n"
     ]
    }
   ],
   "source": [
    "#**************First refitting relative to the best f1 score\n",
    "\n",
    "gridsearchCV_result = GridSearchCV(logreg_clf, grid_search_CV_parameters, verbose = 1,\n",
    "                           cv = 5 , scoring = scoring, refit = 'f1' , n_jobs=-1 )\n",
    "\n",
    "print(gridsearchCV_result)"
   ]
  },
  {
   "cell_type": "code",
   "execution_count": 12,
   "metadata": {},
   "outputs": [
    {
     "name": "stdout",
     "output_type": "stream",
     "text": [
      "Fitting 5 folds for each of 40 candidates, totalling 200 fits\n",
      "\n",
      "##############################################################\n",
      "###  Grid Search Cross Validation results\n",
      "##############################################################\n",
      "*****Grid search-CV best estimator refitted for f1 =\n",
      "LogisticRegression(C=78.47599703514607, max_iter=500, multi_class='multinomial',\n",
      "                   penalty='l1', solver='saga', tol=0.001)\n",
      "*****Grid search-CV best f1 score = 0.7813844870725605\n",
      "*****Grid search-CV best parameters for best estimator refitted for f1 = {'C': 78.47599703514607, 'penalty': 'l1'}\n",
      "\n"
     ]
    }
   ],
   "source": [
    "#Performing cross validated grid search and refitting relative to the best f1 score \n",
    "gridsearchCV_result.fit(X_train, y_train) \n",
    "\n",
    "best_estimator_forf1 = gridsearchCV_result.best_estimator_\n",
    "best_f1score = gridsearchCV_result.best_score_\n",
    "best_estimator_params_forf1 = gridsearchCV_result.best_params_\n",
    "print(f'''\n",
    "##############################################################\n",
    "###  Grid Search Cross Validation results\n",
    "##############################################################\n",
    "*****Grid search-CV best estimator refitted for f1 =\\n{best_estimator_forf1}\n",
    "*****Grid search-CV best f1 score = {best_f1score}\n",
    "*****Grid search-CV best parameters for best estimator refitted for f1 = {best_estimator_params_forf1}\n",
    "''')"
   ]
  },
  {
   "cell_type": "code",
   "execution_count": 13,
   "metadata": {},
   "outputs": [
    {
     "name": "stdout",
     "output_type": "stream",
     "text": [
      "GridSearchCV(cv=5,\n",
      "             estimator=LogisticRegression(max_iter=500,\n",
      "                                          multi_class='multinomial',\n",
      "                                          solver='saga', tol=0.001),\n",
      "             n_jobs=-1,\n",
      "             param_grid={'C': array([1.00000000e-04, 2.63665090e-04, 6.95192796e-04, 1.83298071e-03,\n",
      "       4.83293024e-03, 1.27427499e-02, 3.35981829e-02, 8.85866790e-02,\n",
      "       2.33572147e-01, 6.15848211e-01, 1.62377674e+00, 4.28133240e+00,\n",
      "       1.12883789e+01, 2.97635144e+01, 7.84759970e+01, 2.06913808e+02,\n",
      "       5.45559478e+02, 1.43844989e+03, 3.79269019e+03, 1.00000000e+04]),\n",
      "                         'penalty': array(['l2', 'l1'], dtype='<U2')},\n",
      "             refit='accuracy',\n",
      "             scoring={'accuracy': 'accuracy', 'f1': 'f1_micro'}, verbose=1)\n"
     ]
    }
   ],
   "source": [
    "#**************Now refitting relative to the best accuracy score\n",
    "\n",
    "gridsearchCV_result = GridSearchCV(logreg_clf, grid_search_CV_parameters, verbose = 1,\n",
    "                           cv = 5 , scoring = scoring, refit = 'accuracy' , n_jobs=-1 )\n",
    "\n",
    "print(gridsearchCV_result)"
   ]
  },
  {
   "cell_type": "code",
   "execution_count": 14,
   "metadata": {},
   "outputs": [
    {
     "name": "stdout",
     "output_type": "stream",
     "text": [
      "Fitting 5 folds for each of 40 candidates, totalling 200 fits\n",
      "\n",
      "##############################################################\n",
      "###  Grid Search Cross Validation results\n",
      "##############################################################\n",
      "*****Grid search-CV best estimator refitted for accuracy =\n",
      "LogisticRegression(C=78.47599703514607, max_iter=500, multi_class='multinomial',\n",
      "                   penalty='l1', solver='saga', tol=0.001)\n",
      "*****Grid search-CV best accuracy score = 0.7813844870725605\n",
      "*****Grid search-CV best parameters for best estimator refitted for accuracy = {'C': 78.47599703514607, 'penalty': 'l1'}\n",
      "\n"
     ]
    }
   ],
   "source": [
    "#Performing cross validated grid search and refitting relative to the best accuracy score \n",
    "gridsearchCV_result.fit(X_train, y_train) \n",
    "\n",
    "best_estimator_foraccuracy = gridsearchCV_result.best_estimator_\n",
    "best_accuracyscore = gridsearchCV_result.best_score_\n",
    "best_estimator_params_foraccuracy = gridsearchCV_result.best_params_\n",
    "print(f'''\n",
    "##############################################################\n",
    "###  Grid Search Cross Validation results\n",
    "##############################################################\n",
    "*****Grid search-CV best estimator refitted for accuracy =\\n{best_estimator_foraccuracy}\n",
    "*****Grid search-CV best accuracy score = {best_accuracyscore}\n",
    "*****Grid search-CV best parameters for best estimator refitted for accuracy = {best_estimator_params_foraccuracy}\n",
    "''')"
   ]
  },
  {
   "cell_type": "code",
   "execution_count": 15,
   "metadata": {},
   "outputs": [
    {
     "name": "stdout",
     "output_type": "stream",
     "text": [
      "Estimator = LogisticRegression(C=78.47599703514607, max_iter=500, multi_class='multinomial',\n",
      "                   penalty='l1', solver='saga', tol=0.001),\n",
      "Optimal hyperparameters -> C = 78.47599703514607, penalty = l1\n"
     ]
    }
   ],
   "source": [
    "#Comparing the best scores of the two estimators, and selecting the one with the best score along with its optimal hyperparameters \n",
    "\n",
    "if (max(best_f1score, best_accuracyscore) == best_accuracyscore ):\n",
    "    logreg_clf = best_estimator_foraccuracy\n",
    "    optC = best_estimator_params_foraccuracy['C']\n",
    "    optpenalty = best_estimator_params_foraccuracy['penalty']\n",
    "else:\n",
    "    logreg_clf = best_estimator_forf1\n",
    "    optC = best_estimator_params_forf1['C']\n",
    "    optpenalty = best_estimator_params_forf1['penalty']\n",
    "    \n",
    "print(f\"Estimator = {logreg_clf},\\nOptimal hyperparameters -> C = {optC}, penalty = {optpenalty}\") "
   ]
  },
  {
   "cell_type": "markdown",
   "metadata": {},
   "source": [
    "## Estimating the model quality using f1 and accuracy score "
   ]
  },
  {
   "cell_type": "code",
   "execution_count": 16,
   "metadata": {},
   "outputs": [
    {
     "name": "stdout",
     "output_type": "stream",
     "text": [
      "\n",
      "#######################################################\n",
      "***** Missclassified count = 63 testing samples out of 297 testing samples ,\n",
      "***** Missclassified percentage = 21.21 %\n",
      "***** f1 score = 0.7878787878787878\n",
      "***** Accuracy Score = 0.7878787878787878\n",
      "#######################################################  \n",
      "\n",
      "\n",
      "######################################\n",
      "### Classification Report for optimal hyperparamenter C = 78.47599703514607, penalty = l1 \n",
      "######################################\n",
      "              precision    recall  f1-score   support\n",
      "\n",
      "           0       0.89      0.90      0.90        63\n",
      "           1       0.67      0.68      0.68        78\n",
      "           2       0.71      0.67      0.69        86\n",
      "           3       0.92      0.94      0.93        70\n",
      "\n",
      "    accuracy                           0.79       297\n",
      "   macro avg       0.80      0.80      0.80       297\n",
      "weighted avg       0.79      0.79      0.79       297\n",
      "\n",
      "      \n"
     ]
    }
   ],
   "source": [
    "#Doing some predictions with the classifier and printing scores \n",
    "\n",
    "y_pred = logreg_clf.predict(X_test)\n",
    "\n",
    "###################################################\n",
    "### Counting missclasified samples and calculating accuracy score\n",
    "##################################################\n",
    "from sklearn.metrics import accuracy_score, f1_score, classification_report\n",
    "\n",
    "f1 = f1_score(y_test, y_pred, average='micro')\n",
    "accuracy = accuracy_score(y_test, y_pred)\n",
    "missclfd = ( y_pred != y_test ).sum()\n",
    "\n",
    "\n",
    "print(f'''\n",
    "#######################################################\n",
    "***** Missclassified count = {missclfd} testing samples out of {len(y_test)} testing samples ,\n",
    "***** Missclassified percentage = {((missclfd / len(y_test)) * 100.0):.2f} %\n",
    "***** f1 score = {f1}\n",
    "***** Accuracy Score = {accuracy}\n",
    "#######################################################  \n",
    "''')\n",
    "print(f'''\n",
    "######################################\n",
    "### Classification Report for optimal hyperparamenter C = {optC}, penalty = {optpenalty} \n",
    "######################################\n",
    "{classification_report(y_test, y_pred)}\n",
    "      ''')"
   ]
  },
  {
   "cell_type": "markdown",
   "metadata": {},
   "source": [
    "## Plotting the ROC-curve for the trained model "
   ]
  },
  {
   "cell_type": "code",
   "execution_count": 17,
   "metadata": {},
   "outputs": [
    {
     "data": {
      "text/plain": [
       "<AxesSubplot:title={'center':'ROC Curves'}, xlabel='False Positive Rate', ylabel='True Positive Rate'>"
      ]
     },
     "execution_count": 17,
     "metadata": {},
     "output_type": "execute_result"
    },
    {
     "data": {
      "image/png": "[encoded data removed]",
      "text/plain": [
       "<Figure size 640x480 with 1 Axes>"
      ]
     },
     "metadata": {},
     "output_type": "display_data"
    }
   ],
   "source": [
    "import scikitplot as skplt\n",
    "\n",
    "y_proba = logreg_clf.predict_proba(X_test)\n",
    "\n",
    "skplt.metrics.plot_roc(y_test, y_proba)"
   ]
  },
  {
   "cell_type": "code",
   "execution_count": 18,
   "metadata": {},
   "outputs": [],
   "source": [
    "# You might use this command to install scikit-plot. \n",
    "# Warning, if you a running locally, don't call pip from within jupyter, call it from terminal in the corresponding \n",
    "# virtual environment instead\n",
    "\n",
    "# ! pip install scikit-plot"
   ]
  },
  {
   "cell_type": "markdown",
   "metadata": {},
   "source": [
    "#### 2.2. PCA: explained variance plot\n",
    "* Apply the PCA to the train part of the data. Build the explaided variance plot. "
   ]
  },
  {
   "cell_type": "code",
   "execution_count": 19,
   "metadata": {
    "nbgrader": {
     "grade": true,
     "grade_id": "cell-c6c614740bce090e",
     "locked": false,
     "points": 10,
     "schema_version": 2,
     "solution": true
    }
   },
   "outputs": [
    {
     "data": {
      "text/plain": [
       "'***************** Check bellow, in the next few cells my solution is presented and explained! '"
      ]
     },
     "execution_count": 19,
     "metadata": {},
     "output_type": "execute_result"
    }
   ],
   "source": [
    "### YOUR CODE HERE\n",
    "\n",
    "'''***************** Check bellow, in the next few cells my solution is presented and explained! '''"
   ]
  },
  {
   "cell_type": "markdown",
   "metadata": {},
   "source": [
    "## Note: For educative pourposes, I decided not to use the PCA implemented function from scikit learn"
   ]
  },
  {
   "cell_type": "code",
   "execution_count": 20,
   "metadata": {},
   "outputs": [
    {
     "name": "stdout",
     "output_type": "stream",
     "text": [
      "(19, 19)\n"
     ]
    }
   ],
   "source": [
    "#PCA \n",
    "covMatrix = Xnormal.T.dot(Xnormal) / Xnormal.shape[0] \n",
    "\n",
    "'''The (i,j) element of the data covariance matrix contains the covariance between i-th and j-th dimension of the data.\n",
    "In particular, the diagonal of this matrix contains the variances.\n",
    "(And since we previously standarized the data, the diagonal should contain ones) \n",
    "Furthermore, the covariance matrix is symmetric and positive semi-definite.\n",
    "We can compute the SVD factorization of the data covariance matrix: '''\n",
    "\n",
    "print(covMatrix.shape)\n"
   ]
  },
  {
   "cell_type": "code",
   "execution_count": 21,
   "metadata": {},
   "outputs": [
    {
     "name": "stdout",
     "output_type": "stream",
     "text": [
      "(19, 19)\n",
      "(19,)\n",
      "(19, 19)\n"
     ]
    }
   ],
   "source": [
    "#P - Matrix of column eigenvectors, D - array of eigenvalues (np.diag(D) - to make it diagonal matrix), Q - inverse of P\n",
    "# From theory follows that -> covMatrix = P * diag(D) * Q - Singular values decomposition \n",
    "P, D, Q = np.linalg.svd(covMatrix) \n",
    "\n",
    "print(P.shape)\n",
    "print(D.shape)\n",
    "print(Q.shape)"
   ]
  },
  {
   "cell_type": "code",
   "execution_count": 22,
   "metadata": {},
   "outputs": [
    {
     "name": "stdout",
     "output_type": "stream",
     "text": [
      "True\n"
     ]
    }
   ],
   "source": [
    "#Checking if covMatrix == P @ diag(D) @ Q\n",
    "\n",
    "svdResMatrix = P @ np.diag(D) @ Q\n",
    "print(np.isclose(covMatrix, svdResMatrix).all()) #Returns True if each pair of element matrix-wise is same/closely enough"
   ]
  },
  {
   "cell_type": "code",
   "execution_count": 23,
   "metadata": {},
   "outputs": [],
   "source": [
    "#Sorting the eigenvalues en descending order and rearranging the eigenvectors position based on the sorted eigenvalues \n",
    "sorted_indexes = np.argsort(D)[::-1]\n",
    "D = D[sorted_indexes]\n",
    "P = P[sorted_indexes]\n"
   ]
  },
  {
   "cell_type": "markdown",
   "metadata": {},
   "source": [
    "Where the eigenvalues $\\lambda$ from $D$ are equal to the square of the singular values $\\sigma^2$, \n",
    "that is, they are the variance,\n",
    "so, if we want to know how much variance is being capture in the first $k$ eigenvalues, \n",
    "then we check the sum of the first $k$ eigenvalues and we divide it by the sum of all eigenvalues,\n",
    "that is: $\\frac{\\sum_{i = 1}^{k}\\lambda_i}{\\sum_{i = 1}^{D.shape[0]}\\lambda_i}$\n"
   ]
  },
  {
   "cell_type": "code",
   "execution_count": 24,
   "metadata": {},
   "outputs": [
    {
     "name": "stdout",
     "output_type": "stream",
     "text": [
      "(19,)\n",
      "Variance explained by the first 1 Principal Components = 49.63%\n",
      "Variance explained by the first 2 Principal Components = 65.55%\n",
      "Variance explained by the first 3 Principal Components = 75.60%\n",
      "Variance explained by the first 4 Principal Components = 81.82%\n",
      "Variance explained by the first 5 Principal Components = 87.02%\n",
      "Variance explained by the first 6 Principal Components = 91.81%\n",
      "Variance explained by the first 7 Principal Components = 94.61%\n",
      "Variance explained by the first 8 Principal Components = 96.48%\n",
      "Variance explained by the first 9 Principal Components = 97.65%\n",
      "Variance explained by the first 10 Principal Components = 98.48%\n",
      "Variance explained by the first 11 Principal Components = 98.96%\n",
      "Variance explained by the first 12 Principal Components = 99.29%\n",
      "Variance explained by the first 13 Principal Components = 99.52%\n",
      "Variance explained by the first 14 Principal Components = 99.70%\n",
      "Variance explained by the first 15 Principal Components = 99.81%\n",
      "Variance explained by the first 16 Principal Components = 99.90%\n",
      "Variance explained by the first 17 Principal Components = 99.97%\n",
      "Variance explained by the first 18 Principal Components = 100.00%\n",
      "Variance explained by the first 19 Principal Components = 100.00%\n"
     ]
    }
   ],
   "source": [
    "eigensum = np.sum(D)\n",
    "variance_explained = np.array( [(i / eigensum) * 100 for i in D ] )\n",
    "cumulative_variance_explained = np.cumsum(variance_explained)\n",
    "print(cumulative_variance_explained.shape)\n",
    "\n",
    "for i in range (0, D.shape[0]):\n",
    "    print(f\"Variance explained by the first {i + 1} Principal Components = {cumulative_variance_explained[i]:.02f}%\")"
   ]
  },
  {
   "cell_type": "markdown",
   "metadata": {},
   "source": [
    "## Plotting the Explained Variance plot"
   ]
  },
  {
   "cell_type": "code",
   "execution_count": 25,
   "metadata": {},
   "outputs": [
    {
     "data": {
      "image/png": "[encoded data removed]",
      "text/plain": [
       "<Figure size 1900x900 with 1 Axes>"
      ]
     },
     "metadata": {},
     "output_type": "display_data"
    }
   ],
   "source": [
    "import matplotlib.pyplot as plt \n",
    "\n",
    "plt.figure(figsize = (19, 9))\n",
    "plt.step(range(1, 20), cumulative_variance_explained, label = '% Cumulative Variance Explained')\n",
    "plt.bar(range(1, 20), variance_explained, label = \"% Explained Variance per Principal Component \")\n",
    "plt.xlabel(\"Number of Principal Components\")\n",
    "plt.ylabel(\"% of Explained Variance Ratio\") \n",
    "plt.legend(loc = 'best') \n",
    "plt.xticks(range(0, 19))\n",
    "plt.grid()\n",
    "plt.show()"
   ]
  },
  {
   "cell_type": "markdown",
   "metadata": {
    "nbgrader": {
     "grade": false,
     "grade_id": "cell-0c1fe666f52fe53c",
     "locked": true,
     "schema_version": 2,
     "solution": false
    }
   },
   "source": [
    "#### 2.3. PCA trasformation\n",
    "* Select the appropriate number of components. Briefly explain your choice. Should you normalize the data?\n",
    "\n",
    "*Use `fit` and `transform` methods to transform the `train` and `test` parts.*"
   ]
  },
  {
   "cell_type": "code",
   "execution_count": 26,
   "metadata": {
    "nbgrader": {
     "grade": true,
     "grade_id": "cell-96ab18d96473ef71",
     "locked": false,
     "points": 5,
     "schema_version": 2,
     "solution": true
    }
   },
   "outputs": [
    {
     "data": {
      "text/plain": [
       "'***************** Check bellow, in the next few cells my solution is presented and explained! '"
      ]
     },
     "execution_count": 26,
     "metadata": {},
     "output_type": "execute_result"
    }
   ],
   "source": [
    "### YOUR CODE HERE\n",
    "\n",
    "'''***************** Check bellow, in the next few cells my solution is presented and explained! '''"
   ]
  },
  {
   "cell_type": "markdown",
   "metadata": {},
   "source": [
    "From the previous graph, we see that the first 10 components explain about of 97% - 98% of the data, \n",
    "so because of that, we will use the first 10 components. \n",
    "The data was previously normalized, as mentioned above on the preprocessing part: \n",
    "$$\n",
    "\\quad\n",
    "$$\n",
    "Since PCA analysis is applied the data was previously normalized, so, for example, if a feature/column set has data expressed in units of Kilograms, Light years, or Millions, the variance scale is huge in the training set, If PCA is applied on such a feature set, the resultant loadings for features with high variance will also be large. Hence, principal components will be biased towards features with high variance, leading to false results.\n",
    "\n",
    "Feature/Column wise standarization is performed to this end, that is, each columns is standarized, \n",
    "meaning that, for each column $\\mu = 0$ - mean is zero, and $\\sigma = 1$ - standard deviation equal to one, so the standarization is:\n",
    "$$\n",
    "z = \\frac{\\mathbf{x} - \\mu}{\\sigma}\n",
    "$$\n",
    "where \n",
    "$$\n",
    "\\mu = \\frac{1}{N}\\sum_{i = 1}^{N}x_i \\quad \\sigma = \\sqrt{\\frac{1}{N}{\\sum_{i=1}^{N}(x_i - \\mu)^{2}}} \n",
    "$$\n",
    "\n",
    "So,\n",
    "$$\n",
    "\\quad\n",
    "$$\n",
    "StandardScaler removes the mean and scales each feature/variable to unit variance. This operation is performed column/feature-wise in an independent way.\n",
    "$$\n",
    "\\quad\n",
    "$$\n",
    "StandardScaler can be influenced by outliers (if they exist in the dataset) since it involves the estimation of the empirical mean and standard deviation of each feature."
   ]
  },
  {
   "cell_type": "code",
   "execution_count": 27,
   "metadata": {},
   "outputs": [
    {
     "name": "stdout",
     "output_type": "stream",
     "text": [
      "(846, 10)\n",
      "(549, 10) (549,) (297, 10) (297,)\n"
     ]
    }
   ],
   "source": [
    "#The principal components are given by T = X * P - where P is the matrix of eigenvectors columns calculated above\n",
    "\n",
    "X_reduced = Xnormal.dot(P[:, :10]) \n",
    "\n",
    "print(X_reduced.shape) \n",
    "\n",
    "\n",
    "#*****Splitting the train and test sets based on the PCA reduced data\n",
    "X_train, X_test, y_train, y_test = train_test_split(X_reduced, target, test_size=0.35)\n",
    "print(X_train.shape, y_train.shape, X_test.shape, y_test.shape)"
   ]
  },
  {
   "cell_type": "code",
   "execution_count": 28,
   "metadata": {},
   "outputs": [
    {
     "name": "stdout",
     "output_type": "stream",
     "text": [
      "[-0.02015344  0.00071448 -0.06297016  0.02193521 -0.00471683  0.01229294\n",
      "  0.01901628  0.01601631  0.00501142 -0.00372666] [ 0.03725333 -0.0013207   0.11639938 -0.0405469   0.00871899 -0.02272331\n",
      " -0.03515131 -0.02960592 -0.00926353  0.00688868]\n",
      "[9.32643094 2.96311815 1.4281969  1.20312144 0.98112454 0.87072926\n",
      " 0.53767958 0.34717686 0.21731352 0.16183844] [9.62105044 3.13759902 2.7755831  1.14182466 0.99970842 0.98046346\n",
      " 0.52285168 0.36941678 0.2269251  0.1504925 ]\n"
     ]
    }
   ],
   "source": [
    "print(X_train.mean(axis = 0), X_test.mean(axis = 0) ) #Checking the mean of the columns  \n",
    "print(X_train.var(axis = 0), X_test.var(axis = 0) ) #Checking the standard deviation approximatly one"
   ]
  },
  {
   "cell_type": "markdown",
   "metadata": {},
   "source": [
    "Notice in the previous cell, that the standard deviation for each column is not one, to correct this, \n",
    "we can apply the methd known as \"whitening\":\n",
    "\"\"The whitening operation takes the data in the eigenbasis and divides every dimension by the eigenvalue to normalize the scale. \n",
    "The geometric interpretation of this transformation is that if the input data is a multivariable gaussian, \n",
    "then the whitened data will be a gaussian with zero mean and identity covariance matrix.\""
   ]
  },
  {
   "cell_type": "code",
   "execution_count": 29,
   "metadata": {},
   "outputs": [
    {
     "name": "stdout",
     "output_type": "stream",
     "text": [
      "[-0.00656265  0.00041084 -0.04558085  0.02017162 -0.00474611  0.01288975\n",
      "  0.02604353  0.02686346  0.01066635 -0.00937867] [ 0.01213095 -0.00075943  0.08425551 -0.03728694  0.00877311 -0.0238265\n",
      " -0.04814108 -0.0496567  -0.01971658  0.01733634]\n",
      "[0.98895184 0.97974302 0.74831314 1.01743733 0.99334286 0.95732684\n",
      " 1.00849118 0.97667359 0.98445847 1.02500129] [1.02019257 1.03743441 1.45428499 0.96560081 1.01215817 1.07797455\n",
      " 0.98067943 1.03923865 1.0280002  0.95314194]\n"
     ]
    }
   ],
   "source": [
    "'''Withening  - Is it necessary??\n",
    "\"Warning: Exaggerating noise. Note that we’re adding 1e-5 (or a small constant) to prevent division by zero. \n",
    "One weakness of this transformation is that it can greatly exaggerate the noise in the data,\n",
    "since it stretches all dimensions (including the irrelevant dimensions of tiny variance that are mostly noise)\n",
    "to be of equal size in the input. This can in practice be mitigated by stronger smoothing \n",
    "(i.e. increasing 1e-5 to be a larger number).\" '''\n",
    "\n",
    "X_train = X_train / np.sqrt(D[:10] + 1e-5)\n",
    "X_test = X_test / np.sqrt(D[:10] + 1e-5)\n",
    "\n",
    "\n",
    "print(X_train.mean(axis = 0), X_test.mean(axis = 0) ) #Checking that the columns have mean approximatly zero \n",
    "print(X_train.var(axis = 0), X_test.var(axis = 0) ) #Checking that the columns have standard deviation approximatly one \n"
   ]
  },
  {
   "cell_type": "markdown",
   "metadata": {},
   "source": [
    "**Note: From this point `sklearn` [Pipeline](https://scikit-learn.org/stable/modules/compose.html) might be useful to perform transformations on the data. Refer to the [docs](https://scikit-learn.org/stable/modules/generated/sklearn.pipeline.Pipeline.html) for more information.**"
   ]
  },
  {
   "cell_type": "markdown",
   "metadata": {
    "nbgrader": {
     "grade": false,
     "grade_id": "cell-d28b58a35c94e988",
     "locked": true,
     "schema_version": 2,
     "solution": false
    }
   },
   "source": [
    "#### 2.4. Logistic regression on PCA-preprocessed data.\n",
    "* Find optimal hyperparameters for logistic regression with cross-validation on the transformed by PCA `train` data.\n",
    "\n",
    "* Estimate the model quality with `f1` and `accuracy` scores.\n",
    "* Plot a ROC-curve for the trained model. For the multiclass case you might use `scikitplot` library (e.g. `scikitplot.metrics.plot_roc(test_labels, predicted_proba)`).\n",
    "\n",
    "*Note: please, use the following hyperparameters for logistic regression: `multi_class='multinomial'`, `solver='saga'` and `tol=1e-3`*"
   ]
  },
  {
   "cell_type": "code",
   "execution_count": 30,
   "metadata": {
    "nbgrader": {
     "grade": true,
     "grade_id": "cell-12d53ea45258fa82",
     "locked": false,
     "points": 5,
     "schema_version": 2,
     "solution": true
    }
   },
   "outputs": [
    {
     "data": {
      "text/plain": [
       "'***************** Check bellow, in the next few cells my solution is presented and explained! '"
      ]
     },
     "execution_count": 30,
     "metadata": {},
     "output_type": "execute_result"
    }
   ],
   "source": [
    "### YOUR CODE HERE\n",
    "\n",
    "'''***************** Check bellow, in the next few cells my solution is presented and explained! '''"
   ]
  },
  {
   "cell_type": "markdown",
   "metadata": {},
   "source": [
    "## My solution\n",
    "\n",
    "## Finding optimal hyperparameters for C and penalty norm on the PCA-transformed data\n",
    "\n",
    "Cross validation grid search is used for a set of 20 different (along a logarithmic base 10 scale) values for C and for l2 and l1 norms, using as scoring f1 and accuracy.\n",
    "Two estimators are refitted relative to the best f1 and accuracy score, \n",
    "the scores are compared and the final model, with its optimal hyperparameters, is choosen as the one that yields the best score along with its hyperparameters"
   ]
  },
  {
   "cell_type": "code",
   "execution_count": 31,
   "metadata": {},
   "outputs": [
    {
     "name": "stdout",
     "output_type": "stream",
     "text": [
      "LogisticRegression(max_iter=500, multi_class='multinomial', solver='saga',\n",
      "                   tol=0.001)\n"
     ]
    }
   ],
   "source": [
    "logreg_clf_pca_red = LogisticRegression(multi_class='multinomial', solver='saga', tol=1e-3, max_iter=500)\n",
    "print(logreg_clf_pca_red)\n",
    "\n",
    "\n",
    "C_range = np.logspace(-4, 4, 20)\n",
    "penalty_range = np.array(['l2', 'l1'])\n",
    "grid_search_CV_parameters = {\n",
    "        'C':C_range,\n",
    "        'penalty':penalty_range\n",
    "        }\n",
    "scoring = {'f1':'f1_micro','accuracy':'accuracy'}"
   ]
  },
  {
   "cell_type": "code",
   "execution_count": 32,
   "metadata": {},
   "outputs": [
    {
     "name": "stdout",
     "output_type": "stream",
     "text": [
      "Fitting 5 folds for each of 40 candidates, totalling 200 fits\n",
      "\n",
      "##############################################################\n",
      "###  Grid Search Cross Validation results\n",
      "##############################################################\n",
      "*****Grid search-CV best estimator refitted for f1 =\n",
      "LogisticRegression(C=1.623776739188721, max_iter=500, multi_class='multinomial',\n",
      "                   solver='saga', tol=0.001)\n",
      "*****Grid search-CV best f1 score = 0.6902251876563803\n",
      "*****Grid search-CV best parameters for best estimator refitted for f1 = {'C': 1.623776739188721, 'penalty': 'l2'}\n",
      "\n"
     ]
    }
   ],
   "source": [
    "#**************First refitting relative to the best f1 score for the with PCA reduced data \n",
    "\n",
    "gridsearchCV_result = GridSearchCV(logreg_clf_pca_red, grid_search_CV_parameters, verbose = 1,\n",
    "                           cv = 5 , scoring = scoring, refit = 'f1' , n_jobs=-1 )\n",
    "\n",
    "#Performing cross validated grid search and refitting relative to the best f1 score for the with PCA reduced data \n",
    "gridsearchCV_result.fit(X_train, y_train) \n",
    "\n",
    "best_estimator_forf1 = gridsearchCV_result.best_estimator_\n",
    "best_f1score = gridsearchCV_result.best_score_\n",
    "best_estimator_params_forf1 = gridsearchCV_result.best_params_\n",
    "print(f'''\n",
    "##############################################################\n",
    "###  Grid Search Cross Validation results\n",
    "##############################################################\n",
    "*****Grid search-CV best estimator refitted for f1 =\\n{best_estimator_forf1}\n",
    "*****Grid search-CV best f1 score = {best_f1score}\n",
    "*****Grid search-CV best parameters for best estimator refitted for f1 = {best_estimator_params_forf1}\n",
    "''')"
   ]
  },
  {
   "cell_type": "code",
   "execution_count": 33,
   "metadata": {},
   "outputs": [
    {
     "name": "stdout",
     "output_type": "stream",
     "text": [
      "GridSearchCV(cv=5,\n",
      "             estimator=LogisticRegression(max_iter=500,\n",
      "                                          multi_class='multinomial',\n",
      "                                          solver='saga', tol=0.001),\n",
      "             n_jobs=-1,\n",
      "             param_grid={'C': array([1.00000000e-04, 2.63665090e-04, 6.95192796e-04, 1.83298071e-03,\n",
      "       4.83293024e-03, 1.27427499e-02, 3.35981829e-02, 8.85866790e-02,\n",
      "       2.33572147e-01, 6.15848211e-01, 1.62377674e+00, 4.28133240e+00,\n",
      "       1.12883789e+01, 2.97635144e+01, 7.84759970e+01, 2.06913808e+02,\n",
      "       5.45559478e+02, 1.43844989e+03, 3.79269019e+03, 1.00000000e+04]),\n",
      "                         'penalty': array(['l2', 'l1'], dtype='<U2')},\n",
      "             refit='accuracy',\n",
      "             scoring={'accuracy': 'accuracy', 'f1': 'f1_micro'}, verbose=1)\n",
      "Fitting 5 folds for each of 40 candidates, totalling 200 fits\n",
      "\n",
      "##############################################################\n",
      "###  Grid Search Cross Validation results\n",
      "##############################################################\n",
      "*****Grid search-CV best estimator refitted for accuracy =\n",
      "LogisticRegression(C=1.623776739188721, max_iter=500, multi_class='multinomial',\n",
      "                   solver='saga', tol=0.001)\n",
      "*****Grid search-CV best accuracy score = 0.6902251876563803\n",
      "*****Grid search-CV best parameters for best estimator refitted for accuracy = {'C': 1.623776739188721, 'penalty': 'l2'}\n",
      "\n"
     ]
    }
   ],
   "source": [
    "#**************Now refitting relative to the best accuracy score with PCA reduced data \n",
    "\n",
    "gridsearchCV_result = GridSearchCV(logreg_clf_pca_red, grid_search_CV_parameters, verbose = 1,\n",
    "                           cv = 5 , scoring = scoring, refit = 'accuracy' , n_jobs=-1 )\n",
    "\n",
    "print(gridsearchCV_result)\n",
    "\n",
    "\n",
    "#Performing cross validated grid search and refitting relative to the best accuracy score with PCA reduced data \n",
    "gridsearchCV_result.fit(X_train, y_train) \n",
    "\n",
    "best_estimator_foraccuracy = gridsearchCV_result.best_estimator_\n",
    "best_accuracyscore = gridsearchCV_result.best_score_\n",
    "best_estimator_params_foraccuracy = gridsearchCV_result.best_params_\n",
    "print(f'''\n",
    "##############################################################\n",
    "###  Grid Search Cross Validation results\n",
    "##############################################################\n",
    "*****Grid search-CV best estimator refitted for accuracy =\\n{best_estimator_foraccuracy}\n",
    "*****Grid search-CV best accuracy score = {best_accuracyscore}\n",
    "*****Grid search-CV best parameters for best estimator refitted for accuracy = {best_estimator_params_foraccuracy}\n",
    "''')"
   ]
  },
  {
   "cell_type": "code",
   "execution_count": 34,
   "metadata": {},
   "outputs": [
    {
     "name": "stdout",
     "output_type": "stream",
     "text": [
      "Estimator = LogisticRegression(C=1.623776739188721, max_iter=500, multi_class='multinomial',\n",
      "                   solver='saga', tol=0.001),\n",
      "Optimal hyperparameters -> C = 1.623776739188721, penalty = l2\n"
     ]
    }
   ],
   "source": [
    "#Comparing the best scores of the two estimators, and selecting the one with the best score along with its optimal hyperparameters \n",
    "\n",
    "if (max(best_f1score, best_accuracyscore) == best_accuracyscore ):\n",
    "    logreg_clf_pca_red = best_estimator_foraccuracy\n",
    "    optC = best_estimator_params_foraccuracy['C']\n",
    "    optpenalty = best_estimator_params_foraccuracy['penalty']\n",
    "else:\n",
    "    logreg_clf_pca_red = best_estimator_forf1\n",
    "    optC = best_estimator_params_forf1['C']\n",
    "    optpenalty = best_estimator_params_forf1['penalty']\n",
    "    \n",
    "print(f\"Estimator = {logreg_clf_pca_red},\\nOptimal hyperparameters -> C = {optC}, penalty = {optpenalty}\") "
   ]
  },
  {
   "cell_type": "markdown",
   "metadata": {},
   "source": [
    "## Estimating the quality using f1 and accuracy score for the Logistic Regression model trained with the PCA reduced data "
   ]
  },
  {
   "cell_type": "code",
   "execution_count": 35,
   "metadata": {},
   "outputs": [
    {
     "name": "stdout",
     "output_type": "stream",
     "text": [
      "\n",
      "#######################################################\n",
      "***** Missclassified count = 89 testing samples out of 297 testing samples ,\n",
      "***** Missclassified percentage = 29.97 %\n",
      "***** f1 score = 0.7003367003367004\n",
      "***** Accuracy Score = 0.7003367003367004\n",
      "#######################################################  \n",
      "\n",
      "\n",
      "######################################\n",
      "### Classification Report for optimal hyperparamenter C = 1.623776739188721, penalty = l2 \n",
      "######################################\n",
      "              precision    recall  f1-score   support\n",
      "\n",
      "         bus       0.79      0.92      0.85        78\n",
      "        opel       0.55      0.48      0.51        71\n",
      "        saab       0.55      0.48      0.51        79\n",
      "         van       0.85      0.93      0.89        69\n",
      "\n",
      "    accuracy                           0.70       297\n",
      "   macro avg       0.69      0.70      0.69       297\n",
      "weighted avg       0.68      0.70      0.69       297\n",
      "\n",
      "      \n"
     ]
    }
   ],
   "source": [
    "#Doing some predictions with the classifier and printing scores \n",
    "\n",
    "y_pred = logreg_clf_pca_red.predict(X_test)\n",
    "\n",
    "###################################################\n",
    "### Counting missclasified samples and calculating accuracy score\n",
    "##################################################\n",
    "\n",
    "f1 = f1_score(y_test, y_pred, average='micro')\n",
    "accuracy = accuracy_score(y_test, y_pred)\n",
    "missclfd = ( y_pred != y_test ).sum()\n",
    "\n",
    "\n",
    "print(f'''\n",
    "#######################################################\n",
    "***** Missclassified count = {missclfd} testing samples out of {len(y_test)} testing samples ,\n",
    "***** Missclassified percentage = {((missclfd / len(y_test)) * 100.0):.2f} %\n",
    "***** f1 score = {f1}\n",
    "***** Accuracy Score = {accuracy}\n",
    "#######################################################  \n",
    "''')\n",
    "print(f'''\n",
    "######################################\n",
    "### Classification Report for optimal hyperparamenter C = {optC}, penalty = {optpenalty} \n",
    "######################################\n",
    "{classification_report(y_test, y_pred)}\n",
    "      ''')"
   ]
  },
  {
   "cell_type": "markdown",
   "metadata": {},
   "source": [
    "## Plotting the ROC-curve for the Logistic Regression model trained with PCA reduced data "
   ]
  },
  {
   "cell_type": "code",
   "execution_count": 36,
   "metadata": {},
   "outputs": [
    {
     "data": {
      "text/plain": [
       "<AxesSubplot:title={'center':'ROC Curves'}, xlabel='False Positive Rate', ylabel='True Positive Rate'>"
      ]
     },
     "execution_count": 36,
     "metadata": {},
     "output_type": "execute_result"
    },
    {
     "data": {
      "image/png": "[encoded data removed]",
      "text/plain": [
       "<Figure size 640x480 with 1 Axes>"
      ]
     },
     "metadata": {},
     "output_type": "display_data"
    }
   ],
   "source": [
    "y_proba = logreg_clf_pca_red.predict_proba(X_test)\n",
    "\n",
    "skplt.metrics.plot_roc(y_test, y_proba)"
   ]
  },
  {
   "cell_type": "markdown",
   "metadata": {
    "nbgrader": {
     "grade": false,
     "grade_id": "cell-4fbf16c64076e139",
     "locked": true,
     "schema_version": 2,
     "solution": false
    }
   },
   "source": [
    "#### 2.5. Decision tree\n",
    "* Now train a desicion tree on the same data. Find optimal tree depth (`max_depth`) using cross-validation.\n",
    "\n",
    "* Measure the model quality using the same metrics you used above."
   ]
  },
  {
   "cell_type": "code",
   "execution_count": 37,
   "metadata": {
    "nbgrader": {
     "grade": true,
     "grade_id": "cell-748ed20b51c67fab",
     "locked": false,
     "points": 15,
     "schema_version": 2,
     "solution": true
    }
   },
   "outputs": [
    {
     "name": "stdout",
     "output_type": "stream",
     "text": [
      "DecisionTreeClassifier()\n",
      "Fitting 5 folds for each of 47 candidates, totalling 235 fits\n",
      "\n",
      "##############################################################\n",
      "###  Grid Search Cross Validation results\n",
      "##############################################################\n",
      "*****Grid search-CV best estimator =\n",
      "DecisionTreeClassifier(max_depth=12)\n",
      "*****Grid search-CV best maximum depth = {'max_depth': 12}\n",
      "\n"
     ]
    }
   ],
   "source": [
    "from sklearn.tree import DecisionTreeClassifier\n",
    "\n",
    "# YOUR CODE HERE\n",
    "dectree_clf = DecisionTreeClassifier()\n",
    "print(dectree_clf)\n",
    "\n",
    "grid_search_CV_parameters = {'max_depth':range(3, 50)}\n",
    "\n",
    "gridsearchCV_result = GridSearchCV(dectree_clf, grid_search_CV_parameters, verbose = 1,\n",
    "                           cv = 5 , n_jobs=-1 )\n",
    "\n",
    "#Performing cross validated grid search and refitting\n",
    "gridsearchCV_result.fit(X_train, y_train) \n",
    "\n",
    "best_estimator = gridsearchCV_result.best_estimator_\n",
    "best_estimator_params = gridsearchCV_result.best_params_\n",
    "print(f'''\n",
    "##############################################################\n",
    "###  Grid Search Cross Validation results\n",
    "##############################################################\n",
    "*****Grid search-CV best estimator =\\n{best_estimator}\n",
    "*****Grid search-CV best maximum depth = {best_estimator_params}\n",
    "''')"
   ]
  },
  {
   "cell_type": "markdown",
   "metadata": {},
   "source": [
    "## Estimating the model quality using f1 and accuracy score for the Decision Tree model trained with PCA reduced data"
   ]
  },
  {
   "cell_type": "code",
   "execution_count": 38,
   "metadata": {},
   "outputs": [
    {
     "name": "stdout",
     "output_type": "stream",
     "text": [
      "\n",
      "#######################################################\n",
      "***** Missclassified count = 108 testing samples out of 297 testing samples ,\n",
      "***** Missclassified percentage = 36.36 %\n",
      "***** f1 score = 0.6363636363636364\n",
      "***** Accuracy Score = 0.6363636363636364\n",
      "#######################################################  \n",
      "\n",
      "\n",
      "######################################\n",
      "### Classification Report for optimal hyperparamenter max_depth = {'max_depth': 12}\n",
      "######################################\n",
      "              precision    recall  f1-score   support\n",
      "\n",
      "         bus       0.85      0.90      0.88        78\n",
      "        opel       0.47      0.48      0.48        71\n",
      "        saab       0.44      0.39      0.41        79\n",
      "         van       0.75      0.78      0.77        69\n",
      "\n",
      "    accuracy                           0.64       297\n",
      "   macro avg       0.63      0.64      0.63       297\n",
      "weighted avg       0.63      0.64      0.63       297\n",
      "\n",
      "      \n"
     ]
    }
   ],
   "source": [
    "#Doing some predictions with the classifier and printing scores \n",
    "\n",
    "dectree_clf = best_estimator\n",
    "optMaxdepth = best_estimator_params\n",
    "y_pred = dectree_clf.predict(X_test)\n",
    "\n",
    "###################################################\n",
    "### Counting missclasified samples and calculating accuracy score\n",
    "##################################################\n",
    "\n",
    "f1 = f1_score(y_test, y_pred, average='micro')\n",
    "accuracy = accuracy_score(y_test, y_pred)\n",
    "missclfd = ( y_pred != y_test ).sum()\n",
    "\n",
    "\n",
    "print(f'''\n",
    "#######################################################\n",
    "***** Missclassified count = {missclfd} testing samples out of {len(y_test)} testing samples ,\n",
    "***** Missclassified percentage = {((missclfd / len(y_test)) * 100.0):.2f} %\n",
    "***** f1 score = {f1}\n",
    "***** Accuracy Score = {accuracy}\n",
    "#######################################################  \n",
    "''')\n",
    "print(f'''\n",
    "######################################\n",
    "### Classification Report for optimal hyperparamenter max_depth = {optMaxdepth}\n",
    "######################################\n",
    "{classification_report(y_test, y_pred)}\n",
    "      ''')"
   ]
  },
  {
   "cell_type": "markdown",
   "metadata": {},
   "source": [
    "## Plotting the ROC-curve for the Decision Tree model trained PCA reduced data"
   ]
  },
  {
   "cell_type": "code",
   "execution_count": 39,
   "metadata": {},
   "outputs": [
    {
     "data": {
      "text/plain": [
       "<AxesSubplot:title={'center':'ROC Curves'}, xlabel='False Positive Rate', ylabel='True Positive Rate'>"
      ]
     },
     "execution_count": 39,
     "metadata": {},
     "output_type": "execute_result"
    },
    {
     "data": {
      "image/png": "[encoded data removed]",
      "text/plain": [
       "<Figure size 640x480 with 1 Axes>"
      ]
     },
     "metadata": {},
     "output_type": "display_data"
    }
   ],
   "source": [
    "y_proba = dectree_clf.predict_proba(X_test)\n",
    "\n",
    "skplt.metrics.plot_roc(y_test, y_proba)"
   ]
  },
  {
   "cell_type": "markdown",
   "metadata": {
    "nbgrader": {
     "grade": false,
     "grade_id": "cell-9eadd4d8a03ae67a",
     "locked": true,
     "schema_version": 2,
     "solution": false
    }
   },
   "source": [
    "#### 2.6. Bagging.\n",
    "Here starts the ensembling part.\n",
    "\n",
    "First we will use the __Bagging__ approach. Build an ensemble of $N$ algorithms varying N from $N_{min}=2$ to $N_{max}=100$ (with step 5).\n",
    "\n",
    "We will build two ensembles: of logistic regressions and of decision trees.\n",
    "\n",
    "*Comment: each ensemble should be constructed from models of the same family, so logistic regressions should not be mixed up with decision trees.*\n",
    "\n",
    "\n",
    "*Hint 1: To build a __Bagging__ ensebmle varying the ensemble size efficiently you might generate $N_{max}$ subsets of `train` data (of the same size as the original dataset) using bootstrap procedure once. Then you train a new instance of logistic regression/decision tree with optimal hyperparameters you estimated before on each subset (so you train it from scratch). Finally, to get an ensemble of $N$ models you average the $N$ out of $N_{max}$ models predictions.*\n",
    "\n",
    "*Hint 2: sklearn might help you with this taks. Some appropriate function/class might be out there.*\n",
    "\n",
    "* Plot `f1` and `accuracy` scores plots w.r.t. the size of the ensemble.\n",
    "\n",
    "* Briefly analyse the plot. What is the optimal number of algorithms? Explain your answer.\n",
    "\n",
    "* How do you think, are the hyperparameters for the decision trees you found in 2.5 optimal for trees used in ensemble? "
   ]
  },
  {
   "cell_type": "code",
   "execution_count": 40,
   "metadata": {
    "nbgrader": {
     "grade": true,
     "grade_id": "cell-8fc95a2b206bdae1",
     "locked": false,
     "points": 35,
     "schema_version": 2,
     "solution": true
    }
   },
   "outputs": [],
   "source": [
    "# YOUR CODE HERE"
   ]
  },
  {
   "cell_type": "code",
   "execution_count": null,
   "metadata": {},
   "outputs": [],
   "source": []
  },
  {
   "cell_type": "markdown",
   "metadata": {
    "nbgrader": {
     "grade": false,
     "grade_id": "cell-241b7691ab44cbfb",
     "locked": true,
     "schema_version": 2,
     "solution": false
    }
   },
   "source": [
    "#### 2.7. Random Forest\n",
    "Now we will work with the Random Forest (its `sklearn` implementation).\n",
    "\n",
    "* * Plot `f1` and `accuracy` scores plots w.r.t. the number of trees in Random Forest.\n",
    "\n",
    "* What is the optimal number of trees you've got? Is it different from the optimal number of logistic regressions/decision trees in 2.6? Explain the results briefly."
   ]
  },
  {
   "cell_type": "code",
   "execution_count": 41,
   "metadata": {
    "nbgrader": {
     "grade": true,
     "grade_id": "cell-888755d0f3d91620",
     "locked": false,
     "points": 15,
     "schema_version": 2,
     "solution": true
    }
   },
   "outputs": [
    {
     "name": "stdout",
     "output_type": "stream",
     "text": [
      "RandomForestClassifier(random_state=117)\n",
      "RandomForestClassifier(random_state=117) {'n_estimators': [50, 100, 150, 200, 250, 300, 350, 400, 450, 500], 'max_depth': range(3, 50)}\n"
     ]
    }
   ],
   "source": [
    "from sklearn.ensemble import RandomForestClassifier\n",
    "\n",
    "# YOUR CODE HERE\n",
    "randtree_clf = RandomForestClassifier(random_state = 117)\n",
    "print(randtree_clf)\n",
    "n_estimators = [int(i) for i in np.linspace(start = 50, stop = 500, num = 10)]\n",
    "max_depth = range(3, 50)\n",
    "\n",
    "grid_search_CV_parameters = {\n",
    "        'n_estimators':n_estimators,\n",
    "        'max_depth':max_depth\n",
    "        }\n",
    "\n",
    "print(randtree_clf, grid_search_CV_parameters)"
   ]
  },
  {
   "cell_type": "code",
   "execution_count": 42,
   "metadata": {},
   "outputs": [
    {
     "name": "stdout",
     "output_type": "stream",
     "text": [
      "Fitting 5 folds for each of 470 candidates, totalling 2350 fits\n",
      "\n",
      "##############################################################\n",
      "###  Grid Search Cross Validation results\n",
      "##############################################################\n",
      "*****Grid search-CV best estimator =\n",
      "RandomForestClassifier(max_depth=9, random_state=117)\n",
      "*****Grid search-CV best maximum depth = {'max_depth': 9, 'n_estimators': 100}\n",
      "\n"
     ]
    }
   ],
   "source": [
    "gridsearchCV_result = GridSearchCV(randtree_clf, grid_search_CV_parameters, verbose = 1,\n",
    "                           cv = 5 , n_jobs=-1 )\n",
    "\n",
    "#Performing cross validated grid search and refitting\n",
    "gridsearchCV_result.fit(X_train, y_train) \n",
    "\n",
    "best_estimator = gridsearchCV_result.best_estimator_\n",
    "best_estimator_params = gridsearchCV_result.best_params_\n",
    "print(f'''\n",
    "##############################################################\n",
    "###  Grid Search Cross Validation results\n",
    "##############################################################\n",
    "*****Grid search-CV best estimator =\\n{best_estimator}\n",
    "*****Grid search-CV best maximum depth = {best_estimator_params}\n",
    "''')"
   ]
  },
  {
   "cell_type": "code",
   "execution_count": 43,
   "metadata": {},
   "outputs": [
    {
     "name": "stdout",
     "output_type": "stream",
     "text": [
      "\n",
      "#######################################################\n",
      "***** Missclassified count = 88 testing samples out of 297 testing samples ,\n",
      "***** Missclassified percentage = 29.63 %\n",
      "***** f1 score = 0.7037037037037037\n",
      "***** Accuracy Score = 0.7037037037037037\n",
      "#######################################################  \n",
      "\n",
      "\n",
      "######################################\n",
      "### Classification Report for optimal hyperparamenter max_depth = 9 and number of trees = 100\n",
      "######################################\n",
      "              precision    recall  f1-score   support\n",
      "\n",
      "         bus       0.84      0.97      0.90        78\n",
      "        opel       0.55      0.46      0.50        71\n",
      "        saab       0.55      0.52      0.53        79\n",
      "         van       0.82      0.86      0.84        69\n",
      "\n",
      "    accuracy                           0.70       297\n",
      "   macro avg       0.69      0.70      0.69       297\n",
      "weighted avg       0.69      0.70      0.69       297\n",
      "\n",
      "      \n"
     ]
    }
   ],
   "source": [
    "#Doing some predictions with the classifier and printing scores \n",
    "\n",
    "randtree_clf = best_estimator\n",
    "optMaxdepthrand = best_estimator_params['max_depth']\n",
    "optn_estimators = best_estimator_params['n_estimators']\n",
    "y_pred = randtree_clf.predict(X_test)\n",
    "\n",
    "###################################################\n",
    "### Counting missclasified samples and calculating accuracy score\n",
    "##################################################\n",
    "\n",
    "f1 = f1_score(y_test, y_pred, average='micro')\n",
    "accuracy = accuracy_score(y_test, y_pred)\n",
    "missclfd = ( y_pred != y_test ).sum()\n",
    "\n",
    "\n",
    "print(f'''\n",
    "#######################################################\n",
    "***** Missclassified count = {missclfd} testing samples out of {len(y_test)} testing samples ,\n",
    "***** Missclassified percentage = {((missclfd / len(y_test)) * 100.0):.2f} %\n",
    "***** f1 score = {f1}\n",
    "***** Accuracy Score = {accuracy}\n",
    "#######################################################  \n",
    "''')\n",
    "print(f'''\n",
    "######################################\n",
    "### Classification Report for optimal hyperparamenter max_depth = {optMaxdepthrand} and number of trees = {optn_estimators}\n",
    "######################################\n",
    "{classification_report(y_test, y_pred)}\n",
    "      ''')"
   ]
  },
  {
   "cell_type": "code",
   "execution_count": 44,
   "metadata": {},
   "outputs": [
    {
     "data": {
      "text/plain": [
       "<AxesSubplot:title={'center':'ROC Curves'}, xlabel='False Positive Rate', ylabel='True Positive Rate'>"
      ]
     },
     "execution_count": 44,
     "metadata": {},
     "output_type": "execute_result"
    },
    {
     "data": {
      "image/png": "[encoded data removed]",
      "text/plain": [
       "<Figure size 640x480 with 1 Axes>"
      ]
     },
     "metadata": {},
     "output_type": "display_data"
    }
   ],
   "source": [
    "y_proba = randtree_clf.predict_proba(X_test)\n",
    "\n",
    "skplt.metrics.plot_roc(y_test, y_proba)"
   ]
  },
  {
   "cell_type": "markdown",
   "metadata": {
    "nbgrader": {
     "grade": false,
     "grade_id": "cell-99191c0852538d4d",
     "locked": true,
     "schema_version": 2,
     "solution": false
    }
   },
   "source": [
    "#### 2.8. Learning curve\n",
    "Your goal is to estimate, how does the model behaviour change with the increase of the `train` dataset size.\n",
    "\n",
    "* Split the training data into 10 equal (almost) parts. Then train the models from above (Logistic regression, Desicion Tree, Random Forest) with optimal hyperparameters you have selected on 1 part, 2 parts (combined, so the train size in increased by 2 times), 3 parts and so on.\n",
    "\n",
    "* Build a plot of `accuracy` and `f1` scores on `test` part, varying the `train` dataset size (so the axes will be score - dataset size.\n",
    "\n",
    "* Analyse the final plot. Can you make any conlusions using it? "
   ]
  },
  {
   "cell_type": "code",
   "execution_count": 45,
   "metadata": {
    "nbgrader": {
     "grade": true,
     "grade_id": "cell-e39bc7e7dff61ff9",
     "locked": false,
     "points": 15,
     "schema_version": 2,
     "solution": true
    }
   },
   "outputs": [],
   "source": [
    "# YOUR CODE HERE"
   ]
  }
 ],
 "metadata": {
  "celltoolbar": "Create Assignment",
  "kernelspec": {
   "display_name": "Python 3 (ipykernel)",
   "language": "python",
   "name": "python3"
  },
  "language_info": {
   "codemirror_mode": {
    "name": "ipython",
    "version": 3
   },
   "file_extension": ".py",
   "mimetype": "text/x-python",
   "name": "python",
   "nbconvert_exporter": "python",
   "pygments_lexer": "ipython3",
   "version": "3.9.7"
  },
  "toc": {
   "base_numbering": 1,
   "nav_menu": {},
   "number_sections": false,
   "sideBar": true,
   "skip_h1_title": false,
   "title_cell": "Table of Contents",
   "title_sidebar": "Contents",
   "toc_cell": false,
   "toc_position": {},
   "toc_section_display": true,
   "toc_window_display": false
  }
 },
 "nbformat": 4,
 "nbformat_minor": 4
}
