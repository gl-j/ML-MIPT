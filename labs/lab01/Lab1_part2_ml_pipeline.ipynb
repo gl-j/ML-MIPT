{
 "cells": [
  {
   "cell_type": "markdown",
   "metadata": {
    "nbgrader": {
     "grade": false,
     "grade_id": "cell-86e0de040aac317a",
     "locked": true,
     "schema_version": 2,
     "solution": false
    }
   },
   "source": [
    "# Lab assignment №1, part 2\n",
    "\n",
    "This lab assignment consists of several parts. You are supposed to make some transformations, train some models, estimate the quality of the models and explain your results.\n",
    "\n",
    "Several comments:\n",
    "* Don't hesitate to ask questions, it's a good practice.\n",
    "* No private/public sharing, please. The copied assignments will be graded with 0 points.\n",
    "* Blocks of this lab will be graded separately."
   ]
  },
  {
   "cell_type": "markdown",
   "metadata": {},
   "source": [
    "__*This is the second part of the assignment. First and third parts are waiting for you in the same directory.*__"
   ]
  },
  {
   "cell_type": "markdown",
   "metadata": {
    "nbgrader": {
     "grade": false,
     "grade_id": "cell-512ba712fc0fc065",
     "locked": true,
     "schema_version": 2,
     "solution": false
    }
   },
   "source": [
    "## Part 2. Data preprocessing, model training and evaluation."
   ]
  },
  {
   "cell_type": "markdown",
   "metadata": {
    "nbgrader": {
     "grade": false,
     "grade_id": "cell-b656a4266174b009",
     "locked": true,
     "schema_version": 2,
     "solution": false
    }
   },
   "source": [
    "### 1. Reading the data\n",
    "Today we work with the [dataset](https://archive.ics.uci.edu/ml/datasets/Statlog+%28Vehicle+Silhouettes%29), describing different cars for multiclass ($k=4$) classification problem. The data is available below."
   ]
  },
  {
   "cell_type": "code",
   "execution_count": 1,
   "metadata": {},
   "outputs": [],
   "source": [
    "# If on colab, uncomment the following lines\n",
    "\n",
    "# ! wget https://raw.githubusercontent.com/girafe-ai/ml-course/22f_made/homeworks/lab01_ml_pipeline/car_data.csv"
   ]
  },
  {
   "cell_type": "code",
   "execution_count": 2,
   "metadata": {
    "nbgrader": {
     "grade": false,
     "grade_id": "cell-eebac6bfdf73d0bc",
     "locked": true,
     "schema_version": 2,
     "solution": false
    }
   },
   "outputs": [
    {
     "name": "stdout",
     "output_type": "stream",
     "text": [
      "(846, 19) (846,)\n",
      "(549, 19) (549,) (297, 19) (297,)\n"
     ]
    }
   ],
   "source": [
    "import pandas as pd\n",
    "import numpy as np\n",
    "from sklearn.model_selection import train_test_split\n",
    "\n",
    "dataset = pd.read_csv('car_data.csv', delimiter=',', header=None).values\n",
    "data = dataset[:, :-1].astype(int)\n",
    "target = dataset[:, -1]\n",
    "\n",
    "print(data.shape, target.shape)\n",
    "\n",
    "X_train, X_test, y_train, y_test = train_test_split(data, target, test_size=0.35)\n",
    "print(X_train.shape, y_train.shape, X_test.shape, y_test.shape)"
   ]
  },
  {
   "cell_type": "markdown",
   "metadata": {
    "nbgrader": {
     "grade": false,
     "grade_id": "cell-88b1a0f688568f2c",
     "locked": true,
     "schema_version": 2,
     "solution": false
    }
   },
   "source": [
    "To get some insights about the dataset, `pandas` might be used. The `train` part is transformed to `pd.DataFrame` below."
   ]
  },
  {
   "cell_type": "code",
   "execution_count": 3,
   "metadata": {},
   "outputs": [
    {
     "data": {
      "text/html": [
       "<div>\n",
       "<style scoped>\n",
       "    .dataframe tbody tr th:only-of-type {\n",
       "        vertical-align: middle;\n",
       "    }\n",
       "\n",
       "    .dataframe tbody tr th {\n",
       "        vertical-align: top;\n",
       "    }\n",
       "\n",
       "    .dataframe thead th {\n",
       "        text-align: right;\n",
       "    }\n",
       "</style>\n",
       "<table border=\"1\" class=\"dataframe\">\n",
       "  <thead>\n",
       "    <tr style=\"text-align: right;\">\n",
       "      <th></th>\n",
       "      <th>0</th>\n",
       "      <th>1</th>\n",
       "      <th>2</th>\n",
       "      <th>3</th>\n",
       "      <th>4</th>\n",
       "      <th>5</th>\n",
       "      <th>6</th>\n",
       "      <th>7</th>\n",
       "      <th>8</th>\n",
       "      <th>9</th>\n",
       "      <th>10</th>\n",
       "      <th>11</th>\n",
       "      <th>12</th>\n",
       "      <th>13</th>\n",
       "      <th>14</th>\n",
       "      <th>15</th>\n",
       "      <th>16</th>\n",
       "      <th>17</th>\n",
       "      <th>18</th>\n",
       "    </tr>\n",
       "  </thead>\n",
       "  <tbody>\n",
       "    <tr>\n",
       "      <th>0</th>\n",
       "      <td>14</td>\n",
       "      <td>94</td>\n",
       "      <td>49</td>\n",
       "      <td>79</td>\n",
       "      <td>203</td>\n",
       "      <td>71</td>\n",
       "      <td>5</td>\n",
       "      <td>174</td>\n",
       "      <td>37</td>\n",
       "      <td>21</td>\n",
       "      <td>154</td>\n",
       "      <td>196</td>\n",
       "      <td>465</td>\n",
       "      <td>206</td>\n",
       "      <td>71</td>\n",
       "      <td>6</td>\n",
       "      <td>2</td>\n",
       "      <td>197</td>\n",
       "      <td>199</td>\n",
       "    </tr>\n",
       "    <tr>\n",
       "      <th>1</th>\n",
       "      <td>588</td>\n",
       "      <td>89</td>\n",
       "      <td>38</td>\n",
       "      <td>78</td>\n",
       "      <td>153</td>\n",
       "      <td>61</td>\n",
       "      <td>7</td>\n",
       "      <td>146</td>\n",
       "      <td>46</td>\n",
       "      <td>19</td>\n",
       "      <td>127</td>\n",
       "      <td>166</td>\n",
       "      <td>314</td>\n",
       "      <td>142</td>\n",
       "      <td>69</td>\n",
       "      <td>0</td>\n",
       "      <td>9</td>\n",
       "      <td>187</td>\n",
       "      <td>194</td>\n",
       "    </tr>\n",
       "    <tr>\n",
       "      <th>2</th>\n",
       "      <td>657</td>\n",
       "      <td>89</td>\n",
       "      <td>45</td>\n",
       "      <td>85</td>\n",
       "      <td>149</td>\n",
       "      <td>59</td>\n",
       "      <td>11</td>\n",
       "      <td>158</td>\n",
       "      <td>43</td>\n",
       "      <td>20</td>\n",
       "      <td>158</td>\n",
       "      <td>177</td>\n",
       "      <td>362</td>\n",
       "      <td>173</td>\n",
       "      <td>75</td>\n",
       "      <td>12</td>\n",
       "      <td>16</td>\n",
       "      <td>183</td>\n",
       "      <td>193</td>\n",
       "    </tr>\n",
       "    <tr>\n",
       "      <th>3</th>\n",
       "      <td>678</td>\n",
       "      <td>86</td>\n",
       "      <td>45</td>\n",
       "      <td>70</td>\n",
       "      <td>122</td>\n",
       "      <td>56</td>\n",
       "      <td>7</td>\n",
       "      <td>148</td>\n",
       "      <td>45</td>\n",
       "      <td>19</td>\n",
       "      <td>144</td>\n",
       "      <td>170</td>\n",
       "      <td>324</td>\n",
       "      <td>186</td>\n",
       "      <td>84</td>\n",
       "      <td>9</td>\n",
       "      <td>5</td>\n",
       "      <td>180</td>\n",
       "      <td>183</td>\n",
       "    </tr>\n",
       "    <tr>\n",
       "      <th>4</th>\n",
       "      <td>779</td>\n",
       "      <td>96</td>\n",
       "      <td>39</td>\n",
       "      <td>64</td>\n",
       "      <td>111</td>\n",
       "      <td>48</td>\n",
       "      <td>8</td>\n",
       "      <td>134</td>\n",
       "      <td>52</td>\n",
       "      <td>18</td>\n",
       "      <td>141</td>\n",
       "      <td>160</td>\n",
       "      <td>258</td>\n",
       "      <td>139</td>\n",
       "      <td>80</td>\n",
       "      <td>7</td>\n",
       "      <td>20</td>\n",
       "      <td>183</td>\n",
       "      <td>184</td>\n",
       "    </tr>\n",
       "    <tr>\n",
       "      <th>5</th>\n",
       "      <td>11</td>\n",
       "      <td>90</td>\n",
       "      <td>34</td>\n",
       "      <td>66</td>\n",
       "      <td>136</td>\n",
       "      <td>55</td>\n",
       "      <td>6</td>\n",
       "      <td>123</td>\n",
       "      <td>54</td>\n",
       "      <td>17</td>\n",
       "      <td>118</td>\n",
       "      <td>148</td>\n",
       "      <td>224</td>\n",
       "      <td>118</td>\n",
       "      <td>65</td>\n",
       "      <td>5</td>\n",
       "      <td>26</td>\n",
       "      <td>196</td>\n",
       "      <td>202</td>\n",
       "    </tr>\n",
       "    <tr>\n",
       "      <th>6</th>\n",
       "      <td>688</td>\n",
       "      <td>89</td>\n",
       "      <td>35</td>\n",
       "      <td>52</td>\n",
       "      <td>121</td>\n",
       "      <td>57</td>\n",
       "      <td>4</td>\n",
       "      <td>122</td>\n",
       "      <td>55</td>\n",
       "      <td>17</td>\n",
       "      <td>125</td>\n",
       "      <td>139</td>\n",
       "      <td>220</td>\n",
       "      <td>128</td>\n",
       "      <td>82</td>\n",
       "      <td>5</td>\n",
       "      <td>13</td>\n",
       "      <td>181</td>\n",
       "      <td>184</td>\n",
       "    </tr>\n",
       "    <tr>\n",
       "      <th>7</th>\n",
       "      <td>213</td>\n",
       "      <td>104</td>\n",
       "      <td>49</td>\n",
       "      <td>89</td>\n",
       "      <td>168</td>\n",
       "      <td>54</td>\n",
       "      <td>4</td>\n",
       "      <td>212</td>\n",
       "      <td>31</td>\n",
       "      <td>24</td>\n",
       "      <td>153</td>\n",
       "      <td>238</td>\n",
       "      <td>682</td>\n",
       "      <td>198</td>\n",
       "      <td>78</td>\n",
       "      <td>1</td>\n",
       "      <td>23</td>\n",
       "      <td>190</td>\n",
       "      <td>189</td>\n",
       "    </tr>\n",
       "    <tr>\n",
       "      <th>8</th>\n",
       "      <td>94</td>\n",
       "      <td>84</td>\n",
       "      <td>45</td>\n",
       "      <td>66</td>\n",
       "      <td>154</td>\n",
       "      <td>65</td>\n",
       "      <td>6</td>\n",
       "      <td>145</td>\n",
       "      <td>46</td>\n",
       "      <td>19</td>\n",
       "      <td>144</td>\n",
       "      <td>168</td>\n",
       "      <td>312</td>\n",
       "      <td>177</td>\n",
       "      <td>73</td>\n",
       "      <td>2</td>\n",
       "      <td>3</td>\n",
       "      <td>184</td>\n",
       "      <td>188</td>\n",
       "    </tr>\n",
       "    <tr>\n",
       "      <th>9</th>\n",
       "      <td>303</td>\n",
       "      <td>89</td>\n",
       "      <td>36</td>\n",
       "      <td>68</td>\n",
       "      <td>149</td>\n",
       "      <td>60</td>\n",
       "      <td>8</td>\n",
       "      <td>133</td>\n",
       "      <td>50</td>\n",
       "      <td>18</td>\n",
       "      <td>134</td>\n",
       "      <td>153</td>\n",
       "      <td>265</td>\n",
       "      <td>119</td>\n",
       "      <td>62</td>\n",
       "      <td>6</td>\n",
       "      <td>18</td>\n",
       "      <td>201</td>\n",
       "      <td>209</td>\n",
       "    </tr>\n",
       "    <tr>\n",
       "      <th>10</th>\n",
       "      <td>820</td>\n",
       "      <td>87</td>\n",
       "      <td>38</td>\n",
       "      <td>71</td>\n",
       "      <td>123</td>\n",
       "      <td>53</td>\n",
       "      <td>8</td>\n",
       "      <td>137</td>\n",
       "      <td>49</td>\n",
       "      <td>18</td>\n",
       "      <td>127</td>\n",
       "      <td>158</td>\n",
       "      <td>277</td>\n",
       "      <td>145</td>\n",
       "      <td>75</td>\n",
       "      <td>0</td>\n",
       "      <td>9</td>\n",
       "      <td>181</td>\n",
       "      <td>186</td>\n",
       "    </tr>\n",
       "    <tr>\n",
       "      <th>11</th>\n",
       "      <td>279</td>\n",
       "      <td>94</td>\n",
       "      <td>37</td>\n",
       "      <td>73</td>\n",
       "      <td>186</td>\n",
       "      <td>71</td>\n",
       "      <td>7</td>\n",
       "      <td>154</td>\n",
       "      <td>42</td>\n",
       "      <td>19</td>\n",
       "      <td>127</td>\n",
       "      <td>171</td>\n",
       "      <td>362</td>\n",
       "      <td>132</td>\n",
       "      <td>67</td>\n",
       "      <td>2</td>\n",
       "      <td>8</td>\n",
       "      <td>197</td>\n",
       "      <td>206</td>\n",
       "    </tr>\n",
       "    <tr>\n",
       "      <th>12</th>\n",
       "      <td>211</td>\n",
       "      <td>86</td>\n",
       "      <td>37</td>\n",
       "      <td>69</td>\n",
       "      <td>150</td>\n",
       "      <td>63</td>\n",
       "      <td>8</td>\n",
       "      <td>138</td>\n",
       "      <td>48</td>\n",
       "      <td>18</td>\n",
       "      <td>134</td>\n",
       "      <td>163</td>\n",
       "      <td>284</td>\n",
       "      <td>124</td>\n",
       "      <td>71</td>\n",
       "      <td>1</td>\n",
       "      <td>6</td>\n",
       "      <td>189</td>\n",
       "      <td>195</td>\n",
       "    </tr>\n",
       "    <tr>\n",
       "      <th>13</th>\n",
       "      <td>326</td>\n",
       "      <td>106</td>\n",
       "      <td>49</td>\n",
       "      <td>96</td>\n",
       "      <td>201</td>\n",
       "      <td>61</td>\n",
       "      <td>10</td>\n",
       "      <td>181</td>\n",
       "      <td>36</td>\n",
       "      <td>21</td>\n",
       "      <td>158</td>\n",
       "      <td>197</td>\n",
       "      <td>494</td>\n",
       "      <td>180</td>\n",
       "      <td>62</td>\n",
       "      <td>19</td>\n",
       "      <td>15</td>\n",
       "      <td>202</td>\n",
       "      <td>209</td>\n",
       "    </tr>\n",
       "    <tr>\n",
       "      <th>14</th>\n",
       "      <td>566</td>\n",
       "      <td>108</td>\n",
       "      <td>54</td>\n",
       "      <td>103</td>\n",
       "      <td>212</td>\n",
       "      <td>65</td>\n",
       "      <td>11</td>\n",
       "      <td>208</td>\n",
       "      <td>32</td>\n",
       "      <td>24</td>\n",
       "      <td>162</td>\n",
       "      <td>228</td>\n",
       "      <td>648</td>\n",
       "      <td>240</td>\n",
       "      <td>71</td>\n",
       "      <td>9</td>\n",
       "      <td>0</td>\n",
       "      <td>189</td>\n",
       "      <td>197</td>\n",
       "    </tr>\n",
       "  </tbody>\n",
       "</table>\n",
       "</div>"
      ],
      "text/plain": [
       "     0    1   2    3    4   5   6    7   8   9    10   11   12   13  14  15  \\\n",
       "0    14   94  49   79  203  71   5  174  37  21  154  196  465  206  71   6   \n",
       "1   588   89  38   78  153  61   7  146  46  19  127  166  314  142  69   0   \n",
       "2   657   89  45   85  149  59  11  158  43  20  158  177  362  173  75  12   \n",
       "3   678   86  45   70  122  56   7  148  45  19  144  170  324  186  84   9   \n",
       "4   779   96  39   64  111  48   8  134  52  18  141  160  258  139  80   7   \n",
       "5    11   90  34   66  136  55   6  123  54  17  118  148  224  118  65   5   \n",
       "6   688   89  35   52  121  57   4  122  55  17  125  139  220  128  82   5   \n",
       "7   213  104  49   89  168  54   4  212  31  24  153  238  682  198  78   1   \n",
       "8    94   84  45   66  154  65   6  145  46  19  144  168  312  177  73   2   \n",
       "9   303   89  36   68  149  60   8  133  50  18  134  153  265  119  62   6   \n",
       "10  820   87  38   71  123  53   8  137  49  18  127  158  277  145  75   0   \n",
       "11  279   94  37   73  186  71   7  154  42  19  127  171  362  132  67   2   \n",
       "12  211   86  37   69  150  63   8  138  48  18  134  163  284  124  71   1   \n",
       "13  326  106  49   96  201  61  10  181  36  21  158  197  494  180  62  19   \n",
       "14  566  108  54  103  212  65  11  208  32  24  162  228  648  240  71   9   \n",
       "\n",
       "    16   17   18  \n",
       "0    2  197  199  \n",
       "1    9  187  194  \n",
       "2   16  183  193  \n",
       "3    5  180  183  \n",
       "4   20  183  184  \n",
       "5   26  196  202  \n",
       "6   13  181  184  \n",
       "7   23  190  189  \n",
       "8    3  184  188  \n",
       "9   18  201  209  \n",
       "10   9  181  186  \n",
       "11   8  197  206  \n",
       "12   6  189  195  \n",
       "13  15  202  209  \n",
       "14   0  189  197  "
      ]
     },
     "execution_count": 3,
     "metadata": {},
     "output_type": "execute_result"
    }
   ],
   "source": [
    "X_train_pd = pd.DataFrame(X_train)\n",
    "\n",
    "# First 15 rows of our dataset.\n",
    "X_train_pd.head(15)"
   ]
  },
  {
   "cell_type": "markdown",
   "metadata": {
    "nbgrader": {
     "grade": false,
     "grade_id": "cell-98e7d91d77d65fcf",
     "locked": true,
     "schema_version": 2,
     "solution": false
    }
   },
   "source": [
    "Methods `describe` and `info` deliver some useful information."
   ]
  },
  {
   "cell_type": "code",
   "execution_count": 4,
   "metadata": {},
   "outputs": [
    {
     "data": {
      "text/html": [
       "<div>\n",
       "<style scoped>\n",
       "    .dataframe tbody tr th:only-of-type {\n",
       "        vertical-align: middle;\n",
       "    }\n",
       "\n",
       "    .dataframe tbody tr th {\n",
       "        vertical-align: top;\n",
       "    }\n",
       "\n",
       "    .dataframe thead th {\n",
       "        text-align: right;\n",
       "    }\n",
       "</style>\n",
       "<table border=\"1\" class=\"dataframe\">\n",
       "  <thead>\n",
       "    <tr style=\"text-align: right;\">\n",
       "      <th></th>\n",
       "      <th>0</th>\n",
       "      <th>1</th>\n",
       "      <th>2</th>\n",
       "      <th>3</th>\n",
       "      <th>4</th>\n",
       "      <th>5</th>\n",
       "      <th>6</th>\n",
       "      <th>7</th>\n",
       "      <th>8</th>\n",
       "      <th>9</th>\n",
       "      <th>10</th>\n",
       "      <th>11</th>\n",
       "      <th>12</th>\n",
       "      <th>13</th>\n",
       "      <th>14</th>\n",
       "      <th>15</th>\n",
       "      <th>16</th>\n",
       "      <th>17</th>\n",
       "      <th>18</th>\n",
       "    </tr>\n",
       "  </thead>\n",
       "  <tbody>\n",
       "    <tr>\n",
       "      <th>count</th>\n",
       "      <td>549.000000</td>\n",
       "      <td>549.000000</td>\n",
       "      <td>549.000000</td>\n",
       "      <td>549.000000</td>\n",
       "      <td>549.000000</td>\n",
       "      <td>549.000000</td>\n",
       "      <td>549.000000</td>\n",
       "      <td>549.000000</td>\n",
       "      <td>549.000000</td>\n",
       "      <td>549.000000</td>\n",
       "      <td>549.000000</td>\n",
       "      <td>549.000000</td>\n",
       "      <td>549.000000</td>\n",
       "      <td>549.000000</td>\n",
       "      <td>549.000000</td>\n",
       "      <td>549.000000</td>\n",
       "      <td>549.000000</td>\n",
       "      <td>549.000000</td>\n",
       "      <td>549.000000</td>\n",
       "    </tr>\n",
       "    <tr>\n",
       "      <th>mean</th>\n",
       "      <td>424.690346</td>\n",
       "      <td>93.834244</td>\n",
       "      <td>44.859745</td>\n",
       "      <td>82.114754</td>\n",
       "      <td>168.575592</td>\n",
       "      <td>61.428051</td>\n",
       "      <td>8.340619</td>\n",
       "      <td>168.466302</td>\n",
       "      <td>40.989071</td>\n",
       "      <td>20.553734</td>\n",
       "      <td>147.987250</td>\n",
       "      <td>188.213115</td>\n",
       "      <td>437.834244</td>\n",
       "      <td>174.932605</td>\n",
       "      <td>72.324226</td>\n",
       "      <td>6.413479</td>\n",
       "      <td>12.145719</td>\n",
       "      <td>189.014572</td>\n",
       "      <td>195.602914</td>\n",
       "    </tr>\n",
       "    <tr>\n",
       "      <th>std</th>\n",
       "      <td>245.261187</td>\n",
       "      <td>8.224931</td>\n",
       "      <td>6.127031</td>\n",
       "      <td>15.660971</td>\n",
       "      <td>33.861195</td>\n",
       "      <td>6.819413</td>\n",
       "      <td>3.248049</td>\n",
       "      <td>32.816361</td>\n",
       "      <td>7.789888</td>\n",
       "      <td>2.545808</td>\n",
       "      <td>14.383747</td>\n",
       "      <td>31.153554</td>\n",
       "      <td>174.296270</td>\n",
       "      <td>32.728492</td>\n",
       "      <td>7.103033</td>\n",
       "      <td>4.972395</td>\n",
       "      <td>8.930014</td>\n",
       "      <td>6.293590</td>\n",
       "      <td>7.631982</td>\n",
       "    </tr>\n",
       "    <tr>\n",
       "      <th>min</th>\n",
       "      <td>0.000000</td>\n",
       "      <td>77.000000</td>\n",
       "      <td>33.000000</td>\n",
       "      <td>42.000000</td>\n",
       "      <td>104.000000</td>\n",
       "      <td>47.000000</td>\n",
       "      <td>2.000000</td>\n",
       "      <td>114.000000</td>\n",
       "      <td>26.000000</td>\n",
       "      <td>17.000000</td>\n",
       "      <td>118.000000</td>\n",
       "      <td>131.000000</td>\n",
       "      <td>191.000000</td>\n",
       "      <td>112.000000</td>\n",
       "      <td>59.000000</td>\n",
       "      <td>0.000000</td>\n",
       "      <td>0.000000</td>\n",
       "      <td>176.000000</td>\n",
       "      <td>181.000000</td>\n",
       "    </tr>\n",
       "    <tr>\n",
       "      <th>25%</th>\n",
       "      <td>214.000000</td>\n",
       "      <td>88.000000</td>\n",
       "      <td>40.000000</td>\n",
       "      <td>70.000000</td>\n",
       "      <td>141.000000</td>\n",
       "      <td>57.000000</td>\n",
       "      <td>7.000000</td>\n",
       "      <td>146.000000</td>\n",
       "      <td>33.000000</td>\n",
       "      <td>19.000000</td>\n",
       "      <td>138.000000</td>\n",
       "      <td>167.000000</td>\n",
       "      <td>318.000000</td>\n",
       "      <td>150.000000</td>\n",
       "      <td>67.000000</td>\n",
       "      <td>2.000000</td>\n",
       "      <td>5.000000</td>\n",
       "      <td>184.000000</td>\n",
       "      <td>190.000000</td>\n",
       "    </tr>\n",
       "    <tr>\n",
       "      <th>50%</th>\n",
       "      <td>420.000000</td>\n",
       "      <td>93.000000</td>\n",
       "      <td>44.000000</td>\n",
       "      <td>80.000000</td>\n",
       "      <td>165.000000</td>\n",
       "      <td>61.000000</td>\n",
       "      <td>8.000000</td>\n",
       "      <td>157.000000</td>\n",
       "      <td>43.000000</td>\n",
       "      <td>20.000000</td>\n",
       "      <td>146.000000</td>\n",
       "      <td>178.000000</td>\n",
       "      <td>363.000000</td>\n",
       "      <td>174.000000</td>\n",
       "      <td>72.000000</td>\n",
       "      <td>5.000000</td>\n",
       "      <td>11.000000</td>\n",
       "      <td>189.000000</td>\n",
       "      <td>196.000000</td>\n",
       "    </tr>\n",
       "    <tr>\n",
       "      <th>75%</th>\n",
       "      <td>638.000000</td>\n",
       "      <td>100.000000</td>\n",
       "      <td>49.000000</td>\n",
       "      <td>98.000000</td>\n",
       "      <td>197.000000</td>\n",
       "      <td>65.000000</td>\n",
       "      <td>10.000000</td>\n",
       "      <td>198.000000</td>\n",
       "      <td>46.000000</td>\n",
       "      <td>23.000000</td>\n",
       "      <td>159.000000</td>\n",
       "      <td>216.000000</td>\n",
       "      <td>587.000000</td>\n",
       "      <td>198.000000</td>\n",
       "      <td>76.000000</td>\n",
       "      <td>9.000000</td>\n",
       "      <td>18.000000</td>\n",
       "      <td>193.000000</td>\n",
       "      <td>201.000000</td>\n",
       "    </tr>\n",
       "    <tr>\n",
       "      <th>max</th>\n",
       "      <td>844.000000</td>\n",
       "      <td>119.000000</td>\n",
       "      <td>59.000000</td>\n",
       "      <td>112.000000</td>\n",
       "      <td>333.000000</td>\n",
       "      <td>138.000000</td>\n",
       "      <td>49.000000</td>\n",
       "      <td>262.000000</td>\n",
       "      <td>59.000000</td>\n",
       "      <td>28.000000</td>\n",
       "      <td>188.000000</td>\n",
       "      <td>320.000000</td>\n",
       "      <td>987.000000</td>\n",
       "      <td>264.000000</td>\n",
       "      <td>135.000000</td>\n",
       "      <td>22.000000</td>\n",
       "      <td>41.000000</td>\n",
       "      <td>206.000000</td>\n",
       "      <td>211.000000</td>\n",
       "    </tr>\n",
       "  </tbody>\n",
       "</table>\n",
       "</div>"
      ],
      "text/plain": [
       "               0           1           2           3           4           5   \\\n",
       "count  549.000000  549.000000  549.000000  549.000000  549.000000  549.000000   \n",
       "mean   424.690346   93.834244   44.859745   82.114754  168.575592   61.428051   \n",
       "std    245.261187    8.224931    6.127031   15.660971   33.861195    6.819413   \n",
       "min      0.000000   77.000000   33.000000   42.000000  104.000000   47.000000   \n",
       "25%    214.000000   88.000000   40.000000   70.000000  141.000000   57.000000   \n",
       "50%    420.000000   93.000000   44.000000   80.000000  165.000000   61.000000   \n",
       "75%    638.000000  100.000000   49.000000   98.000000  197.000000   65.000000   \n",
       "max    844.000000  119.000000   59.000000  112.000000  333.000000  138.000000   \n",
       "\n",
       "               6           7           8           9           10          11  \\\n",
       "count  549.000000  549.000000  549.000000  549.000000  549.000000  549.000000   \n",
       "mean     8.340619  168.466302   40.989071   20.553734  147.987250  188.213115   \n",
       "std      3.248049   32.816361    7.789888    2.545808   14.383747   31.153554   \n",
       "min      2.000000  114.000000   26.000000   17.000000  118.000000  131.000000   \n",
       "25%      7.000000  146.000000   33.000000   19.000000  138.000000  167.000000   \n",
       "50%      8.000000  157.000000   43.000000   20.000000  146.000000  178.000000   \n",
       "75%     10.000000  198.000000   46.000000   23.000000  159.000000  216.000000   \n",
       "max     49.000000  262.000000   59.000000   28.000000  188.000000  320.000000   \n",
       "\n",
       "               12          13          14          15          16          17  \\\n",
       "count  549.000000  549.000000  549.000000  549.000000  549.000000  549.000000   \n",
       "mean   437.834244  174.932605   72.324226    6.413479   12.145719  189.014572   \n",
       "std    174.296270   32.728492    7.103033    4.972395    8.930014    6.293590   \n",
       "min    191.000000  112.000000   59.000000    0.000000    0.000000  176.000000   \n",
       "25%    318.000000  150.000000   67.000000    2.000000    5.000000  184.000000   \n",
       "50%    363.000000  174.000000   72.000000    5.000000   11.000000  189.000000   \n",
       "75%    587.000000  198.000000   76.000000    9.000000   18.000000  193.000000   \n",
       "max    987.000000  264.000000  135.000000   22.000000   41.000000  206.000000   \n",
       "\n",
       "               18  \n",
       "count  549.000000  \n",
       "mean   195.602914  \n",
       "std      7.631982  \n",
       "min    181.000000  \n",
       "25%    190.000000  \n",
       "50%    196.000000  \n",
       "75%    201.000000  \n",
       "max    211.000000  "
      ]
     },
     "execution_count": 4,
     "metadata": {},
     "output_type": "execute_result"
    }
   ],
   "source": [
    "X_train_pd.describe()"
   ]
  },
  {
   "cell_type": "code",
   "execution_count": 5,
   "metadata": {},
   "outputs": [
    {
     "name": "stdout",
     "output_type": "stream",
     "text": [
      "<class 'pandas.core.frame.DataFrame'>\n",
      "RangeIndex: 549 entries, 0 to 548\n",
      "Data columns (total 19 columns):\n",
      " #   Column  Non-Null Count  Dtype\n",
      "---  ------  --------------  -----\n",
      " 0   0       549 non-null    int32\n",
      " 1   1       549 non-null    int32\n",
      " 2   2       549 non-null    int32\n",
      " 3   3       549 non-null    int32\n",
      " 4   4       549 non-null    int32\n",
      " 5   5       549 non-null    int32\n",
      " 6   6       549 non-null    int32\n",
      " 7   7       549 non-null    int32\n",
      " 8   8       549 non-null    int32\n",
      " 9   9       549 non-null    int32\n",
      " 10  10      549 non-null    int32\n",
      " 11  11      549 non-null    int32\n",
      " 12  12      549 non-null    int32\n",
      " 13  13      549 non-null    int32\n",
      " 14  14      549 non-null    int32\n",
      " 15  15      549 non-null    int32\n",
      " 16  16      549 non-null    int32\n",
      " 17  17      549 non-null    int32\n",
      " 18  18      549 non-null    int32\n",
      "dtypes: int32(19)\n",
      "memory usage: 40.9 KB\n"
     ]
    }
   ],
   "source": [
    "X_train_pd.info()"
   ]
  },
  {
   "cell_type": "markdown",
   "metadata": {
    "nbgrader": {
     "grade": false,
     "grade_id": "cell-be844269be69c387",
     "locked": true,
     "schema_version": 2,
     "solution": false
    }
   },
   "source": [
    "### 2. Machine Learning pipeline\n",
    "Here you are supposed to perform the desired transformations. Please, explain your results briefly after each task."
   ]
  },
  {
   "cell_type": "markdown",
   "metadata": {},
   "source": [
    "#### 2.0. Data preprocessing\n",
    "* Make some transformations of the dataset (if necessary). Briefly explain the transformations"
   ]
  },
  {
   "cell_type": "code",
   "execution_count": 6,
   "metadata": {
    "nbgrader": {
     "grade": true,
     "grade_id": "cell-a1514aa189a49fca",
     "locked": false,
     "points": 15,
     "schema_version": 2,
     "solution": true
    }
   },
   "outputs": [
    {
     "name": "stdout",
     "output_type": "stream",
     "text": [
      "[0 1 3 0 3 2 2 0 0 3 2 0 3 1 2 0 1 2 2 3 3 3 2 2 2 1 0 2 1 1 0 0 0 1 3 3 3\n",
      " 2 0 1 0 3 2 3 0 3 3 2 0 0 2 2 0 1 1 0 2 1 2 0 1 3 3 3 2 1 0 3 2 1 1 3 0 3\n",
      " 1 0 2 3 1 0 2 1 2 3 1 1 3 0 2 2 1 3 0 2 2 3 3 0 2 3 0 3 0 1 0 3 3 1 0 2 3\n",
      " 3 2 0 3 0 2 2 1 2 0 0 3 1 0 1 0 1 0 1 1 3 0 0 1 1 2 0 2 1 2 3 0 0 0 0 1 0\n",
      " 0 0 1 2 2 2 3 0 1 2 2 3 3 3 1 2 2 1 0 2 2 1 3 0 1 1 3 1 1 1 3 2 3 3 0 3 1\n",
      " 0 3 1 0 2 1 2 2 3 0 3 0 0 3 0 1 0 3 1 2 2 0 2 3 1 0 1 3 0 3 0 0 2 3 0 0 2\n",
      " 1 1 0 0 3 1 2 0 2 2 2 3 1 0 3 0 0 3 3 2 3 3 2 0 0 1 1 2 2 1 2 2 3 3 0 0 3\n",
      " 2 0 0 2 2 1 0 2 2 2 3 0 1 0 1 2 0 3 3 3 3 1 1 3 0 0 1 0 2 0 0 2 2 1 1 1 1\n",
      " 0 0 3 3 0 0 2 1 2 1 2 2 3 0 1 2 1 3 2 0 2 0 3 1 0 1 1 1 1 0 1 2 1 3 3 1 2\n",
      " 1 2 2 0 3 1 2 1 2 3 3 1 2 2 0 1 2 2 3 1 1 1 3 2 2 2 2 1 3 3 2 2 1 1 3 3 0\n",
      " 3 1 3 0 3 3 3 1 0 2 3 3 1 1 1 3 0 1 0 2 3 2 0 2 1 0 0 0 0 1 0 3 0 0 1 3 0\n",
      " 3 1 3 3 2 1 2 0 2 1 1 3 1 0 1 3 1 3 0 1 2 2 3 3 0 3 1 0 0 3 1 3 3 3 1 0 2\n",
      " 0 0 2 0 2 2 1 2 2 2 0 0 3 3 0 3 2 1 3 1 3 1 0 1 2 2 3 0 3 2 0 0 2 0 1 1 1\n",
      " 2 2 3 3 2 2 0 2 3 1 0 1 1 0 2 0 0 1 2 0 1 3 3 3 1 0 1 3 1 2 2 2 1 2 3 2 2\n",
      " 2 1 0 3 3 0 2 2 1 3 3 2 3 3 0 1 2 1 3 0 0 3 1 2 0 3 0 2 2 1 0]\n",
      "[1 3 0 2 3 0 2 1 0 1 1 1 3 3 2 2 0 1 1 0 0 1 1 1 1 2 3 0 0 1 2 3 3 3 2 2 1\n",
      " 3 0 0 0 2 1 2 1 3 0 0 1 2 2 2 1 3 1 1 2 3 0 3 1 2 1 0 1 1 1 0 2 1 1 0 0 2\n",
      " 2 1 2 0 3 1 1 1 1 0 2 0 3 2 0 0 2 0 3 0 3 2 2 3 2 3 3 2 3 1 0 2 2 2 3 0 1\n",
      " 3 3 3 1 0 0 1 1 3 0 3 2 0 3 2 0 2 2 2 0 0 1 0 0 3 2 3 3 1 1 1 1 3 2 2 2 1\n",
      " 3 1 1 3 0 2 0 3 3 0 0 2 0 1 2 0 0 3 3 3 2 3 0 0 1 3 0 2 1 2 2 0 0 3 3 0 0\n",
      " 1 0 3 2 2 2 1 2 2 1 0 1 2 1 3 0 2 3 2 0 2 1 0 1 1 3 0 2 1 1 3 1 0 3 2 1 2\n",
      " 1 0 2 1 1 3 1 3 1 3 0 2 2 2 2 2 0 1 3 0 2 0 2 0 2 0 0 3 1 0 1 0 0 1 1 0 3\n",
      " 2 1 0 1 1 3 1 3 2 2 3 3 0 0 3 2 2 3 2 0 2 2 2 1 1 2 3 1 3 2 1 3 2 1 2 0 0\n",
      " 1]\n"
     ]
    }
   ],
   "source": [
    "### YOUR CODE HERE\n",
    "\n",
    "#Encoding labes from non-numerical values of target\n",
    "from sklearn.preprocessing import LabelEncoder\n",
    "\n",
    "y_train = LabelEncoder().fit_transform(y_train)\n",
    "y_test = LabelEncoder().fit_transform(y_test) \n",
    "\n",
    "print(y_train)\n",
    "print(y_test)"
   ]
  },
  {
   "cell_type": "markdown",
   "metadata": {},
   "source": [
    "#### 2.1. Basic logistic regression\n",
    "* Find optimal hyperparameters for logistic regression with cross-validation on the `train` data (small grid/random search is enough, no need to find the *best* parameters).\n",
    "\n",
    "* Estimate the model quality with `f1` and `accuracy` scores.\n",
    "* Plot a ROC-curve for the trained model. For the multiclass case you might use `scikitplot` library (e.g. `scikitplot.metrics.plot_roc(test_labels, predicted_proba)`).\n",
    "\n",
    "*Note: please, use the following hyperparameters for logistic regression: `multi_class='multinomial'`, `solver='saga'` `tol=1e-3` and ` max_iter=500`.*"
   ]
  },
  {
   "cell_type": "code",
   "execution_count": 7,
   "metadata": {
    "nbgrader": {
     "grade": true,
     "grade_id": "cell-1dd5ad5d0845cbbb",
     "locked": false,
     "points": 5,
     "schema_version": 2,
     "solution": true
    }
   },
   "outputs": [
    {
     "data": {
      "text/plain": [
       "'***************** Check bellow, in the next few cells my solution is presented and explained! '"
      ]
     },
     "execution_count": 7,
     "metadata": {},
     "output_type": "execute_result"
    }
   ],
   "source": [
    "### YOUR CODE HERE\n",
    "\n",
    "'''***************** Check bellow, in the next few cells my solution is presented and explained! '''"
   ]
  },
  {
   "cell_type": "markdown",
   "metadata": {},
   "source": [
    "## My solution\n",
    "\n",
    "## Finding optimal hyperparameters for C and penalty norm \n",
    "\n",
    "Cross validation grid search is used for a set of 20 different (along a logarithmic base 10 scale) values for C and for l2 and l1 norms, using as scoring f1 and accuracy.\n",
    "Two estimators are refitted relative to the best f1 and accuracy score, \n",
    "the scores are compared and the final model, with its optimal hyperparameters, is choosen as the one that yields the best score along with its hyperparameters\n"
   ]
  },
  {
   "cell_type": "code",
   "execution_count": 8,
   "metadata": {},
   "outputs": [
    {
     "name": "stdout",
     "output_type": "stream",
     "text": [
      "LogisticRegression(max_iter=500, multi_class='multinomial', solver='saga',\n",
      "                   tol=0.001)\n"
     ]
    }
   ],
   "source": [
    "from sklearn.linear_model import LogisticRegression \n",
    "\n",
    "logreg_clf = LogisticRegression(multi_class='multinomial', solver='saga', tol=1e-3, max_iter=500)\n",
    "print(logreg_clf)\n",
    "\n",
    "\n",
    "from sklearn.model_selection import GridSearchCV\n",
    "\n",
    "C_range = np.logspace(-4, 4, 20)\n",
    "penalty_range = np.array(['l2', 'l1'])\n",
    "grid_search_CV_parameters = {\n",
    "        'C':C_range,\n",
    "        'penalty':penalty_range\n",
    "        }\n",
    "scoring = {'f1':'f1_micro','accuracy':'accuracy'}"
   ]
  },
  {
   "cell_type": "code",
   "execution_count": 9,
   "metadata": {},
   "outputs": [
    {
     "name": "stdout",
     "output_type": "stream",
     "text": [
      "GridSearchCV(cv=5,\n",
      "             estimator=LogisticRegression(max_iter=500,\n",
      "                                          multi_class='multinomial',\n",
      "                                          solver='saga', tol=0.001),\n",
      "             n_jobs=-1,\n",
      "             param_grid={'C': array([1.00000000e-04, 2.63665090e-04, 6.95192796e-04, 1.83298071e-03,\n",
      "       4.83293024e-03, 1.27427499e-02, 3.35981829e-02, 8.85866790e-02,\n",
      "       2.33572147e-01, 6.15848211e-01, 1.62377674e+00, 4.28133240e+00,\n",
      "       1.12883789e+01, 2.97635144e+01, 7.84759970e+01, 2.06913808e+02,\n",
      "       5.45559478e+02, 1.43844989e+03, 3.79269019e+03, 1.00000000e+04]),\n",
      "                         'penalty': array(['l2', 'l1'], dtype='<U2')},\n",
      "             refit='f1', scoring={'accuracy': 'accuracy', 'f1': 'f1_micro'},\n",
      "             verbose=1)\n"
     ]
    }
   ],
   "source": [
    "#**************First refitting relative to the best f1 score\n",
    "\n",
    "gridsearchCV_result = GridSearchCV(logreg_clf, grid_search_CV_parameters, verbose = 1,\n",
    "                           cv = 5 , scoring = scoring, refit = 'f1' , n_jobs=-1 )\n",
    "\n",
    "print(gridsearchCV_result)"
   ]
  },
  {
   "cell_type": "code",
   "execution_count": 10,
   "metadata": {},
   "outputs": [
    {
     "name": "stdout",
     "output_type": "stream",
     "text": [
      "Fitting 5 folds for each of 40 candidates, totalling 200 fits\n",
      "\n",
      "##############################################################\n",
      "###  Grid Search Cross Validation results\n",
      "##############################################################\n",
      "*****Grid search-CV best estimator refitted for f1 =\n",
      "LogisticRegression(C=0.012742749857031334, max_iter=500,\n",
      "                   multi_class='multinomial', solver='saga', tol=0.001)\n",
      "*****Grid search-CV best f1 score = 0.7122101751459551\n",
      "*****Grid search-CV best parameters for best estimator refitted for f1 = {'C': 0.012742749857031334, 'penalty': 'l2'}\n",
      "\n"
     ]
    }
   ],
   "source": [
    "#Performing cross validated grid search and refitting relative to the best f1 score \n",
    "gridsearchCV_result.fit(X_train, y_train) \n",
    "\n",
    "best_estimator_forf1 = gridsearchCV_result.best_estimator_\n",
    "best_f1score = gridsearchCV_result.best_score_\n",
    "best_estimator_params_forf1 = gridsearchCV_result.best_params_\n",
    "print(f'''\n",
    "##############################################################\n",
    "###  Grid Search Cross Validation results\n",
    "##############################################################\n",
    "*****Grid search-CV best estimator refitted for f1 =\\n{best_estimator_forf1}\n",
    "*****Grid search-CV best f1 score = {best_f1score}\n",
    "*****Grid search-CV best parameters for best estimator refitted for f1 = {best_estimator_params_forf1}\n",
    "''')"
   ]
  },
  {
   "cell_type": "code",
   "execution_count": 11,
   "metadata": {},
   "outputs": [
    {
     "name": "stdout",
     "output_type": "stream",
     "text": [
      "GridSearchCV(cv=5,\n",
      "             estimator=LogisticRegression(max_iter=500,\n",
      "                                          multi_class='multinomial',\n",
      "                                          solver='saga', tol=0.001),\n",
      "             n_jobs=-1,\n",
      "             param_grid={'C': array([1.00000000e-04, 2.63665090e-04, 6.95192796e-04, 1.83298071e-03,\n",
      "       4.83293024e-03, 1.27427499e-02, 3.35981829e-02, 8.85866790e-02,\n",
      "       2.33572147e-01, 6.15848211e-01, 1.62377674e+00, 4.28133240e+00,\n",
      "       1.12883789e+01, 2.97635144e+01, 7.84759970e+01, 2.06913808e+02,\n",
      "       5.45559478e+02, 1.43844989e+03, 3.79269019e+03, 1.00000000e+04]),\n",
      "                         'penalty': array(['l2', 'l1'], dtype='<U2')},\n",
      "             refit='accuracy',\n",
      "             scoring={'accuracy': 'accuracy', 'f1': 'f1_micro'}, verbose=1)\n"
     ]
    }
   ],
   "source": [
    "#**************Now refitting relative to the best accuracy score\n",
    "\n",
    "gridsearchCV_result = GridSearchCV(logreg_clf, grid_search_CV_parameters, verbose = 1,\n",
    "                           cv = 5 , scoring = scoring, refit = 'accuracy' , n_jobs=-1 )\n",
    "\n",
    "print(gridsearchCV_result)"
   ]
  },
  {
   "cell_type": "code",
   "execution_count": 12,
   "metadata": {},
   "outputs": [
    {
     "name": "stdout",
     "output_type": "stream",
     "text": [
      "Fitting 5 folds for each of 40 candidates, totalling 200 fits\n",
      "\n",
      "##############################################################\n",
      "###  Grid Search Cross Validation results\n",
      "##############################################################\n",
      "*****Grid search-CV best estimator refitted for accuracy =\n",
      "LogisticRegression(C=0.012742749857031334, max_iter=500,\n",
      "                   multi_class='multinomial', solver='saga', tol=0.001)\n",
      "*****Grid search-CV best accuracy score = 0.7122101751459551\n",
      "*****Grid search-CV best parameters for best estimator refitted for accuracy = {'C': 0.012742749857031334, 'penalty': 'l2'}\n",
      "\n"
     ]
    }
   ],
   "source": [
    "#Performing cross validated grid search and refitting relative to the best accuracy score \n",
    "gridsearchCV_result.fit(X_train, y_train) \n",
    "\n",
    "best_estimator_foraccuracy = gridsearchCV_result.best_estimator_\n",
    "best_accuracyscore = gridsearchCV_result.best_score_\n",
    "best_estimator_params_foraccuracy = gridsearchCV_result.best_params_\n",
    "print(f'''\n",
    "##############################################################\n",
    "###  Grid Search Cross Validation results\n",
    "##############################################################\n",
    "*****Grid search-CV best estimator refitted for accuracy =\\n{best_estimator_foraccuracy}\n",
    "*****Grid search-CV best accuracy score = {best_accuracyscore}\n",
    "*****Grid search-CV best parameters for best estimator refitted for accuracy = {best_estimator_params_foraccuracy}\n",
    "''')"
   ]
  },
  {
   "cell_type": "code",
   "execution_count": 13,
   "metadata": {},
   "outputs": [
    {
     "name": "stdout",
     "output_type": "stream",
     "text": [
      "Estimator = LogisticRegression(C=0.012742749857031334, max_iter=500,\n",
      "                   multi_class='multinomial', solver='saga', tol=0.001),\n",
      "Optimal hyperparameters -> C = 0.012742749857031334, penalty = l2\n"
     ]
    }
   ],
   "source": [
    "#Comparing the best scores of the two estimators, and selecting the one with the best score along with its optimal hyperparameters \n",
    "\n",
    "if (max(best_f1score, best_accuracyscore) == best_accuracyscore ):\n",
    "    logreg_clf = best_estimator_foraccuracy\n",
    "    optC = best_estimator_params_foraccuracy['C']\n",
    "    optpenalty = best_estimator_params_foraccuracy['penalty']\n",
    "else:\n",
    "    logreg_clf = best_estimator_forf1\n",
    "    optC = best_estimator_params_forf1['C']\n",
    "    optpenalty = best_estimator_params_forf1['penalty']\n",
    "    \n",
    "print(f\"Estimator = {logreg_clf},\\nOptimal hyperparameters -> C = {optC}, penalty = {optpenalty}\") "
   ]
  },
  {
   "cell_type": "markdown",
   "metadata": {},
   "source": [
    "## Estimating the model quality using f1 and accuracy score "
   ]
  },
  {
   "cell_type": "code",
   "execution_count": 14,
   "metadata": {},
   "outputs": [
    {
     "name": "stdout",
     "output_type": "stream",
     "text": [
      "\n",
      "#######################################################\n",
      "***** Missclassified count = 82 testing samples out of 297 testing samples ,\n",
      "***** Missclassified percentage = 27.61 %\n",
      "***** f1 score = 0.7239057239057239\n",
      "***** Accuracy Score = 0.7239057239057239\n",
      "#######################################################  \n",
      "\n",
      "\n",
      "######################################\n",
      "### Classification Report for optimal hyperparamenter C = 0.012742749857031334, penalty = l2 \n",
      "######################################\n",
      "              precision    recall  f1-score   support\n",
      "\n",
      "           0       0.76      0.87      0.81        75\n",
      "           1       0.65      0.58      0.61        79\n",
      "           2       0.69      0.52      0.59        79\n",
      "           3       0.77      0.98      0.86        64\n",
      "\n",
      "    accuracy                           0.72       297\n",
      "   macro avg       0.72      0.74      0.72       297\n",
      "weighted avg       0.72      0.72      0.71       297\n",
      "\n",
      "      \n"
     ]
    }
   ],
   "source": [
    "#Doing some predictions with the classifier and printing scores \n",
    "\n",
    "y_pred = logreg_clf.predict(X_test)\n",
    "\n",
    "###################################################\n",
    "### Counting missclasified samples and calculating accuracy score\n",
    "##################################################\n",
    "from sklearn.metrics import accuracy_score, f1_score, classification_report\n",
    "\n",
    "f1 = f1_score(y_test, y_pred, average='micro')\n",
    "accuracy = accuracy_score(y_test, y_pred)\n",
    "missclfd = ( y_pred != y_test ).sum()\n",
    "\n",
    "\n",
    "print(f'''\n",
    "#######################################################\n",
    "***** Missclassified count = {missclfd} testing samples out of {len(y_test)} testing samples ,\n",
    "***** Missclassified percentage = {((missclfd / len(y_test)) * 100.0):.2f} %\n",
    "***** f1 score = {f1}\n",
    "***** Accuracy Score = {accuracy}\n",
    "#######################################################  \n",
    "''')\n",
    "print(f'''\n",
    "######################################\n",
    "### Classification Report for optimal hyperparamenter C = {optC}, penalty = {optpenalty} \n",
    "######################################\n",
    "{classification_report(y_test, y_pred)}\n",
    "      ''')"
   ]
  },
  {
   "cell_type": "markdown",
   "metadata": {},
   "source": [
    "## Plotting the ROC-curve for the trained model "
   ]
  },
  {
   "cell_type": "code",
   "execution_count": 15,
   "metadata": {},
   "outputs": [
    {
     "data": {
      "text/plain": [
       "<AxesSubplot:title={'center':'ROC Curves'}, xlabel='False Positive Rate', ylabel='True Positive Rate'>"
      ]
     },
     "execution_count": 15,
     "metadata": {},
     "output_type": "execute_result"
    },
    {
     "data": {
      "image/png": "[encoded data removed]",
      "text/plain": [
       "<Figure size 640x480 with 1 Axes>"
      ]
     },
     "metadata": {},
     "output_type": "display_data"
    }
   ],
   "source": [
    "import scikitplot as skplt\n",
    "\n",
    "y_proba = logreg_clf.predict_proba(X_test)\n",
    "\n",
    "skplt.metrics.plot_roc(y_test, y_proba)"
   ]
  },
  {
   "cell_type": "code",
   "execution_count": 16,
   "metadata": {},
   "outputs": [],
   "source": [
    "# You might use this command to install scikit-plot. \n",
    "# Warning, if you a running locally, don't call pip from within jupyter, call it from terminal in the corresponding \n",
    "# virtual environment instead\n",
    "\n",
    "# ! pip install scikit-plot"
   ]
  },
  {
   "cell_type": "markdown",
   "metadata": {},
   "source": [
    "#### 2.2. PCA: explained variance plot\n",
    "* Apply the PCA to the train part of the data. Build the explaided variance plot. "
   ]
  },
  {
   "cell_type": "code",
   "execution_count": 17,
   "metadata": {
    "nbgrader": {
     "grade": true,
     "grade_id": "cell-c6c614740bce090e",
     "locked": false,
     "points": 10,
     "schema_version": 2,
     "solution": true
    }
   },
   "outputs": [],
   "source": [
    "### YOUR CODE HERE"
   ]
  },
  {
   "cell_type": "markdown",
   "metadata": {
    "nbgrader": {
     "grade": false,
     "grade_id": "cell-0c1fe666f52fe53c",
     "locked": true,
     "schema_version": 2,
     "solution": false
    }
   },
   "source": [
    "#### 2.3. PCA trasformation\n",
    "* Select the appropriate number of components. Briefly explain your choice. Should you normalize the data?\n",
    "\n",
    "*Use `fit` and `transform` methods to transform the `train` and `test` parts.*"
   ]
  },
  {
   "cell_type": "code",
   "execution_count": 18,
   "metadata": {
    "nbgrader": {
     "grade": true,
     "grade_id": "cell-96ab18d96473ef71",
     "locked": false,
     "points": 5,
     "schema_version": 2,
     "solution": true
    }
   },
   "outputs": [],
   "source": [
    "### YOUR CODE HERE"
   ]
  },
  {
   "cell_type": "markdown",
   "metadata": {},
   "source": [
    "**Note: From this point `sklearn` [Pipeline](https://scikit-learn.org/stable/modules/compose.html) might be useful to perform transformations on the data. Refer to the [docs](https://scikit-learn.org/stable/modules/generated/sklearn.pipeline.Pipeline.html) for more information.**"
   ]
  },
  {
   "cell_type": "markdown",
   "metadata": {
    "nbgrader": {
     "grade": false,
     "grade_id": "cell-d28b58a35c94e988",
     "locked": true,
     "schema_version": 2,
     "solution": false
    }
   },
   "source": [
    "#### 2.4. Logistic regression on PCA-preprocessed data.\n",
    "* Find optimal hyperparameters for logistic regression with cross-validation on the transformed by PCA `train` data.\n",
    "\n",
    "* Estimate the model quality with `f1` and `accuracy` scores.\n",
    "* Plot a ROC-curve for the trained model. For the multiclass case you might use `scikitplot` library (e.g. `scikitplot.metrics.plot_roc(test_labels, predicted_proba)`).\n",
    "\n",
    "*Note: please, use the following hyperparameters for logistic regression: `multi_class='multinomial'`, `solver='saga'` and `tol=1e-3`*"
   ]
  },
  {
   "cell_type": "code",
   "execution_count": 19,
   "metadata": {
    "nbgrader": {
     "grade": true,
     "grade_id": "cell-12d53ea45258fa82",
     "locked": false,
     "points": 5,
     "schema_version": 2,
     "solution": true
    }
   },
   "outputs": [],
   "source": [
    "### YOUR CODE HERE"
   ]
  },
  {
   "cell_type": "markdown",
   "metadata": {
    "nbgrader": {
     "grade": false,
     "grade_id": "cell-4fbf16c64076e139",
     "locked": true,
     "schema_version": 2,
     "solution": false
    }
   },
   "source": [
    "#### 2.5. Decision tree\n",
    "* Now train a desicion tree on the same data. Find optimal tree depth (`max_depth`) using cross-validation.\n",
    "\n",
    "* Measure the model quality using the same metrics you used above."
   ]
  },
  {
   "cell_type": "code",
   "execution_count": 20,
   "metadata": {
    "nbgrader": {
     "grade": true,
     "grade_id": "cell-748ed20b51c67fab",
     "locked": false,
     "points": 15,
     "schema_version": 2,
     "solution": true
    }
   },
   "outputs": [],
   "source": [
    "from sklearn.tree import DecisionTreeClassifier\n",
    "\n",
    "# YOUR CODE HERE"
   ]
  },
  {
   "cell_type": "markdown",
   "metadata": {
    "nbgrader": {
     "grade": false,
     "grade_id": "cell-9eadd4d8a03ae67a",
     "locked": true,
     "schema_version": 2,
     "solution": false
    }
   },
   "source": [
    "#### 2.6. Bagging.\n",
    "Here starts the ensembling part.\n",
    "\n",
    "First we will use the __Bagging__ approach. Build an ensemble of $N$ algorithms varying N from $N_{min}=2$ to $N_{max}=100$ (with step 5).\n",
    "\n",
    "We will build two ensembles: of logistic regressions and of decision trees.\n",
    "\n",
    "*Comment: each ensemble should be constructed from models of the same family, so logistic regressions should not be mixed up with decision trees.*\n",
    "\n",
    "\n",
    "*Hint 1: To build a __Bagging__ ensebmle varying the ensemble size efficiently you might generate $N_{max}$ subsets of `train` data (of the same size as the original dataset) using bootstrap procedure once. Then you train a new instance of logistic regression/decision tree with optimal hyperparameters you estimated before on each subset (so you train it from scratch). Finally, to get an ensemble of $N$ models you average the $N$ out of $N_{max}$ models predictions.*\n",
    "\n",
    "*Hint 2: sklearn might help you with this taks. Some appropriate function/class might be out there.*\n",
    "\n",
    "* Plot `f1` and `accuracy` scores plots w.r.t. the size of the ensemble.\n",
    "\n",
    "* Briefly analyse the plot. What is the optimal number of algorithms? Explain your answer.\n",
    "\n",
    "* How do you think, are the hyperparameters for the decision trees you found in 2.5 optimal for trees used in ensemble? "
   ]
  },
  {
   "cell_type": "code",
   "execution_count": 21,
   "metadata": {
    "nbgrader": {
     "grade": true,
     "grade_id": "cell-8fc95a2b206bdae1",
     "locked": false,
     "points": 35,
     "schema_version": 2,
     "solution": true
    }
   },
   "outputs": [],
   "source": [
    "# YOUR CODE HERE"
   ]
  },
  {
   "cell_type": "code",
   "execution_count": null,
   "metadata": {},
   "outputs": [],
   "source": []
  },
  {
   "cell_type": "markdown",
   "metadata": {
    "nbgrader": {
     "grade": false,
     "grade_id": "cell-241b7691ab44cbfb",
     "locked": true,
     "schema_version": 2,
     "solution": false
    }
   },
   "source": [
    "#### 2.7. Random Forest\n",
    "Now we will work with the Random Forest (its `sklearn` implementation).\n",
    "\n",
    "* * Plot `f1` and `accuracy` scores plots w.r.t. the number of trees in Random Forest.\n",
    "\n",
    "* What is the optimal number of trees you've got? Is it different from the optimal number of logistic regressions/decision trees in 2.6? Explain the results briefly."
   ]
  },
  {
   "cell_type": "code",
   "execution_count": 22,
   "metadata": {
    "nbgrader": {
     "grade": true,
     "grade_id": "cell-888755d0f3d91620",
     "locked": false,
     "points": 15,
     "schema_version": 2,
     "solution": true
    }
   },
   "outputs": [],
   "source": [
    "from sklearn.ensemble import RandomForestClassifier\n",
    "\n",
    "# YOUR CODE HERE"
   ]
  },
  {
   "cell_type": "markdown",
   "metadata": {
    "nbgrader": {
     "grade": false,
     "grade_id": "cell-99191c0852538d4d",
     "locked": true,
     "schema_version": 2,
     "solution": false
    }
   },
   "source": [
    "#### 2.8. Learning curve\n",
    "Your goal is to estimate, how does the model behaviour change with the increase of the `train` dataset size.\n",
    "\n",
    "* Split the training data into 10 equal (almost) parts. Then train the models from above (Logistic regression, Desicion Tree, Random Forest) with optimal hyperparameters you have selected on 1 part, 2 parts (combined, so the train size in increased by 2 times), 3 parts and so on.\n",
    "\n",
    "* Build a plot of `accuracy` and `f1` scores on `test` part, varying the `train` dataset size (so the axes will be score - dataset size.\n",
    "\n",
    "* Analyse the final plot. Can you make any conlusions using it? "
   ]
  },
  {
   "cell_type": "code",
   "execution_count": 23,
   "metadata": {
    "nbgrader": {
     "grade": true,
     "grade_id": "cell-e39bc7e7dff61ff9",
     "locked": false,
     "points": 15,
     "schema_version": 2,
     "solution": true
    }
   },
   "outputs": [],
   "source": [
    "# YOUR CODE HERE"
   ]
  }
 ],
 "metadata": {
  "celltoolbar": "Create Assignment",
  "kernelspec": {
   "display_name": "Python 3 (ipykernel)",
   "language": "python",
   "name": "python3"
  },
  "language_info": {
   "codemirror_mode": {
    "name": "ipython",
    "version": 3
   },
   "file_extension": ".py",
   "mimetype": "text/x-python",
   "name": "python",
   "nbconvert_exporter": "python",
   "pygments_lexer": "ipython3",
   "version": "3.9.7"
  },
  "toc": {
   "base_numbering": 1,
   "nav_menu": {},
   "number_sections": false,
   "sideBar": true,
   "skip_h1_title": false,
   "title_cell": "Table of Contents",
   "title_sidebar": "Contents",
   "toc_cell": false,
   "toc_position": {},
   "toc_section_display": true,
   "toc_window_display": false
  }
 },
 "nbformat": 4,
 "nbformat_minor": 4
}
