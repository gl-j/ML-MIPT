{
 "cells": [
  {
   "cell_type": "markdown",
   "metadata": {
    "nbgrader": {
     "grade": false,
     "grade_id": "cell-86e0de040aac317a",
     "locked": true,
     "schema_version": 2,
     "solution": false
    }
   },
   "source": [
    "# Lab assignment №1, part 2\n",
    "\n",
    "This lab assignment consists of several parts. You are supposed to make some transformations, train some models, estimate the quality of the models and explain your results.\n",
    "\n",
    "Several comments:\n",
    "* Don't hesitate to ask questions, it's a good practice.\n",
    "* No private/public sharing, please. The copied assignments will be graded with 0 points.\n",
    "* Blocks of this lab will be graded separately."
   ]
  },
  {
   "cell_type": "markdown",
   "metadata": {},
   "source": [
    "__*This is the second part of the assignment. First and third parts are waiting for you in the same directory.*__"
   ]
  },
  {
   "cell_type": "markdown",
   "metadata": {
    "nbgrader": {
     "grade": false,
     "grade_id": "cell-512ba712fc0fc065",
     "locked": true,
     "schema_version": 2,
     "solution": false
    }
   },
   "source": [
    "## Part 2. Data preprocessing, model training and evaluation."
   ]
  },
  {
   "cell_type": "markdown",
   "metadata": {
    "nbgrader": {
     "grade": false,
     "grade_id": "cell-b656a4266174b009",
     "locked": true,
     "schema_version": 2,
     "solution": false
    }
   },
   "source": [
    "### 1. Reading the data\n",
    "Today we work with the [dataset](https://archive.ics.uci.edu/ml/datasets/Statlog+%28Vehicle+Silhouettes%29), describing different cars for multiclass ($k=4$) classification problem. The data is available below."
   ]
  },
  {
   "cell_type": "code",
   "execution_count": 1,
   "metadata": {},
   "outputs": [],
   "source": [
    "# If on colab, uncomment the following lines\n",
    "\n",
    "# ! wget https://raw.githubusercontent.com/girafe-ai/ml-course/22f_made/homeworks/lab01_ml_pipeline/car_data.csv"
   ]
  },
  {
   "cell_type": "code",
   "execution_count": 2,
   "metadata": {
    "nbgrader": {
     "grade": false,
     "grade_id": "cell-eebac6bfdf73d0bc",
     "locked": true,
     "schema_version": 2,
     "solution": false
    }
   },
   "outputs": [
    {
     "name": "stdout",
     "output_type": "stream",
     "text": [
      "(846, 19) (846,)\n",
      "(549, 19) (549,) (297, 19) (297,)\n"
     ]
    }
   ],
   "source": [
    "import pandas as pd\n",
    "import numpy as np\n",
    "from sklearn.model_selection import train_test_split\n",
    "\n",
    "dataset = pd.read_csv('car_data.csv', delimiter=',', header=None).values\n",
    "data = dataset[:, :-1].astype(int)\n",
    "target = dataset[:, -1]\n",
    "\n",
    "print(data.shape, target.shape)\n",
    "\n",
    "X_train, X_test, y_train, y_test = train_test_split(data, target, test_size=0.35)\n",
    "print(X_train.shape, y_train.shape, X_test.shape, y_test.shape)"
   ]
  },
  {
   "cell_type": "markdown",
   "metadata": {
    "nbgrader": {
     "grade": false,
     "grade_id": "cell-88b1a0f688568f2c",
     "locked": true,
     "schema_version": 2,
     "solution": false
    }
   },
   "source": [
    "To get some insights about the dataset, `pandas` might be used. The `train` part is transformed to `pd.DataFrame` below."
   ]
  },
  {
   "cell_type": "code",
   "execution_count": 3,
   "metadata": {},
   "outputs": [
    {
     "data": {
      "text/html": [
       "<div>\n",
       "<style scoped>\n",
       "    .dataframe tbody tr th:only-of-type {\n",
       "        vertical-align: middle;\n",
       "    }\n",
       "\n",
       "    .dataframe tbody tr th {\n",
       "        vertical-align: top;\n",
       "    }\n",
       "\n",
       "    .dataframe thead th {\n",
       "        text-align: right;\n",
       "    }\n",
       "</style>\n",
       "<table border=\"1\" class=\"dataframe\">\n",
       "  <thead>\n",
       "    <tr style=\"text-align: right;\">\n",
       "      <th></th>\n",
       "      <th>0</th>\n",
       "      <th>1</th>\n",
       "      <th>2</th>\n",
       "      <th>3</th>\n",
       "      <th>4</th>\n",
       "      <th>5</th>\n",
       "      <th>6</th>\n",
       "      <th>7</th>\n",
       "      <th>8</th>\n",
       "      <th>9</th>\n",
       "      <th>10</th>\n",
       "      <th>11</th>\n",
       "      <th>12</th>\n",
       "      <th>13</th>\n",
       "      <th>14</th>\n",
       "      <th>15</th>\n",
       "      <th>16</th>\n",
       "      <th>17</th>\n",
       "      <th>18</th>\n",
       "    </tr>\n",
       "  </thead>\n",
       "  <tbody>\n",
       "    <tr>\n",
       "      <th>0</th>\n",
       "      <td>817</td>\n",
       "      <td>104</td>\n",
       "      <td>53</td>\n",
       "      <td>108</td>\n",
       "      <td>204</td>\n",
       "      <td>64</td>\n",
       "      <td>11</td>\n",
       "      <td>220</td>\n",
       "      <td>31</td>\n",
       "      <td>25</td>\n",
       "      <td>172</td>\n",
       "      <td>226</td>\n",
       "      <td>707</td>\n",
       "      <td>203</td>\n",
       "      <td>71</td>\n",
       "      <td>14</td>\n",
       "      <td>30</td>\n",
       "      <td>189</td>\n",
       "      <td>203</td>\n",
       "    </tr>\n",
       "    <tr>\n",
       "      <th>1</th>\n",
       "      <td>129</td>\n",
       "      <td>100</td>\n",
       "      <td>48</td>\n",
       "      <td>95</td>\n",
       "      <td>209</td>\n",
       "      <td>68</td>\n",
       "      <td>7</td>\n",
       "      <td>199</td>\n",
       "      <td>32</td>\n",
       "      <td>23</td>\n",
       "      <td>150</td>\n",
       "      <td>216</td>\n",
       "      <td>605</td>\n",
       "      <td>200</td>\n",
       "      <td>73</td>\n",
       "      <td>7</td>\n",
       "      <td>11</td>\n",
       "      <td>192</td>\n",
       "      <td>194</td>\n",
       "    </tr>\n",
       "    <tr>\n",
       "      <th>2</th>\n",
       "      <td>731</td>\n",
       "      <td>103</td>\n",
       "      <td>52</td>\n",
       "      <td>103</td>\n",
       "      <td>170</td>\n",
       "      <td>52</td>\n",
       "      <td>7</td>\n",
       "      <td>236</td>\n",
       "      <td>28</td>\n",
       "      <td>26</td>\n",
       "      <td>160</td>\n",
       "      <td>254</td>\n",
       "      <td>816</td>\n",
       "      <td>250</td>\n",
       "      <td>82</td>\n",
       "      <td>3</td>\n",
       "      <td>23</td>\n",
       "      <td>183</td>\n",
       "      <td>184</td>\n",
       "    </tr>\n",
       "    <tr>\n",
       "      <th>3</th>\n",
       "      <td>544</td>\n",
       "      <td>88</td>\n",
       "      <td>43</td>\n",
       "      <td>70</td>\n",
       "      <td>177</td>\n",
       "      <td>74</td>\n",
       "      <td>19</td>\n",
       "      <td>152</td>\n",
       "      <td>44</td>\n",
       "      <td>19</td>\n",
       "      <td>143</td>\n",
       "      <td>180</td>\n",
       "      <td>342</td>\n",
       "      <td>168</td>\n",
       "      <td>76</td>\n",
       "      <td>1</td>\n",
       "      <td>9</td>\n",
       "      <td>186</td>\n",
       "      <td>189</td>\n",
       "    </tr>\n",
       "    <tr>\n",
       "      <th>4</th>\n",
       "      <td>225</td>\n",
       "      <td>93</td>\n",
       "      <td>41</td>\n",
       "      <td>79</td>\n",
       "      <td>159</td>\n",
       "      <td>63</td>\n",
       "      <td>8</td>\n",
       "      <td>144</td>\n",
       "      <td>46</td>\n",
       "      <td>19</td>\n",
       "      <td>150</td>\n",
       "      <td>165</td>\n",
       "      <td>309</td>\n",
       "      <td>134</td>\n",
       "      <td>67</td>\n",
       "      <td>4</td>\n",
       "      <td>9</td>\n",
       "      <td>195</td>\n",
       "      <td>203</td>\n",
       "    </tr>\n",
       "    <tr>\n",
       "      <th>5</th>\n",
       "      <td>89</td>\n",
       "      <td>80</td>\n",
       "      <td>37</td>\n",
       "      <td>57</td>\n",
       "      <td>116</td>\n",
       "      <td>55</td>\n",
       "      <td>6</td>\n",
       "      <td>125</td>\n",
       "      <td>54</td>\n",
       "      <td>18</td>\n",
       "      <td>125</td>\n",
       "      <td>142</td>\n",
       "      <td>229</td>\n",
       "      <td>132</td>\n",
       "      <td>81</td>\n",
       "      <td>8</td>\n",
       "      <td>5</td>\n",
       "      <td>178</td>\n",
       "      <td>184</td>\n",
       "    </tr>\n",
       "    <tr>\n",
       "      <th>6</th>\n",
       "      <td>485</td>\n",
       "      <td>83</td>\n",
       "      <td>46</td>\n",
       "      <td>71</td>\n",
       "      <td>156</td>\n",
       "      <td>70</td>\n",
       "      <td>6</td>\n",
       "      <td>151</td>\n",
       "      <td>44</td>\n",
       "      <td>19</td>\n",
       "      <td>147</td>\n",
       "      <td>174</td>\n",
       "      <td>338</td>\n",
       "      <td>198</td>\n",
       "      <td>80</td>\n",
       "      <td>3</td>\n",
       "      <td>11</td>\n",
       "      <td>181</td>\n",
       "      <td>186</td>\n",
       "    </tr>\n",
       "    <tr>\n",
       "      <th>7</th>\n",
       "      <td>109</td>\n",
       "      <td>99</td>\n",
       "      <td>48</td>\n",
       "      <td>79</td>\n",
       "      <td>199</td>\n",
       "      <td>68</td>\n",
       "      <td>6</td>\n",
       "      <td>185</td>\n",
       "      <td>35</td>\n",
       "      <td>22</td>\n",
       "      <td>153</td>\n",
       "      <td>202</td>\n",
       "      <td>524</td>\n",
       "      <td>171</td>\n",
       "      <td>74</td>\n",
       "      <td>5</td>\n",
       "      <td>8</td>\n",
       "      <td>195</td>\n",
       "      <td>195</td>\n",
       "    </tr>\n",
       "    <tr>\n",
       "      <th>8</th>\n",
       "      <td>622</td>\n",
       "      <td>96</td>\n",
       "      <td>40</td>\n",
       "      <td>100</td>\n",
       "      <td>178</td>\n",
       "      <td>58</td>\n",
       "      <td>8</td>\n",
       "      <td>181</td>\n",
       "      <td>37</td>\n",
       "      <td>21</td>\n",
       "      <td>134</td>\n",
       "      <td>205</td>\n",
       "      <td>486</td>\n",
       "      <td>160</td>\n",
       "      <td>68</td>\n",
       "      <td>5</td>\n",
       "      <td>34</td>\n",
       "      <td>192</td>\n",
       "      <td>202</td>\n",
       "    </tr>\n",
       "    <tr>\n",
       "      <th>9</th>\n",
       "      <td>230</td>\n",
       "      <td>85</td>\n",
       "      <td>35</td>\n",
       "      <td>47</td>\n",
       "      <td>110</td>\n",
       "      <td>55</td>\n",
       "      <td>3</td>\n",
       "      <td>117</td>\n",
       "      <td>57</td>\n",
       "      <td>17</td>\n",
       "      <td>122</td>\n",
       "      <td>136</td>\n",
       "      <td>203</td>\n",
       "      <td>139</td>\n",
       "      <td>89</td>\n",
       "      <td>5</td>\n",
       "      <td>9</td>\n",
       "      <td>180</td>\n",
       "      <td>184</td>\n",
       "    </tr>\n",
       "    <tr>\n",
       "      <th>10</th>\n",
       "      <td>397</td>\n",
       "      <td>89</td>\n",
       "      <td>41</td>\n",
       "      <td>75</td>\n",
       "      <td>162</td>\n",
       "      <td>66</td>\n",
       "      <td>5</td>\n",
       "      <td>153</td>\n",
       "      <td>43</td>\n",
       "      <td>19</td>\n",
       "      <td>136</td>\n",
       "      <td>175</td>\n",
       "      <td>352</td>\n",
       "      <td>154</td>\n",
       "      <td>72</td>\n",
       "      <td>2</td>\n",
       "      <td>0</td>\n",
       "      <td>188</td>\n",
       "      <td>195</td>\n",
       "    </tr>\n",
       "    <tr>\n",
       "      <th>11</th>\n",
       "      <td>294</td>\n",
       "      <td>109</td>\n",
       "      <td>55</td>\n",
       "      <td>102</td>\n",
       "      <td>169</td>\n",
       "      <td>51</td>\n",
       "      <td>6</td>\n",
       "      <td>241</td>\n",
       "      <td>27</td>\n",
       "      <td>26</td>\n",
       "      <td>165</td>\n",
       "      <td>265</td>\n",
       "      <td>870</td>\n",
       "      <td>247</td>\n",
       "      <td>84</td>\n",
       "      <td>10</td>\n",
       "      <td>11</td>\n",
       "      <td>184</td>\n",
       "      <td>183</td>\n",
       "    </tr>\n",
       "    <tr>\n",
       "      <th>12</th>\n",
       "      <td>470</td>\n",
       "      <td>91</td>\n",
       "      <td>44</td>\n",
       "      <td>66</td>\n",
       "      <td>151</td>\n",
       "      <td>63</td>\n",
       "      <td>7</td>\n",
       "      <td>137</td>\n",
       "      <td>48</td>\n",
       "      <td>18</td>\n",
       "      <td>146</td>\n",
       "      <td>166</td>\n",
       "      <td>280</td>\n",
       "      <td>167</td>\n",
       "      <td>72</td>\n",
       "      <td>1</td>\n",
       "      <td>9</td>\n",
       "      <td>188</td>\n",
       "      <td>194</td>\n",
       "    </tr>\n",
       "    <tr>\n",
       "      <th>13</th>\n",
       "      <td>108</td>\n",
       "      <td>80</td>\n",
       "      <td>44</td>\n",
       "      <td>68</td>\n",
       "      <td>135</td>\n",
       "      <td>59</td>\n",
       "      <td>8</td>\n",
       "      <td>150</td>\n",
       "      <td>45</td>\n",
       "      <td>19</td>\n",
       "      <td>145</td>\n",
       "      <td>170</td>\n",
       "      <td>329</td>\n",
       "      <td>173</td>\n",
       "      <td>80</td>\n",
       "      <td>7</td>\n",
       "      <td>12</td>\n",
       "      <td>180</td>\n",
       "      <td>185</td>\n",
       "    </tr>\n",
       "    <tr>\n",
       "      <th>14</th>\n",
       "      <td>238</td>\n",
       "      <td>100</td>\n",
       "      <td>55</td>\n",
       "      <td>101</td>\n",
       "      <td>189</td>\n",
       "      <td>57</td>\n",
       "      <td>10</td>\n",
       "      <td>222</td>\n",
       "      <td>30</td>\n",
       "      <td>25</td>\n",
       "      <td>177</td>\n",
       "      <td>225</td>\n",
       "      <td>731</td>\n",
       "      <td>211</td>\n",
       "      <td>71</td>\n",
       "      <td>7</td>\n",
       "      <td>17</td>\n",
       "      <td>188</td>\n",
       "      <td>197</td>\n",
       "    </tr>\n",
       "  </tbody>\n",
       "</table>\n",
       "</div>"
      ],
      "text/plain": [
       "     0    1   2    3    4   5   6    7   8   9    10   11   12   13  14  15  \\\n",
       "0   817  104  53  108  204  64  11  220  31  25  172  226  707  203  71  14   \n",
       "1   129  100  48   95  209  68   7  199  32  23  150  216  605  200  73   7   \n",
       "2   731  103  52  103  170  52   7  236  28  26  160  254  816  250  82   3   \n",
       "3   544   88  43   70  177  74  19  152  44  19  143  180  342  168  76   1   \n",
       "4   225   93  41   79  159  63   8  144  46  19  150  165  309  134  67   4   \n",
       "5    89   80  37   57  116  55   6  125  54  18  125  142  229  132  81   8   \n",
       "6   485   83  46   71  156  70   6  151  44  19  147  174  338  198  80   3   \n",
       "7   109   99  48   79  199  68   6  185  35  22  153  202  524  171  74   5   \n",
       "8   622   96  40  100  178  58   8  181  37  21  134  205  486  160  68   5   \n",
       "9   230   85  35   47  110  55   3  117  57  17  122  136  203  139  89   5   \n",
       "10  397   89  41   75  162  66   5  153  43  19  136  175  352  154  72   2   \n",
       "11  294  109  55  102  169  51   6  241  27  26  165  265  870  247  84  10   \n",
       "12  470   91  44   66  151  63   7  137  48  18  146  166  280  167  72   1   \n",
       "13  108   80  44   68  135  59   8  150  45  19  145  170  329  173  80   7   \n",
       "14  238  100  55  101  189  57  10  222  30  25  177  225  731  211  71   7   \n",
       "\n",
       "    16   17   18  \n",
       "0   30  189  203  \n",
       "1   11  192  194  \n",
       "2   23  183  184  \n",
       "3    9  186  189  \n",
       "4    9  195  203  \n",
       "5    5  178  184  \n",
       "6   11  181  186  \n",
       "7    8  195  195  \n",
       "8   34  192  202  \n",
       "9    9  180  184  \n",
       "10   0  188  195  \n",
       "11  11  184  183  \n",
       "12   9  188  194  \n",
       "13  12  180  185  \n",
       "14  17  188  197  "
      ]
     },
     "execution_count": 3,
     "metadata": {},
     "output_type": "execute_result"
    }
   ],
   "source": [
    "X_train_pd = pd.DataFrame(X_train)\n",
    "\n",
    "# First 15 rows of our dataset.\n",
    "X_train_pd.head(15)"
   ]
  },
  {
   "cell_type": "markdown",
   "metadata": {
    "nbgrader": {
     "grade": false,
     "grade_id": "cell-98e7d91d77d65fcf",
     "locked": true,
     "schema_version": 2,
     "solution": false
    }
   },
   "source": [
    "Methods `describe` and `info` deliver some useful information."
   ]
  },
  {
   "cell_type": "code",
   "execution_count": 4,
   "metadata": {},
   "outputs": [
    {
     "data": {
      "text/html": [
       "<div>\n",
       "<style scoped>\n",
       "    .dataframe tbody tr th:only-of-type {\n",
       "        vertical-align: middle;\n",
       "    }\n",
       "\n",
       "    .dataframe tbody tr th {\n",
       "        vertical-align: top;\n",
       "    }\n",
       "\n",
       "    .dataframe thead th {\n",
       "        text-align: right;\n",
       "    }\n",
       "</style>\n",
       "<table border=\"1\" class=\"dataframe\">\n",
       "  <thead>\n",
       "    <tr style=\"text-align: right;\">\n",
       "      <th></th>\n",
       "      <th>0</th>\n",
       "      <th>1</th>\n",
       "      <th>2</th>\n",
       "      <th>3</th>\n",
       "      <th>4</th>\n",
       "      <th>5</th>\n",
       "      <th>6</th>\n",
       "      <th>7</th>\n",
       "      <th>8</th>\n",
       "      <th>9</th>\n",
       "      <th>10</th>\n",
       "      <th>11</th>\n",
       "      <th>12</th>\n",
       "      <th>13</th>\n",
       "      <th>14</th>\n",
       "      <th>15</th>\n",
       "      <th>16</th>\n",
       "      <th>17</th>\n",
       "      <th>18</th>\n",
       "    </tr>\n",
       "  </thead>\n",
       "  <tbody>\n",
       "    <tr>\n",
       "      <th>count</th>\n",
       "      <td>549.000000</td>\n",
       "      <td>549.000000</td>\n",
       "      <td>549.000000</td>\n",
       "      <td>549.000000</td>\n",
       "      <td>549.000000</td>\n",
       "      <td>549.000000</td>\n",
       "      <td>549.000000</td>\n",
       "      <td>549.000000</td>\n",
       "      <td>549.000000</td>\n",
       "      <td>549.000000</td>\n",
       "      <td>549.000000</td>\n",
       "      <td>549.000000</td>\n",
       "      <td>549.000000</td>\n",
       "      <td>549.000000</td>\n",
       "      <td>549.000000</td>\n",
       "      <td>549.000000</td>\n",
       "      <td>549.000000</td>\n",
       "      <td>549.000000</td>\n",
       "      <td>549.000000</td>\n",
       "    </tr>\n",
       "    <tr>\n",
       "      <th>mean</th>\n",
       "      <td>418.338798</td>\n",
       "      <td>93.504554</td>\n",
       "      <td>44.958106</td>\n",
       "      <td>82.202186</td>\n",
       "      <td>168.508197</td>\n",
       "      <td>61.459016</td>\n",
       "      <td>8.409836</td>\n",
       "      <td>169.675774</td>\n",
       "      <td>40.775956</td>\n",
       "      <td>20.661202</td>\n",
       "      <td>148.001821</td>\n",
       "      <td>189.109290</td>\n",
       "      <td>444.608379</td>\n",
       "      <td>175.958106</td>\n",
       "      <td>72.606557</td>\n",
       "      <td>6.324226</td>\n",
       "      <td>12.932605</td>\n",
       "      <td>188.590164</td>\n",
       "      <td>195.338798</td>\n",
       "    </tr>\n",
       "    <tr>\n",
       "      <th>std</th>\n",
       "      <td>243.103658</td>\n",
       "      <td>8.477023</td>\n",
       "      <td>6.185401</td>\n",
       "      <td>15.931798</td>\n",
       "      <td>32.464388</td>\n",
       "      <td>6.998218</td>\n",
       "      <td>4.101537</td>\n",
       "      <td>33.834135</td>\n",
       "      <td>7.887605</td>\n",
       "      <td>2.643331</td>\n",
       "      <td>14.561034</td>\n",
       "      <td>31.665607</td>\n",
       "      <td>180.150347</td>\n",
       "      <td>32.762083</td>\n",
       "      <td>7.154833</td>\n",
       "      <td>4.912424</td>\n",
       "      <td>9.240946</td>\n",
       "      <td>5.969629</td>\n",
       "      <td>7.468301</td>\n",
       "    </tr>\n",
       "    <tr>\n",
       "      <th>min</th>\n",
       "      <td>0.000000</td>\n",
       "      <td>73.000000</td>\n",
       "      <td>33.000000</td>\n",
       "      <td>40.000000</td>\n",
       "      <td>110.000000</td>\n",
       "      <td>47.000000</td>\n",
       "      <td>3.000000</td>\n",
       "      <td>112.000000</td>\n",
       "      <td>26.000000</td>\n",
       "      <td>17.000000</td>\n",
       "      <td>118.000000</td>\n",
       "      <td>130.000000</td>\n",
       "      <td>184.000000</td>\n",
       "      <td>109.000000</td>\n",
       "      <td>59.000000</td>\n",
       "      <td>0.000000</td>\n",
       "      <td>0.000000</td>\n",
       "      <td>176.000000</td>\n",
       "      <td>181.000000</td>\n",
       "    </tr>\n",
       "    <tr>\n",
       "      <th>25%</th>\n",
       "      <td>210.000000</td>\n",
       "      <td>87.000000</td>\n",
       "      <td>40.000000</td>\n",
       "      <td>70.000000</td>\n",
       "      <td>141.000000</td>\n",
       "      <td>57.000000</td>\n",
       "      <td>6.000000</td>\n",
       "      <td>147.000000</td>\n",
       "      <td>33.000000</td>\n",
       "      <td>19.000000</td>\n",
       "      <td>136.000000</td>\n",
       "      <td>168.000000</td>\n",
       "      <td>319.000000</td>\n",
       "      <td>149.000000</td>\n",
       "      <td>68.000000</td>\n",
       "      <td>2.000000</td>\n",
       "      <td>5.000000</td>\n",
       "      <td>184.000000</td>\n",
       "      <td>190.000000</td>\n",
       "    </tr>\n",
       "    <tr>\n",
       "      <th>50%</th>\n",
       "      <td>427.000000</td>\n",
       "      <td>92.000000</td>\n",
       "      <td>44.000000</td>\n",
       "      <td>80.000000</td>\n",
       "      <td>168.000000</td>\n",
       "      <td>61.000000</td>\n",
       "      <td>8.000000</td>\n",
       "      <td>157.000000</td>\n",
       "      <td>43.000000</td>\n",
       "      <td>20.000000</td>\n",
       "      <td>146.000000</td>\n",
       "      <td>179.000000</td>\n",
       "      <td>365.000000</td>\n",
       "      <td>174.000000</td>\n",
       "      <td>71.000000</td>\n",
       "      <td>5.000000</td>\n",
       "      <td>11.000000</td>\n",
       "      <td>188.000000</td>\n",
       "      <td>197.000000</td>\n",
       "    </tr>\n",
       "    <tr>\n",
       "      <th>75%</th>\n",
       "      <td>617.000000</td>\n",
       "      <td>100.000000</td>\n",
       "      <td>50.000000</td>\n",
       "      <td>98.000000</td>\n",
       "      <td>195.000000</td>\n",
       "      <td>65.000000</td>\n",
       "      <td>10.000000</td>\n",
       "      <td>201.000000</td>\n",
       "      <td>46.000000</td>\n",
       "      <td>23.000000</td>\n",
       "      <td>160.000000</td>\n",
       "      <td>218.000000</td>\n",
       "      <td>602.000000</td>\n",
       "      <td>200.000000</td>\n",
       "      <td>76.000000</td>\n",
       "      <td>9.000000</td>\n",
       "      <td>19.000000</td>\n",
       "      <td>193.000000</td>\n",
       "      <td>201.000000</td>\n",
       "    </tr>\n",
       "    <tr>\n",
       "      <th>max</th>\n",
       "      <td>844.000000</td>\n",
       "      <td>117.000000</td>\n",
       "      <td>58.000000</td>\n",
       "      <td>112.000000</td>\n",
       "      <td>252.000000</td>\n",
       "      <td>126.000000</td>\n",
       "      <td>52.000000</td>\n",
       "      <td>262.000000</td>\n",
       "      <td>61.000000</td>\n",
       "      <td>28.000000</td>\n",
       "      <td>180.000000</td>\n",
       "      <td>288.000000</td>\n",
       "      <td>998.000000</td>\n",
       "      <td>268.000000</td>\n",
       "      <td>127.000000</td>\n",
       "      <td>22.000000</td>\n",
       "      <td>41.000000</td>\n",
       "      <td>204.000000</td>\n",
       "      <td>211.000000</td>\n",
       "    </tr>\n",
       "  </tbody>\n",
       "</table>\n",
       "</div>"
      ],
      "text/plain": [
       "               0           1           2           3           4           5   \\\n",
       "count  549.000000  549.000000  549.000000  549.000000  549.000000  549.000000   \n",
       "mean   418.338798   93.504554   44.958106   82.202186  168.508197   61.459016   \n",
       "std    243.103658    8.477023    6.185401   15.931798   32.464388    6.998218   \n",
       "min      0.000000   73.000000   33.000000   40.000000  110.000000   47.000000   \n",
       "25%    210.000000   87.000000   40.000000   70.000000  141.000000   57.000000   \n",
       "50%    427.000000   92.000000   44.000000   80.000000  168.000000   61.000000   \n",
       "75%    617.000000  100.000000   50.000000   98.000000  195.000000   65.000000   \n",
       "max    844.000000  117.000000   58.000000  112.000000  252.000000  126.000000   \n",
       "\n",
       "               6           7           8           9           10          11  \\\n",
       "count  549.000000  549.000000  549.000000  549.000000  549.000000  549.000000   \n",
       "mean     8.409836  169.675774   40.775956   20.661202  148.001821  189.109290   \n",
       "std      4.101537   33.834135    7.887605    2.643331   14.561034   31.665607   \n",
       "min      3.000000  112.000000   26.000000   17.000000  118.000000  130.000000   \n",
       "25%      6.000000  147.000000   33.000000   19.000000  136.000000  168.000000   \n",
       "50%      8.000000  157.000000   43.000000   20.000000  146.000000  179.000000   \n",
       "75%     10.000000  201.000000   46.000000   23.000000  160.000000  218.000000   \n",
       "max     52.000000  262.000000   61.000000   28.000000  180.000000  288.000000   \n",
       "\n",
       "               12          13          14          15          16          17  \\\n",
       "count  549.000000  549.000000  549.000000  549.000000  549.000000  549.000000   \n",
       "mean   444.608379  175.958106   72.606557    6.324226   12.932605  188.590164   \n",
       "std    180.150347   32.762083    7.154833    4.912424    9.240946    5.969629   \n",
       "min    184.000000  109.000000   59.000000    0.000000    0.000000  176.000000   \n",
       "25%    319.000000  149.000000   68.000000    2.000000    5.000000  184.000000   \n",
       "50%    365.000000  174.000000   71.000000    5.000000   11.000000  188.000000   \n",
       "75%    602.000000  200.000000   76.000000    9.000000   19.000000  193.000000   \n",
       "max    998.000000  268.000000  127.000000   22.000000   41.000000  204.000000   \n",
       "\n",
       "               18  \n",
       "count  549.000000  \n",
       "mean   195.338798  \n",
       "std      7.468301  \n",
       "min    181.000000  \n",
       "25%    190.000000  \n",
       "50%    197.000000  \n",
       "75%    201.000000  \n",
       "max    211.000000  "
      ]
     },
     "execution_count": 4,
     "metadata": {},
     "output_type": "execute_result"
    }
   ],
   "source": [
    "X_train_pd.describe()"
   ]
  },
  {
   "cell_type": "code",
   "execution_count": 5,
   "metadata": {},
   "outputs": [
    {
     "name": "stdout",
     "output_type": "stream",
     "text": [
      "<class 'pandas.core.frame.DataFrame'>\n",
      "RangeIndex: 549 entries, 0 to 548\n",
      "Data columns (total 19 columns):\n",
      " #   Column  Non-Null Count  Dtype\n",
      "---  ------  --------------  -----\n",
      " 0   0       549 non-null    int32\n",
      " 1   1       549 non-null    int32\n",
      " 2   2       549 non-null    int32\n",
      " 3   3       549 non-null    int32\n",
      " 4   4       549 non-null    int32\n",
      " 5   5       549 non-null    int32\n",
      " 6   6       549 non-null    int32\n",
      " 7   7       549 non-null    int32\n",
      " 8   8       549 non-null    int32\n",
      " 9   9       549 non-null    int32\n",
      " 10  10      549 non-null    int32\n",
      " 11  11      549 non-null    int32\n",
      " 12  12      549 non-null    int32\n",
      " 13  13      549 non-null    int32\n",
      " 14  14      549 non-null    int32\n",
      " 15  15      549 non-null    int32\n",
      " 16  16      549 non-null    int32\n",
      " 17  17      549 non-null    int32\n",
      " 18  18      549 non-null    int32\n",
      "dtypes: int32(19)\n",
      "memory usage: 40.9 KB\n"
     ]
    }
   ],
   "source": [
    "X_train_pd.info()"
   ]
  },
  {
   "cell_type": "markdown",
   "metadata": {
    "nbgrader": {
     "grade": false,
     "grade_id": "cell-be844269be69c387",
     "locked": true,
     "schema_version": 2,
     "solution": false
    }
   },
   "source": [
    "### 2. Machine Learning pipeline\n",
    "Here you are supposed to perform the desired transformations. Please, explain your results briefly after each task."
   ]
  },
  {
   "cell_type": "markdown",
   "metadata": {},
   "source": [
    "#### 2.0. Data preprocessing\n",
    "* Make some transformations of the dataset (if necessary). Briefly explain the transformations"
   ]
  },
  {
   "cell_type": "code",
   "execution_count": 6,
   "metadata": {
    "nbgrader": {
     "grade": true,
     "grade_id": "cell-a1514aa189a49fca",
     "locked": false,
     "points": 15,
     "schema_version": 2,
     "solution": true
    }
   },
   "outputs": [
    {
     "name": "stdout",
     "output_type": "stream",
     "text": [
      "[2 0 0 0 3 1 0 0 2 3 0 0 3 0 1 3 1 2 0 0 2 1 2 2 1 0 0 0 3 1 1 3 3 3 2 1 0\n",
      " 0 1 3 1 1 2 2 1 1 1 0 2 0 0 1 1 3 2 2 2 0 3 0 3 0 2 3 2 0 0 0 1 2 3 1 2 3\n",
      " 1 0 2 2 3 0 1 0 3 1 2 0 2 3 3 3 1 0 1 2 3 2 2 2 1 2 3 1 3 2 0 2 0 2 2 1 1\n",
      " 0 3 2 2 2 3 3 2 2 2 2 1 3 0 2 3 1 2 1 2 0 2 1 1 2 0 2 2 0 3 2 0 2 1 3 3 1\n",
      " 1 0 3 1 0 3 1 3 0 2 3 1 0 0 1 0 0 1 0 0 1 3 3 0 0 2 2 2 3 1 1 1 2 3 0 0 3\n",
      " 2 0 1 3 3 2 1 1 2 2 1 3 0 3 0 3 1 0 1 3 0 3 0 2 3 3 1 1 0 1 1 2 1 2 1 0 0\n",
      " 0 2 3 3 2 3 2 1 1 2 2 3 1 0 3 0 2 0 3 0 0 1 1 3 0 0 1 1 1 2 1 2 3 2 2 1 2\n",
      " 1 0 2 1 0 3 3 2 1 3 0 0 3 0 3 3 2 2 1 2 2 2 3 2 1 0 2 2 3 1 0 1 0 1 0 0 2\n",
      " 2 3 2 2 3 3 0 0 3 2 0 3 0 2 0 2 2 3 2 0 2 0 0 3 0 0 2 0 2 1 2 3 2 0 2 3 0\n",
      " 1 1 0 0 1 2 2 1 1 2 0 2 2 1 1 0 3 1 0 2 2 0 0 3 1 2 3 2 3 2 3 1 0 1 2 1 1\n",
      " 2 1 0 3 0 1 0 1 3 2 0 3 1 3 2 3 3 1 0 1 3 2 1 0 2 0 3 3 0 0 0 0 1 2 3 1 3\n",
      " 3 3 1 2 3 1 0 1 3 0 2 2 3 0 3 1 0 2 1 3 1 0 1 1 1 0 2 0 0 1 2 1 2 2 1 0 3\n",
      " 1 2 1 2 1 0 1 3 0 2 0 1 1 0 1 3 0 0 1 2 2 0 0 3 0 1 1 0 1 0 3 3 1 1 3 3 0\n",
      " 3 1 0 3 2 0 0 2 0 0 2 3 2 2 3 1 1 2 2 3 2 3 1 0 2 0 1 0 0 1 2 0 2 3 2 1 1\n",
      " 1 2 1 0 0 2 3 1 1 0 3 1 1 2 3 2 2 2 3 1 2 0 3 2 2 0 1 2 2 1 2]\n",
      "[0 1 3 1 1 2 0 0 1 2 0 2 3 0 2 1 1 0 2 3 1 3 1 1 3 0 3 2 2 2 3 0 2 0 2 2 0\n",
      " 1 3 3 2 2 1 1 3 0 2 3 0 2 2 0 3 3 3 0 1 2 0 1 3 2 1 3 2 3 0 2 1 2 1 3 1 2\n",
      " 0 1 2 3 0 0 0 1 2 1 0 1 3 0 0 3 3 3 0 2 3 3 3 2 1 3 1 2 3 2 2 2 1 1 1 2 1\n",
      " 2 2 3 1 0 1 3 3 3 0 3 0 3 3 0 3 1 1 3 1 3 0 0 0 0 3 2 3 1 3 2 0 1 0 0 3 0\n",
      " 0 1 3 2 0 2 0 0 0 2 1 0 1 1 3 3 3 2 3 0 1 3 3 3 3 2 2 0 0 2 0 1 0 3 0 3 1\n",
      " 1 3 0 2 1 0 1 2 2 3 3 1 2 2 3 1 1 0 1 1 0 3 3 2 0 3 2 3 0 3 3 3 2 0 3 3 0\n",
      " 1 2 1 3 2 3 0 2 3 1 2 2 3 3 3 1 0 3 2 0 2 1 1 1 0 1 1 0 1 0 2 2 3 2 0 3 0\n",
      " 2 0 3 1 1 1 2 2 1 3 0 0 0 1 2 1 1 3 3 1 2 1 2 0 0 1 0 1 0 3 1 3 3 0 2 2 1\n",
      " 2]\n"
     ]
    }
   ],
   "source": [
    "### YOUR CODE HERE\n",
    "\n",
    "#Encoding labes from non-numerical values of target\n",
    "from sklearn.preprocessing import LabelEncoder\n",
    "\n",
    "y_train = LabelEncoder().fit_transform(y_train)\n",
    "y_test = LabelEncoder().fit_transform(y_test) \n",
    "\n",
    "print(y_train)\n",
    "print(y_test)"
   ]
  },
  {
   "cell_type": "markdown",
   "metadata": {},
   "source": [
    "#### 2.1. Basic logistic regression\n",
    "* Find optimal hyperparameters for logistic regression with cross-validation on the `train` data (small grid/random search is enough, no need to find the *best* parameters).\n",
    "\n",
    "* Estimate the model quality with `f1` and `accuracy` scores.\n",
    "* Plot a ROC-curve for the trained model. For the multiclass case you might use `scikitplot` library (e.g. `scikitplot.metrics.plot_roc(test_labels, predicted_proba)`).\n",
    "\n",
    "*Note: please, use the following hyperparameters for logistic regression: `multi_class='multinomial'`, `solver='saga'` `tol=1e-3` and ` max_iter=500`.*"
   ]
  },
  {
   "cell_type": "code",
   "execution_count": 7,
   "metadata": {
    "nbgrader": {
     "grade": true,
     "grade_id": "cell-1dd5ad5d0845cbbb",
     "locked": false,
     "points": 5,
     "schema_version": 2,
     "solution": true
    }
   },
   "outputs": [
    {
     "data": {
      "text/plain": [
       "'***************** Check bellow, in the next few cells my solution is presented and explained! '"
      ]
     },
     "execution_count": 7,
     "metadata": {},
     "output_type": "execute_result"
    }
   ],
   "source": [
    "### YOUR CODE HERE\n",
    "\n",
    "'''***************** Check bellow, in the next few cells my solution is presented and explained! '''"
   ]
  },
  {
   "cell_type": "markdown",
   "metadata": {},
   "source": [
    "## My solution\n",
    "\n",
    "## Finding optimal hyperparameters for C and penalty norm \n",
    "\n",
    "Cross validation grid search is used for a set of 20 different (along a logarithmic base 10 scale) values for C and for l2 and l1 norms, using as scoring f1 and accuracy.\n",
    "Two estimators are refitted relative to the best f1 and accuracy score, \n",
    "the scores are compared and the final model, with its optimal hyperparameters, is choosen as the one that yields the best score along with its hyperparameters\n"
   ]
  },
  {
   "cell_type": "code",
   "execution_count": 8,
   "metadata": {},
   "outputs": [
    {
     "name": "stdout",
     "output_type": "stream",
     "text": [
      "LogisticRegression(max_iter=500, multi_class='multinomial', solver='saga',\n",
      "                   tol=0.001)\n"
     ]
    }
   ],
   "source": [
    "from sklearn.linear_model import LogisticRegression \n",
    "\n",
    "logreg_clf = LogisticRegression(multi_class='multinomial', solver='saga', tol=1e-3, max_iter=500)\n",
    "print(logreg_clf)\n",
    "\n",
    "\n",
    "from sklearn.model_selection import GridSearchCV\n",
    "\n",
    "C_range = np.logspace(-4, 4, 20)\n",
    "penalty_range = np.array(['l2', 'l1'])\n",
    "grid_search_CV_parameters = {\n",
    "        'C':C_range,\n",
    "        'penalty':penalty_range\n",
    "        }\n",
    "scoring = {'f1':'f1_micro','accuracy':'accuracy'}"
   ]
  },
  {
   "cell_type": "code",
   "execution_count": 9,
   "metadata": {},
   "outputs": [
    {
     "name": "stdout",
     "output_type": "stream",
     "text": [
      "GridSearchCV(cv=5,\n",
      "             estimator=LogisticRegression(max_iter=500,\n",
      "                                          multi_class='multinomial',\n",
      "                                          solver='saga', tol=0.001),\n",
      "             n_jobs=-1,\n",
      "             param_grid={'C': array([1.00000000e-04, 2.63665090e-04, 6.95192796e-04, 1.83298071e-03,\n",
      "       4.83293024e-03, 1.27427499e-02, 3.35981829e-02, 8.85866790e-02,\n",
      "       2.33572147e-01, 6.15848211e-01, 1.62377674e+00, 4.28133240e+00,\n",
      "       1.12883789e+01, 2.97635144e+01, 7.84759970e+01, 2.06913808e+02,\n",
      "       5.45559478e+02, 1.43844989e+03, 3.79269019e+03, 1.00000000e+04]),\n",
      "                         'penalty': array(['l2', 'l1'], dtype='<U2')},\n",
      "             refit='f1', scoring={'accuracy': 'accuracy', 'f1': 'f1_micro'},\n",
      "             verbose=1)\n"
     ]
    }
   ],
   "source": [
    "#**************First refitting relative to the best f1 score\n",
    "\n",
    "gridsearchCV_result = GridSearchCV(logreg_clf, grid_search_CV_parameters, verbose = 1,\n",
    "                           cv = 5 , scoring = scoring, refit = 'f1' , n_jobs=-1 )\n",
    "\n",
    "print(gridsearchCV_result)"
   ]
  },
  {
   "cell_type": "code",
   "execution_count": 10,
   "metadata": {},
   "outputs": [
    {
     "name": "stdout",
     "output_type": "stream",
     "text": [
      "Fitting 5 folds for each of 40 candidates, totalling 200 fits\n",
      "\n",
      "##############################################################\n",
      "###  Grid Search Cross Validation results\n",
      "##############################################################\n",
      "*****Grid search-CV best estimator refitted for f1 =\n",
      "LogisticRegression(C=0.012742749857031334, max_iter=500,\n",
      "                   multi_class='multinomial', solver='saga', tol=0.001)\n",
      "*****Grid search-CV best f1 score = 0.7085237698081734\n",
      "*****Grid search-CV best parameters for best estimator refitted for f1 = {'C': 0.012742749857031334, 'penalty': 'l2'}\n",
      "\n"
     ]
    }
   ],
   "source": [
    "#Performing cross validated grid search and refitting relative to the best f1 score \n",
    "gridsearchCV_result.fit(X_train, y_train) \n",
    "\n",
    "best_estimator_forf1 = gridsearchCV_result.best_estimator_\n",
    "best_f1score = gridsearchCV_result.best_score_\n",
    "best_estimator_params_forf1 = gridsearchCV_result.best_params_\n",
    "print(f'''\n",
    "##############################################################\n",
    "###  Grid Search Cross Validation results\n",
    "##############################################################\n",
    "*****Grid search-CV best estimator refitted for f1 =\\n{best_estimator_forf1}\n",
    "*****Grid search-CV best f1 score = {best_f1score}\n",
    "*****Grid search-CV best parameters for best estimator refitted for f1 = {best_estimator_params_forf1}\n",
    "''')"
   ]
  },
  {
   "cell_type": "code",
   "execution_count": 11,
   "metadata": {},
   "outputs": [
    {
     "name": "stdout",
     "output_type": "stream",
     "text": [
      "GridSearchCV(cv=5,\n",
      "             estimator=LogisticRegression(max_iter=500,\n",
      "                                          multi_class='multinomial',\n",
      "                                          solver='saga', tol=0.001),\n",
      "             n_jobs=-1,\n",
      "             param_grid={'C': array([1.00000000e-04, 2.63665090e-04, 6.95192796e-04, 1.83298071e-03,\n",
      "       4.83293024e-03, 1.27427499e-02, 3.35981829e-02, 8.85866790e-02,\n",
      "       2.33572147e-01, 6.15848211e-01, 1.62377674e+00, 4.28133240e+00,\n",
      "       1.12883789e+01, 2.97635144e+01, 7.84759970e+01, 2.06913808e+02,\n",
      "       5.45559478e+02, 1.43844989e+03, 3.79269019e+03, 1.00000000e+04]),\n",
      "                         'penalty': array(['l2', 'l1'], dtype='<U2')},\n",
      "             refit='accuracy',\n",
      "             scoring={'accuracy': 'accuracy', 'f1': 'f1_micro'}, verbose=1)\n"
     ]
    }
   ],
   "source": [
    "#**************Now refitting relative to the best accuracy score\n",
    "\n",
    "gridsearchCV_result = GridSearchCV(logreg_clf, grid_search_CV_parameters, verbose = 1,\n",
    "                           cv = 5 , scoring = scoring, refit = 'accuracy' , n_jobs=-1 )\n",
    "\n",
    "print(gridsearchCV_result)"
   ]
  },
  {
   "cell_type": "code",
   "execution_count": 13,
   "metadata": {},
   "outputs": [
    {
     "name": "stdout",
     "output_type": "stream",
     "text": [
      "Fitting 5 folds for each of 40 candidates, totalling 200 fits\n",
      "\n",
      "##############################################################\n",
      "###  Grid Search Cross Validation results\n",
      "##############################################################\n",
      "*****Grid search-CV best estimator refitted for accuracy =\n",
      "LogisticRegression(C=0.03359818286283781, max_iter=500,\n",
      "                   multi_class='multinomial', solver='saga', tol=0.001)\n",
      "*****Grid search-CV best accuracy score = 0.7103419516263553\n",
      "*****Grid search-CV best parameters for best estimator refitted for accuracy = {'C': 0.03359818286283781, 'penalty': 'l2'}\n",
      "\n"
     ]
    }
   ],
   "source": [
    "#Performing cross validated grid search and refitting relative to the best accuracy score \n",
    "gridsearchCV_result.fit(X_train, y_train) \n",
    "\n",
    "best_estimator_foraccuracy = gridsearchCV_result.best_estimator_\n",
    "best_accuracyscore = gridsearchCV_result.best_score_\n",
    "best_estimator_params_foraccuracy = gridsearchCV_result.best_params_\n",
    "print(f'''\n",
    "##############################################################\n",
    "###  Grid Search Cross Validation results\n",
    "##############################################################\n",
    "*****Grid search-CV best estimator refitted for accuracy =\\n{best_estimator_foraccuracy}\n",
    "*****Grid search-CV best accuracy score = {best_accuracyscore}\n",
    "*****Grid search-CV best parameters for best estimator refitted for accuracy = {best_estimator_params_foraccuracy}\n",
    "''')"
   ]
  },
  {
   "cell_type": "code",
   "execution_count": 15,
   "metadata": {},
   "outputs": [
    {
     "name": "stdout",
     "output_type": "stream",
     "text": [
      "Estimator = LogisticRegression(C=0.03359818286283781, max_iter=500,\n",
      "                   multi_class='multinomial', solver='saga', tol=0.001),\n",
      "Optimal hyperparameters -> C = 0.03359818286283781, penalty = l2\n"
     ]
    }
   ],
   "source": [
    "#Comparing the best scores of the two estimators, and selecting the one with the best score along with its optimal hyperparameters \n",
    "\n",
    "if (max(best_f1score, best_accuracyscore) == best_accuracyscore ):\n",
    "    logreg_clf = best_estimator_foraccuracy\n",
    "    optC = best_estimator_params_foraccuracy['C']\n",
    "    optpenalty = best_estimator_params_foraccuracy['penalty']\n",
    "else:\n",
    "    logreg_clf = best_estimator_forf1\n",
    "    optC = best_estimator_params_forf1['C']\n",
    "    optpenalty = best_estimator_params_forf1['penalty']\n",
    "    \n",
    "print(f\"Estimator = {logreg_clf},\\nOptimal hyperparameters -> C = {optC}, penalty = {optpenalty}\") "
   ]
  },
  {
   "cell_type": "markdown",
   "metadata": {},
   "source": [
    "## Estimating the model quality using f1 and accuracy score "
   ]
  },
  {
   "cell_type": "code",
   "execution_count": 17,
   "metadata": {},
   "outputs": [
    {
     "name": "stdout",
     "output_type": "stream",
     "text": [
      "\n",
      "#######################################################\n",
      "***** Missclassified count = 78 testing samples out of 297 testing samples ,\n",
      "***** Missclassified percentage = 26.26 %\n",
      "***** f1 score = 0.7373737373737375\n",
      "***** Accuracy Score = 0.7373737373737373\n",
      "#######################################################  \n",
      "\n",
      "\n",
      "######################################\n",
      "### Classification Report for optimal hyperparamenter C = 0.03359818286283781, penalty = l2 \n",
      "######################################\n",
      "              precision    recall  f1-score   support\n",
      "\n",
      "           0       0.78      0.88      0.83        73\n",
      "           1       0.68      0.49      0.57        73\n",
      "           2       0.61      0.62      0.61        69\n",
      "           3       0.84      0.93      0.88        82\n",
      "\n",
      "    accuracy                           0.74       297\n",
      "   macro avg       0.73      0.73      0.72       297\n",
      "weighted avg       0.73      0.74      0.73       297\n",
      "\n",
      "      \n"
     ]
    }
   ],
   "source": [
    "#Doing some predictions with the classifier and printing scores \n",
    "\n",
    "y_pred = logreg_clf.predict(X_test)\n",
    "\n",
    "###################################################\n",
    "### Counting missclasified samples and calculating accuracy score\n",
    "##################################################\n",
    "from sklearn.metrics import accuracy_score, f1_score, classification_report\n",
    "\n",
    "f1 = f1_score(y_test, y_pred, average='micro')\n",
    "accuracy = accuracy_score(y_test, y_pred)\n",
    "missclfd = ( y_pred != y_test ).sum()\n",
    "\n",
    "\n",
    "print(f'''\n",
    "#######################################################\n",
    "***** Missclassified count = {missclfd} testing samples out of {len(y_test)} testing samples ,\n",
    "***** Missclassified percentage = {((missclfd / len(y_test)) * 100.0):.2f} %\n",
    "***** f1 score = {f1}\n",
    "***** Accuracy Score = {accuracy}\n",
    "#######################################################  \n",
    "''')\n",
    "print(f'''\n",
    "######################################\n",
    "### Classification Report for optimal hyperparamenter C = {optC}, penalty = {optpenalty} \n",
    "######################################\n",
    "{classification_report(y_test, y_pred)}\n",
    "      ''')"
   ]
  },
  {
   "cell_type": "markdown",
   "metadata": {},
   "source": [
    "## Plotting the ROC-curve for the trained model "
   ]
  },
  {
   "cell_type": "code",
   "execution_count": 18,
   "metadata": {},
   "outputs": [
    {
     "data": {
      "text/plain": [
       "<AxesSubplot:title={'center':'ROC Curves'}, xlabel='False Positive Rate', ylabel='True Positive Rate'>"
      ]
     },
     "execution_count": 18,
     "metadata": {},
     "output_type": "execute_result"
    },
    {
     "data": {
      "image/png": "[encoded data removed]",
      "text/plain": [
       "<Figure size 640x480 with 1 Axes>"
      ]
     },
     "metadata": {},
     "output_type": "display_data"
    }
   ],
   "source": [
    "import scikitplot as skplt\n",
    "\n",
    "y_proba = logreg_clf.predict_proba(X_test)\n",
    "\n",
    "skplt.metrics.plot_roc(y_test, y_proba)"
   ]
  },
  {
   "cell_type": "code",
   "execution_count": 20,
   "metadata": {},
   "outputs": [],
   "source": [
    "# You might use this command to install scikit-plot. \n",
    "# Warning, if you a running locally, don't call pip from within jupyter, call it from terminal in the corresponding \n",
    "# virtual environment instead\n",
    "\n",
    "# ! pip install scikit-plot"
   ]
  },
  {
   "cell_type": "markdown",
   "metadata": {},
   "source": [
    "#### 2.2. PCA: explained variance plot\n",
    "* Apply the PCA to the train part of the data. Build the explaided variance plot. "
   ]
  },
  {
   "cell_type": "code",
   "execution_count": null,
   "metadata": {
    "nbgrader": {
     "grade": true,
     "grade_id": "cell-c6c614740bce090e",
     "locked": false,
     "points": 10,
     "schema_version": 2,
     "solution": true
    }
   },
   "outputs": [],
   "source": [
    "### YOUR CODE HERE"
   ]
  },
  {
   "cell_type": "markdown",
   "metadata": {
    "nbgrader": {
     "grade": false,
     "grade_id": "cell-0c1fe666f52fe53c",
     "locked": true,
     "schema_version": 2,
     "solution": false
    }
   },
   "source": [
    "#### 2.3. PCA trasformation\n",
    "* Select the appropriate number of components. Briefly explain your choice. Should you normalize the data?\n",
    "\n",
    "*Use `fit` and `transform` methods to transform the `train` and `test` parts.*"
   ]
  },
  {
   "cell_type": "code",
   "execution_count": null,
   "metadata": {
    "nbgrader": {
     "grade": true,
     "grade_id": "cell-96ab18d96473ef71",
     "locked": false,
     "points": 5,
     "schema_version": 2,
     "solution": true
    }
   },
   "outputs": [],
   "source": [
    "### YOUR CODE HERE"
   ]
  },
  {
   "cell_type": "markdown",
   "metadata": {},
   "source": [
    "**Note: From this point `sklearn` [Pipeline](https://scikit-learn.org/stable/modules/compose.html) might be useful to perform transformations on the data. Refer to the [docs](https://scikit-learn.org/stable/modules/generated/sklearn.pipeline.Pipeline.html) for more information.**"
   ]
  },
  {
   "cell_type": "markdown",
   "metadata": {
    "nbgrader": {
     "grade": false,
     "grade_id": "cell-d28b58a35c94e988",
     "locked": true,
     "schema_version": 2,
     "solution": false
    }
   },
   "source": [
    "#### 2.4. Logistic regression on PCA-preprocessed data.\n",
    "* Find optimal hyperparameters for logistic regression with cross-validation on the transformed by PCA `train` data.\n",
    "\n",
    "* Estimate the model quality with `f1` and `accuracy` scores.\n",
    "* Plot a ROC-curve for the trained model. For the multiclass case you might use `scikitplot` library (e.g. `scikitplot.metrics.plot_roc(test_labels, predicted_proba)`).\n",
    "\n",
    "*Note: please, use the following hyperparameters for logistic regression: `multi_class='multinomial'`, `solver='saga'` and `tol=1e-3`*"
   ]
  },
  {
   "cell_type": "code",
   "execution_count": null,
   "metadata": {
    "nbgrader": {
     "grade": true,
     "grade_id": "cell-12d53ea45258fa82",
     "locked": false,
     "points": 5,
     "schema_version": 2,
     "solution": true
    }
   },
   "outputs": [],
   "source": [
    "### YOUR CODE HERE"
   ]
  },
  {
   "cell_type": "markdown",
   "metadata": {
    "nbgrader": {
     "grade": false,
     "grade_id": "cell-4fbf16c64076e139",
     "locked": true,
     "schema_version": 2,
     "solution": false
    }
   },
   "source": [
    "#### 2.5. Decision tree\n",
    "* Now train a desicion tree on the same data. Find optimal tree depth (`max_depth`) using cross-validation.\n",
    "\n",
    "* Measure the model quality using the same metrics you used above."
   ]
  },
  {
   "cell_type": "code",
   "execution_count": null,
   "metadata": {
    "nbgrader": {
     "grade": true,
     "grade_id": "cell-748ed20b51c67fab",
     "locked": false,
     "points": 15,
     "schema_version": 2,
     "solution": true
    }
   },
   "outputs": [],
   "source": [
    "from sklearn.tree import DecisionTreeClassifier\n",
    "\n",
    "# YOUR CODE HERE"
   ]
  },
  {
   "cell_type": "markdown",
   "metadata": {
    "nbgrader": {
     "grade": false,
     "grade_id": "cell-9eadd4d8a03ae67a",
     "locked": true,
     "schema_version": 2,
     "solution": false
    }
   },
   "source": [
    "#### 2.6. Bagging.\n",
    "Here starts the ensembling part.\n",
    "\n",
    "First we will use the __Bagging__ approach. Build an ensemble of $N$ algorithms varying N from $N_{min}=2$ to $N_{max}=100$ (with step 5).\n",
    "\n",
    "We will build two ensembles: of logistic regressions and of decision trees.\n",
    "\n",
    "*Comment: each ensemble should be constructed from models of the same family, so logistic regressions should not be mixed up with decision trees.*\n",
    "\n",
    "\n",
    "*Hint 1: To build a __Bagging__ ensebmle varying the ensemble size efficiently you might generate $N_{max}$ subsets of `train` data (of the same size as the original dataset) using bootstrap procedure once. Then you train a new instance of logistic regression/decision tree with optimal hyperparameters you estimated before on each subset (so you train it from scratch). Finally, to get an ensemble of $N$ models you average the $N$ out of $N_{max}$ models predictions.*\n",
    "\n",
    "*Hint 2: sklearn might help you with this taks. Some appropriate function/class might be out there.*\n",
    "\n",
    "* Plot `f1` and `accuracy` scores plots w.r.t. the size of the ensemble.\n",
    "\n",
    "* Briefly analyse the plot. What is the optimal number of algorithms? Explain your answer.\n",
    "\n",
    "* How do you think, are the hyperparameters for the decision trees you found in 2.5 optimal for trees used in ensemble? "
   ]
  },
  {
   "cell_type": "code",
   "execution_count": null,
   "metadata": {
    "nbgrader": {
     "grade": true,
     "grade_id": "cell-8fc95a2b206bdae1",
     "locked": false,
     "points": 35,
     "schema_version": 2,
     "solution": true
    }
   },
   "outputs": [],
   "source": [
    "# YOUR CODE HERE"
   ]
  },
  {
   "cell_type": "code",
   "execution_count": null,
   "metadata": {},
   "outputs": [],
   "source": []
  },
  {
   "cell_type": "markdown",
   "metadata": {
    "nbgrader": {
     "grade": false,
     "grade_id": "cell-241b7691ab44cbfb",
     "locked": true,
     "schema_version": 2,
     "solution": false
    }
   },
   "source": [
    "#### 2.7. Random Forest\n",
    "Now we will work with the Random Forest (its `sklearn` implementation).\n",
    "\n",
    "* * Plot `f1` and `accuracy` scores plots w.r.t. the number of trees in Random Forest.\n",
    "\n",
    "* What is the optimal number of trees you've got? Is it different from the optimal number of logistic regressions/decision trees in 2.6? Explain the results briefly."
   ]
  },
  {
   "cell_type": "code",
   "execution_count": null,
   "metadata": {
    "nbgrader": {
     "grade": true,
     "grade_id": "cell-888755d0f3d91620",
     "locked": false,
     "points": 15,
     "schema_version": 2,
     "solution": true
    }
   },
   "outputs": [],
   "source": [
    "from sklearn.ensemble import RandomForestClassifier\n",
    "\n",
    "# YOUR CODE HERE"
   ]
  },
  {
   "cell_type": "markdown",
   "metadata": {
    "nbgrader": {
     "grade": false,
     "grade_id": "cell-99191c0852538d4d",
     "locked": true,
     "schema_version": 2,
     "solution": false
    }
   },
   "source": [
    "#### 2.8. Learning curve\n",
    "Your goal is to estimate, how does the model behaviour change with the increase of the `train` dataset size.\n",
    "\n",
    "* Split the training data into 10 equal (almost) parts. Then train the models from above (Logistic regression, Desicion Tree, Random Forest) with optimal hyperparameters you have selected on 1 part, 2 parts (combined, so the train size in increased by 2 times), 3 parts and so on.\n",
    "\n",
    "* Build a plot of `accuracy` and `f1` scores on `test` part, varying the `train` dataset size (so the axes will be score - dataset size.\n",
    "\n",
    "* Analyse the final plot. Can you make any conlusions using it? "
   ]
  },
  {
   "cell_type": "code",
   "execution_count": null,
   "metadata": {
    "nbgrader": {
     "grade": true,
     "grade_id": "cell-e39bc7e7dff61ff9",
     "locked": false,
     "points": 15,
     "schema_version": 2,
     "solution": true
    }
   },
   "outputs": [],
   "source": [
    "# YOUR CODE HERE"
   ]
  }
 ],
 "metadata": {
  "celltoolbar": "Create Assignment",
  "kernelspec": {
   "display_name": "Python 3 (ipykernel)",
   "language": "python",
   "name": "python3"
  },
  "language_info": {
   "codemirror_mode": {
    "name": "ipython",
    "version": 3
   },
   "file_extension": ".py",
   "mimetype": "text/x-python",
   "name": "python",
   "nbconvert_exporter": "python",
   "pygments_lexer": "ipython3",
   "version": "3.9.7"
  },
  "toc": {
   "base_numbering": 1,
   "nav_menu": {},
   "number_sections": false,
   "sideBar": true,
   "skip_h1_title": false,
   "title_cell": "Table of Contents",
   "title_sidebar": "Contents",
   "toc_cell": false,
   "toc_position": {},
   "toc_section_display": true,
   "toc_window_display": false
  }
 },
 "nbformat": 4,
 "nbformat_minor": 4
}
