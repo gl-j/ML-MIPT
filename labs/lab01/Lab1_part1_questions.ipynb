{
 "cells": [
  {
   "cell_type": "markdown",
   "metadata": {},
   "source": [
    "*Credits: materials from this notebook belong to YSDA [Practical DL](https://github.com/yandexdataschool/Practical_DL) course. Special thanks for making them available online.*"
   ]
  },
  {
   "cell_type": "markdown",
   "metadata": {},
   "source": [
    "# Lab assignment №1, part 1\n",
    "\n",
    "This lab assignment consists of several parts. You are supposed to make some transformations, train some models, estimate the quality of the models and explain your results.\n",
    "\n",
    "Several comments:\n",
    "* Don't hesitate to ask questions, it's a good practice.\n",
    "* No private/public sharing, please. The copied assignments will be graded with 0 points.\n",
    "* Blocks of this lab will be graded separately."
   ]
  },
  {
   "cell_type": "markdown",
   "metadata": {},
   "source": [
    "## 1. Matrix differentiation"
   ]
  },
  {
   "cell_type": "markdown",
   "metadata": {},
   "source": [
    "Since it easy to google every task please please please try to undestand what's going on. The \"just answer\" thing will be not counted, make sure to present derivation of your solution. It is absolutely OK if you found an answer on web then just exercise in $\\LaTeX$ copying it into here."
   ]
  },
  {
   "cell_type": "markdown",
   "metadata": {},
   "source": [
    "Useful links: \n",
    "[1](http://www.machinelearning.ru/wiki/images/2/2a/Matrix-Gauss.pdf)\n",
    "[2](http://www.atmos.washington.edu/~dennis/MatrixCalculus.pdf)"
   ]
  },
  {
   "cell_type": "markdown",
   "metadata": {},
   "source": [
    "## ex. 1"
   ]
  },
  {
   "cell_type": "markdown",
   "metadata": {},
   "source": [
    "$$  \n",
    "y = x^Tx,  \\quad x \\in \\mathbb{R}^N \n",
    "$$"
   ]
  },
  {
   "cell_type": "markdown",
   "metadata": {},
   "source": [
    "$$\n",
    "\\frac{dy}{dx} = \n",
    "$$ "
   ]
  },
  {
   "cell_type": "markdown",
   "metadata": {
    "collapsed": true,
    "jupyter": {
     "outputs_hidden": true
    }
   },
   "source": [
    "#### ****Solution to ex. 1:\n",
    "\n",
    "#### Note: ****This solution uses denominator layout convention \n",
    "$$\n",
    "\\frac{d\\textbf{x}^T\\textbf{x}}{d\\textbf{x}} = \n",
    "\\frac{d\\begin{pmatrix} x_1  \\\\ \\vdots \\\\ x_n \\end{pmatrix} \n",
    "\\bigl(\\begin{smallmatrix}\n",
    "x_1 & \\cdots  & x_n \n",
    "\\end{smallmatrix}\\bigr)}{d\\textbf{x}} = \n",
    "\\frac{d\\bigl(\\begin{smallmatrix}\n",
    "x_1 \\cdot x_1 + & \\cdots & + x_n \\cdot x_n \n",
    "\\end{smallmatrix}\\bigr)}{d\\textbf{x}} =\n",
    "\\frac{d\\bigl(\\begin{smallmatrix}\n",
    "x_1^{2} + & \\cdots & + x_n^{2}\n",
    "\\end{smallmatrix}\\bigr)}{d\\textbf{x}}\n",
    "$$\n",
    "\n",
    "$$\n",
    "\\Rightarrow \\frac{d\\textbf{x}^T\\textbf{x}}{d\\textbf{x}} = \n",
    "\\begin{pmatrix} \\frac{\\partial (x_1^{2} + \\cdots + x_n^{2})}{\\partial x_1}  \\\\ \\vdots \\\\ \\frac{\\partial (x_1^{2} + \\cdots + x_n^{2})}{\\partial x_n} \\end{pmatrix} =\n",
    "\\begin{pmatrix}  2 \\cdot x_1  \\\\ \\vdots \\\\  2 \\cdot x_n \\end{pmatrix} = \n",
    "2 \\begin{pmatrix} x_1 \\\\ \\vdots \\\\ x_n \\end{pmatrix} =\n",
    "2 \\textbf{x}\n",
    "$$ \n"
   ]
  },
  {
   "cell_type": "markdown",
   "metadata": {},
   "source": [
    "## ex. 2"
   ]
  },
  {
   "cell_type": "markdown",
   "metadata": {},
   "source": [
    "$$ y = tr(AB) \\quad A,B \\in \\mathbb{R}^{N \\times N} $$ "
   ]
  },
  {
   "cell_type": "markdown",
   "metadata": {},
   "source": [
    "$$\n",
    "\\frac{dy}{dA} =\n",
    "$$"
   ]
  },
  {
   "cell_type": "markdown",
   "metadata": {
    "collapsed": true,
    "jupyter": {
     "outputs_hidden": true
    }
   },
   "source": [
    "#### ****Solution to ex. 2:\n",
    "\n",
    "#### Note: ****This solution uses numerator layout convention\n",
    "\n",
    "By definition $$tr(X) \\in \\mathbb{R} $$ \n",
    "therefore $$tr(AB) \\in \\mathbb{R} \\quad  {for} \\quad A, B \\in \\mathbb{R}^{N \\times N} $$\n",
    "Also $$tr(AB) = \\sum\\limits_{i=1}^n\\sum\\limits_{j=1}^n a_{ij}b_{ji}$$\n",
    "\n",
    "Since for this solution we are using numerator layout convention, then, the derivative of a scalar by a matrix yields a matrix with the transposed dimensions of the denominator, in this case dimensions are the same $N \\times N$ , since the denominator is a squared matrix.\n",
    "Then:\n",
    "\n",
    "$$\n",
    "\\frac{\\mathrm{d}tr(AB)}{\\mathrm{d}A} = \n",
    "\\begin{pmatrix}\n",
    " \\frac{\\partial tr(AB)}{\\partial a_{11}}& \\frac{\\partial tr(AB)}{\\partial a_{21}} & \\frac{\\partial tr(AB)}{\\partial a_{31}} & \\cdots & \\frac{\\partial tr(AB)}{\\partial a_{n1}} \\\\ \n",
    " \\frac{\\partial tr(AB)}{\\partial a_{12}}& \\frac{\\partial tr(AB)}{\\partial a_{22}} & \\frac{\\partial tr(AB)}{\\partial a_{32}} & \\cdots & \\frac{\\partial tr(AB)}{\\partial a_{n2}} \\\\ \n",
    " \\frac{\\partial tr(AB)}{\\partial a_{13}}& \\frac{\\partial tr(AB)}{\\partial a_{23}} & \\frac{\\partial tr(AB)}{\\partial a_{33}} & \\cdots  & \\frac{\\partial tr(AB)}{\\partial a_{n3}} \\\\ \n",
    " \\vdots& \\vdots & \\vdots & \\ddots & \\vdots \\\\ \n",
    " \\frac{\\partial tr(AB)}{\\partial a_{1n}}& \\frac{\\partial tr(AB)}{\\partial a_{2n}} & \\frac{\\partial tr(AB)}{\\partial a_{3n}} & \\cdots & \\frac{\\partial tr(AB)}{\\partial a_{nn}}\n",
    "\\end{pmatrix}\n",
    "$$\n",
    "Where: \n",
    "$\n",
    "\\frac{\\partial tr(AB)}{\\partial a_{kl}} = \n",
    "\\frac{\\partial (\\sum\\limits_{i=1}^n\\sum\\limits_{j=1}^n a_{ij}b_{ji})}{\\partial a_{\\color{red}{kl}}} =\n",
    "b_{\\color{red}{lk}} \\in \\mathbb{R} \n",
    "$\n",
    "and $k \\in \\{1,\\cdots ,n\\}$ , $l \\in \\{1,\\cdots ,n\\}$\n",
    "$$\n",
    "\\quad\n",
    "$$\n",
    "\n",
    "So\n",
    "$$ \n",
    "\\frac{\\partial tr(AB)}{\\partial a_{11}} = \\frac{\\partial (\\sum\\limits_{i=1}^n\\sum\\limits_{j=1}^n a_{ij}b_{ji})}{\\partial a_{11}} = b_{11}\n",
    "\\quad\n",
    "\\frac{\\partial tr(AB)}{\\partial a_{12}} = \\frac{\\partial (\\sum\\limits_{i=1}^n\\sum\\limits_{j=1}^n a_{ij}b_{ji})}{\\partial a_{12}} = b_{21}\n",
    "\\quad\n",
    "\\frac{\\partial tr(AB)}{\\partial a_{13}} = \\frac{\\partial (\\sum\\limits_{i=1}^n\\sum\\limits_{j=1}^n a_{ij}b_{ji})}{\\partial a_{13}} = b_{31}\n",
    "\\quad \n",
    "\\cdots \n",
    "\\quad\n",
    "\\frac{\\partial tr(AB)}{\\partial a_{1n}} = \\frac{\\partial (\\sum\\limits_{i=1}^n\\sum\\limits_{j=1}^n a_{ij}b_{ji})}{\\partial a_{1n}} = b_{n1}\n",
    "$$\n",
    "\n",
    "$$\n",
    "\\frac{\\partial tr(AB)}{\\partial a_{21}} = \\frac{\\partial (\\sum\\limits_{i=1}^n\\sum\\limits_{j=1}^n a_{ij}b_{ji})}{\\partial a_{21}} = b_{12}\n",
    "\\quad\n",
    "\\frac{\\partial tr(AB)}{\\partial a_{22}} = \\frac{\\partial (\\sum\\limits_{i=1}^n\\sum\\limits_{j=1}^n a_{ij}b_{ji})}{\\partial a_{22}} = b_{22}\n",
    "\\quad\n",
    "\\frac{\\partial tr(AB)}{\\partial a_{23}} = \\frac{\\partial (\\sum\\limits_{i=1}^n\\sum\\limits_{j=1}^n a_{ij}b_{ji})}{\\partial a_{23}} = b_{32}\n",
    "\\quad \n",
    "\\cdots \n",
    "\\quad\n",
    "\\frac{\\partial tr(AB)}{\\partial a_{2n}} = \\frac{\\partial (\\sum\\limits_{i=1}^n\\sum\\limits_{j=1}^n a_{ij}b_{ji})}{\\partial a_{2n}} = b_{n2}\n",
    "$$\n",
    "\n",
    "$$\n",
    "\\frac{\\partial tr(AB)}{\\partial a_{31}} = \\frac{\\partial (\\sum\\limits_{i=1}^n\\sum\\limits_{j=1}^n a_{ij}b_{ji})}{\\partial a_{31}} = b_{13}\n",
    "\\quad\n",
    "\\frac{\\partial tr(AB)}{\\partial a_{32}} = \\frac{\\partial (\\sum\\limits_{i=1}^n\\sum\\limits_{j=1}^n a_{ij}b_{ji})}{\\partial a_{32}} = b_{23}\n",
    "\\quad\n",
    "\\frac{\\partial tr(AB)}{\\partial a_{33}} = \\frac{\\partial (\\sum\\limits_{i=1}^n\\sum\\limits_{j=1}^n a_{ij}b_{ji})}{\\partial a_{33}} = b_{33}\n",
    "\\quad \n",
    "\\cdots \n",
    "\\quad\n",
    "\\frac{\\partial tr(AB)}{\\partial a_{3n}} = \\frac{\\partial (\\sum\\limits_{i=1}^n\\sum\\limits_{j=1}^n a_{ij}b_{ji})}{\\partial a_{3n}} = b_{n3}\n",
    "$$\n",
    "\n",
    "And so on, finally, we get: \n",
    "$$\n",
    "\\frac{\\mathrm{d}tr(AB)}{\\mathrm{d}A} = \n",
    "\\begin{pmatrix}\n",
    " b_{11} & b_{12} & b_{13} & \\cdots & b_{1n} \\\\ \n",
    " b_{21} & b_{22} & b_{23} & \\cdots & b_{2n} \\\\ \n",
    " b_{31} & b_{32} & b_{33} & \\cdots & b_{3n} \\\\ \n",
    " \\vdots& \\vdots & \\vdots & \\ddots & \\vdots \\\\ \n",
    " b_{n1} & b_{n2} & b_{n3} & \\cdots & b_{nn}\n",
    "\\end{pmatrix} =\n",
    " B\n",
    "$$\n",
    "\n",
    "So\n",
    "$$\n",
    "\\frac{\\mathrm{d}tr(AB)}{\\mathrm{d}A} = B\n",
    "$$\n",
    "\n",
    "#### Note: ****This solution uses numerator layout convention"
   ]
  },
  {
   "cell_type": "markdown",
   "metadata": {},
   "source": [
    "## ex. 3"
   ]
  },
  {
   "cell_type": "markdown",
   "metadata": {},
   "source": [
    "$$  \n",
    "y = x^TAc , \\quad A\\in \\mathbb{R}^{N \\times N}, x\\in \\mathbb{R}^{N}, c\\in \\mathbb{R}^{N} \n",
    "$$"
   ]
  },
  {
   "cell_type": "markdown",
   "metadata": {},
   "source": [
    "$$\n",
    "\\frac{dy}{dx} =\n",
    "$$"
   ]
  },
  {
   "cell_type": "markdown",
   "metadata": {},
   "source": [
    "$$\n",
    "\\frac{dy}{dA} =\n",
    "$$ "
   ]
  },
  {
   "cell_type": "markdown",
   "metadata": {},
   "source": [
    "Hint for the latter (one of the ways): use *ex. 2* result and the fact \n",
    "$$\n",
    "tr(ABC) = tr (CAB)\n",
    "$$"
   ]
  },
  {
   "cell_type": "markdown",
   "metadata": {
    "collapsed": true,
    "jupyter": {
     "outputs_hidden": true
    }
   },
   "source": [
    "#### ****Solution to ex. 3:\n",
    "\n",
    "#### ****First solving for $ \\frac{\\mathrm{d}(\\textbf{x}^TA\\textbf{c})}{\\mathrm{d} \\textbf{x}} $\n",
    "$$\n",
    "A\\textbf{c} =\n",
    "\\begin{pmatrix}\n",
    "a_{11} & a_{12} & a_{13} & \\cdots & a_{1n} \\\\ \n",
    " \\vdots & \\vdots & \\vdots & \\ddots & \\vdots \\\\ \n",
    "a_{n1} & a_{n2} & a_{n3} & \\cdots & a_{nn}\n",
    "\\end{pmatrix} \n",
    "\\times\n",
    "\\begin{pmatrix}\n",
    "c_1 \\\\ \n",
    "\\vdots\n",
    "\\\\ \n",
    "c_n\n",
    "\\end{pmatrix} =\n",
    "\\begin{pmatrix}\n",
    "(\\textbf{a}_1, \\textbf{c}) \\\\ \n",
    "\\vdots\n",
    "\\\\ \n",
    "(\\textbf{a}_n, \\textbf{c})\n",
    "\\end{pmatrix}\n",
    "$$\n",
    "where $\\textbf{a}_i = \\bigl(\\begin{smallmatrix}\n",
    "a_{i1} & a_{i2} & a_{i3} & \\cdots & a_{in} \n",
    "\\end{smallmatrix}\\bigr) $ for $i \\in \\{1, \\cdots, n\\}$ are the row-vectors of the matrix $ A $\n",
    "$$\n",
    "\\quad\n",
    "$$\n",
    "and $\\textbf{c} = \\begin{pmatrix}\n",
    "c_1 \\\\ \n",
    "\\vdots\n",
    "\\\\ \n",
    "c_n\n",
    "\\end{pmatrix}$ \n",
    "$$\n",
    "\\quad\n",
    "$$\n",
    "then \n",
    "$$\n",
    "\\textbf{x}^TA\\textbf{c} = \n",
    "\\bigl(\\begin{smallmatrix}\n",
    "x_1 & \\cdots  & x_n \n",
    "\\end{smallmatrix}\\bigr)\n",
    "\\times\n",
    "\\begin{pmatrix}\n",
    "(\\textbf{a}_1, \\textbf{c}) \\\\ \n",
    "\\vdots\n",
    "\\\\ \n",
    "(\\textbf{a}_n, \\textbf{c})\n",
    "\\end{pmatrix} =\n",
    "(\\textbf{a}_1, \\textbf{c}) \\cdot x_1 + \\cdots + (\\textbf{a}_n, \\textbf{c}) \\cdot x_n \\in \\mathbb{R}\n",
    "$$ \n",
    "\n",
    "Finally, we get \n",
    "$$\n",
    "\\frac{\\mathrm{d}(\\textbf{x}^TA\\textbf{c})}{\\mathrm{d} \\textbf{x}} =\n",
    "\\begin{pmatrix} \\frac{\\partial ( (\\textbf{a}_1, \\textbf{c}) \\cdot x_1 + \\cdots + (\\textbf{a}_n, \\textbf{c}) \\cdot x_n )}{\\partial x_1}  \\\\ \\vdots \\\\ \\frac{\\partial ( (\\textbf{a}_1, \\textbf{c}) \\cdot x_1 + \\cdots + (\\textbf{a}_n, \\textbf{c}) \\cdot x_n ) }{\\partial x_n} \\end{pmatrix} =\n",
    "\\begin{pmatrix} (\\textbf{a}_1, \\textbf{c}) \\\\ \\vdots \\\\ (\\textbf{a}_n, \\textbf{c}) \\end{pmatrix} = \n",
    "A\\textbf{c} \n",
    "$$ \n",
    "\n",
    "#### ****Now solving for $ \\frac{\\mathrm{d}(\\textbf{x}^TA\\textbf{c})}{\\mathrm{d} A} $\n",
    "\n",
    "#### Note: ****This solution uses numerator layout convention\n",
    "\n",
    "Since for this solution we are using numerator layout convention, then, the derivative of a scalar by a matrix yields a matrix with the transposed dimensions of the denominator, in this case dimensions are the same $N \\times N$ , since the denominator is a squared matrix.\n",
    "\n",
    "It was shown in the first part of this question, that\n",
    "$$\n",
    "y = \\textbf{x}^TA\\textbf{c} = (\\textbf{a}_1, \\textbf{c}) \\cdot x_1 + \\cdots + (\\textbf{a}_n, \\textbf{c}) \\cdot x_n = (a_{11}c_1 + \\cdots + a_{1n}c_n)\\cdot x_1 \\cdots (a_{n1}c_1 + \\cdots + a_{nn}c_n)\\cdot x_n \\in \\mathbb{R} \n",
    "$$~\n",
    "\n",
    "Then \n",
    "\n",
    "$$\n",
    "\\frac{\\mathrm{d} y}{ \\mathrm{d} A} = \\frac{\\mathrm{d}(\\textbf{x}^TA\\textbf{c})}{\\mathrm{d} A} = \n",
    "\\begin{pmatrix}\n",
    "\\frac{\\partial y}{\\partial a_{11}} & \\cdots & \\frac{\\partial y}{\\partial a_{n1}} \\\\ \n",
    "\\frac{\\partial y}{\\partial a_{12}} & \\cdots & \\frac{\\partial y}{\\partial a_{n2}} \\\\ \n",
    "\\frac{\\partial y}{\\partial a_{13}} & \\cdots & \\frac{\\partial y}{\\partial a_{n3}} \\\\ \n",
    "\\vdots & \\ddots & \\vdots \\\\ \n",
    "\\frac{\\partial y}{\\partial a_{1n}} & \\cdots & \\frac{\\partial y}{\\partial a_{nn}}\n",
    "\\end{pmatrix}\n",
    "$$\n",
    "\n",
    "and \n",
    "\n",
    "$$\n",
    "\\frac{\\partial y }{ \\partial a_{11}} = \\frac{\\partial ((\\textbf{a}_1, \\textbf{c}) \\cdot x_1 + \\cdots + (\\textbf{a}_n, \\textbf{c}) \\cdot x_n) }{ \\partial a_{11}} = \\frac{\\partial ((a_{11}c_1 + \\cdots + a_{1n}c_n)\\cdot x_1 \\cdots (a_{n1}c_1 + \\cdots + a_{nn}c_n)\\cdot x_n ) }{ \\partial a_{11}} = c_1x_1 ,\n",
    "\\quad\n",
    "\\frac{\\partial y }{ \\partial a_{12}} = \\frac{\\partial ((\\textbf{a}_1, \\textbf{c}) \\cdot x_1 + \\cdots + (\\textbf{a}_n, \\textbf{c}) \\cdot x_n) }{ \\partial a_{12}} = \\frac{\\partial ((a_{11}c_1 + \\cdots + a_{1n}c_n)\\cdot x_1 \\cdots (a_{n1}c_1 + \\cdots + a_{nn}c_n)\\cdot x_n ) }{ \\partial a_{12}} = c_2x_1 ,\n",
    "\\quad\n",
    "\\frac{\\partial y }{ \\partial a_{13}} = \\frac{\\partial ((\\textbf{a}_1, \\textbf{c}) \\cdot x_1 + \\cdots + (\\textbf{a}_n, \\textbf{c}) \\cdot x_n) }{ \\partial a_{13}} = \\frac{\\partial ((a_{11}c_1 + \\cdots + a_{1n}c_n)\\cdot x_1 \\cdots (a_{n1}c_1 + \\cdots + a_{nn}c_n)\\cdot x_n ) }{ \\partial a_{13}} = c_3x_1 ,\n",
    "\\quad\n",
    "\\cdots ,\n",
    "\\quad\n",
    "\\frac{\\partial y }{ \\partial a_{1n}} = \\frac{\\partial ((\\textbf{a}_1, \\textbf{c}) \\cdot x_1 + \\cdots + (\\textbf{a}_n, \\textbf{c}) \\cdot x_n) }{ \\partial a_{1n}} = \\frac{\\partial ((a_{11}c_1 + \\cdots + a_{1n}c_n)\\cdot x_1 \\cdots (a_{n1}c_1 + \\cdots + a_{nn}c_n)\\cdot x_n ) }{ \\partial a_{1n}} = c_nx_1\n",
    "$$\n",
    "\n",
    "in an analogous way \n",
    "\n",
    "$$\n",
    "\\frac{\\partial y }{ \\partial a_{n1}} = c_1x_n , \\frac{\\partial y }{ \\partial a_{n2}} = c_2x_n ,  \\frac{\\partial y }{ \\partial a_{n3}} = c_3x_n , \\cdots , \\frac{\\partial y }{ \\partial a_{nn}} = c_nx_n\n",
    "$$\n",
    "\n",
    "From there, we get, that \n",
    "$ \\frac{\\partial y }{ \\partial a_{ij}} = c_jx_i $ where $i \\in \\{1, \\cdots, n\\}$ , $j \\in \\{1, \\cdots, n\\}$ \n",
    "\n",
    "Finally \n",
    "$$\n",
    "\\frac{\\mathrm{d}(\\textbf{x}^TA\\textbf{c})}{\\mathrm{d} A} = \n",
    "\\begin{pmatrix}\n",
    "c_1x_1 & \\cdots & c_1x_n \\\\ \n",
    "c_2x_1 & \\cdots & c_2x_n \\\\ \n",
    "c_3x_1 & \\cdots & c_3x_n \\\\ \n",
    "\\vdots & \\ddots & \\vdots \\\\ \n",
    "c_nx_1 & \\cdots & c_nx_n\n",
    "\\end{pmatrix} =\n",
    "\\textbf{c}\\textbf{x}^T\n",
    "$$\n",
    "\n",
    "#### Note: ****This solution uses numerator layout convention"
   ]
  },
  {
   "cell_type": "markdown",
   "metadata": {},
   "source": [
    "## ex. 4"
   ]
  },
  {
   "cell_type": "markdown",
   "metadata": {},
   "source": [
    "Classic matrix factorization example. Given matrix $X$ you need to find $A$, $S$ to approximate $X$. This can be done by simple gradient descent iteratively alternating $A$ and $S$ updates.\n",
    "$$\n",
    "J = || X - AS ||_F^2  , \\quad A\\in \\mathbb{R}^{N \\times R} , \\quad S\\in \\mathbb{R}^{R \\times M}\n",
    "$$\n",
    "$$\n",
    "\\frac{dJ}{dS} = ? \n",
    "$$\n",
    "\n",
    "You may use one of the following approaches:"
   ]
  },
  {
   "cell_type": "markdown",
   "metadata": {},
   "source": [
    "#### First approach\n",
    "Using ex.2 and the fact:\n",
    "$$\n",
    "|| X ||_F^2 = tr(XX^T) \n",
    "$$ \n",
    "it is easy to derive gradients (you can find it in one of the refs). "
   ]
  },
  {
   "cell_type": "markdown",
   "metadata": {},
   "source": [
    "#### Second approach\n",
    "You can use *slightly different techniques* if they suits you. Take a look at this derivation:\n",
    "<img src=\"grad.png\">\n",
    "(excerpt from [Handbook of blind source separation, Jutten, page 517](https://books.google.ru/books?id=PTbj03bYH6kC&printsec=frontcover&dq=Handbook+of+Blind+Source+Separation&hl=en&sa=X&ved=0ahUKEwi-q_apiJDLAhULvXIKHVXJDWcQ6AEIHDAA#v=onepage&q=Handbook%20of%20Blind%20Source%20Separation&f=false), open for better picture)."
   ]
  },
  {
   "cell_type": "markdown",
   "metadata": {},
   "source": [
    "#### Third approach\n",
    "And finally we can use chain rule! \n",
    "let $ F = AS $ \n",
    "\n",
    "**Find**\n",
    "$$\n",
    "\\frac{dJ}{dF} =  \n",
    "$$ \n",
    "and \n",
    "$$\n",
    "\\frac{dF}{dS} =  \n",
    "$$ \n",
    "(the shape should be $ NM \\times RM )$.\n",
    "\n",
    "Now it is easy do get desired gradients:\n",
    "$$\n",
    "\\frac{dJ}{dS} =  \n",
    "$$ "
   ]
  },
  {
   "cell_type": "markdown",
   "metadata": {},
   "source": [
    "#### ****Solution to ex. 4:\n",
    "\n",
    "#### Note: ****This solution uses numerator layout convention\n",
    "\n",
    "Given\n",
    "$$J = || X - AS ||_F^2  , \\quad A\\in \\mathbb{R}^{N \\times R} , \\quad S\\in \\mathbb{R}^{R \\times M}, \\quad X \\in \\mathbb{R}^{N \\times M}\n",
    "$$\n",
    "\n",
    "We want to calculate \n",
    "$$\n",
    "\\frac{dJ}{dS} = \\frac{d|| X - AS ||_F^2}{dS}\n",
    "$$\n",
    "\n",
    "For this solution, we will use the following facts\n",
    "$$\n",
    "\\quad\n",
    "$$\n",
    "$$\n",
    "tr(XX^T) = tr(X^TX), \\quad tr(A + B) = tr(A) + tr(B), \\quad tr(kA) = k \\cdot tr(A) \\quad where \\quad k \\in \\mathbb{R}, \\quad || X ||_F^2 = tr(XX^T)\n",
    "$$\n",
    "\n",
    "Then\n",
    "$$\n",
    "\\frac{dJ}{dS} = \\frac{d|| X - AS ||_F^2}{dS} = \\frac{d((X-AS)^T(X-AS))}{dS}\n",
    "$$\n",
    "\n",
    "Since \n",
    "$$\n",
    "(X-AS)^T(X-AS) = X^TX - X^TAS - S^TA^TX + S^TA^TAS \n",
    "$$\n",
    "\n",
    "Notice from the previous expression that for the second and third term\n",
    "$$\n",
    "(X^TAS)^T =  S^TA^TX \n",
    "$$\n",
    "and using the fact that $(A^TB)^T = B^TA$ we get that $- X^TAS - S^TA^TX = -2X^TAS$ \n",
    "\n",
    "then\n",
    "$$\n",
    "(X-AS)^T(X-AS) = X^TX - X^TAS - S^TA^TX + S^TA^TAS = X^TX -2X^TAS + S^TA^TAS\n",
    "$$\n",
    "\n",
    "from the previous expression and using the mentioned properties of the trace, we get \n",
    "$$\n",
    "J = tr((X-AS)^T(X-AS)) = tr(X^TX -2X^TAS + S^TA^TAS) = tr(X^TX) -2tr(X^TAS) + tr(S^TA^TAS)\n",
    "$$\n",
    "\n",
    "Therefore\n",
    "$$\n",
    "\\frac{dJ}{dS} = \\frac{dtr(X^TX)}{dS} - 2\\frac{dtr(X^TAS)}{dS} + \\frac{dtr(S^TA^TAS)}{dS}\n",
    "$$\n",
    "\n",
    "Now we proceed to calculate each of the derivatives from the previous expression:\n",
    "$$ \n",
    "\\frac{dtr(X^TX)}{dS} = \\textbf{0}\n",
    "$$\n",
    "To solve $\\frac{dtr(X^TAS)}{dS}$ we will use the cyclic property of the trace, that is, $tr(ABC) = tr(CAB) = tr(BCA)$ and the result of ex. 2, that is $\\frac{dtr(AB)}{dA} = B$\n",
    "$$\n",
    "\\quad\n",
    "$$\n",
    "we get\n",
    "then $tr(X^TAS) = tr(SX^TA)$ and $\\frac{dtr(X^TAS)}{dS} = X^TA$\n",
    "$$\n",
    "\\quad\n",
    "$$\n",
    "finally, to solve $\\frac{dtr(S^TA^TAS)}{dS}$ we will use the following differential identities:\n",
    "$d(tr(X)) = tr(dX)$ (source: https://en.wikipedia.org/wiki/Matrix_calculus#Identities_in_differential_form), $d(X^T) = (dX)^T$ (source: https://en.wikipedia.org/wiki/Matrix_calculus#Identities_in_differential_form), $dy = tr(AdX)$ and its derivative form $\\frac{dy}{dX} = A$ (source: https://en.wikipedia.org/wiki/Matrix_calculus#cite_note-minka-1) and also, we will use the following trace properties $tr(A + B) = tr(A) + tr(B)$, $tr(X) = tr(X^T)$\n",
    "$$\n",
    "\\quad\n",
    "$$\n",
    "we get\n",
    "$$dtr(S^TA^TAS) = tr(d(S^TA^TAS)) = tr(d(S^T)A^TAS + S^TA^TAdS) = // d(X^T) = (dX)^T // =tr((dS)^TA^TAS + S^TA^TAdS) = tr((dS)^TA^TAS) + tr(S^TA^TAdS)$$\n",
    "$$\n",
    "\\quad\n",
    "$$\n",
    "In the previous expression applying $tr(X) = tr(X^T)$ for the term $tr((dS)^TA^TAS)$ we get $tr(((dS)^TA^TAS)^T) = tr(S^TA^TAdS)$\n",
    "$$\n",
    "\\quad\n",
    "$$\n",
    "then\n",
    "$$\n",
    "dtr(S^TA^TAS) = tr((dS)^TA^TAS) + tr(S^TA^TAdS) = tr(S^TA^TAdS) + tr(S^TA^TAdS) = 2 tr(S^TA^TAdS) = tr(2S^TA^TAdS)\n",
    "$$\n",
    "Finally, using $dy = tr(AdX) \\rightarrow \\frac{dy}{dX} = A$ on the previous expression we get $dtr(S^TA^TAS) = tr(2S^TA^TAdS) \\rightarrow \\frac{dtr(S^TA^TAS)}{dS} = 2S^TA^TA$ \n",
    "$$\n",
    "\\quad\n",
    "$$\n",
    "\n",
    "Now we can substitute these previous three results in the expression $\\frac{dJ}{dS} = \\frac{dtr(X^TX)}{dS} - 2\\frac{dtr(X^TAS)}{dS} + \\frac{dtr(S^TA^TAS)}{dS}$, we get \n",
    "$$\n",
    "\\frac{dJ}{dS} = \\frac{d|| X - AS ||_F^2}{dS} = \\frac{d((X-AS)^T(X-AS))}{dS} = \\textbf{0} - 2X^TA + 2S^TA^TA = -2(X^T - S^TA^T)A\n",
    "$$\n",
    "Finally, the result from previous line is presented in both numerator and denominator layout:\n",
    "$$\n",
    "\\quad\n",
    "$$\n",
    "In numerator layout: $\\frac{dJ}{dS} = \\frac{d|| X - AS ||_F^2}{dS} = -2(X^T - S^TA^T)A$\n",
    "$$\n",
    "\\quad\n",
    "$$\n",
    "In denominator layout: $\\frac{dJ}{dS} = \\frac{d|| X - AS ||_F^2}{dS} = -2A^T(X - AS)$ \n"
   ]
  },
  {
   "cell_type": "markdown",
   "metadata": {
    "collapsed": true,
    "jupyter": {
     "outputs_hidden": true
    }
   },
   "source": [
    "## 2. kNN questions\n",
    "Here come the questions from the assignment0_01. Please, refer to the assignment0_01 to get the context of the questions."
   ]
  },
  {
   "cell_type": "markdown",
   "metadata": {},
   "source": [
    "### Question 1\n",
    "\n",
    "Notice the structured patterns in the distance matrix, where some rows or columns are visible brighter. (Note that with the default color scheme black indicates low distances while white indicates high distances.)\n",
    "\n",
    "- What in the data is the cause behind the distinctly bright rows?\n",
    "- What causes the columns?\n",
    "\n",
    "*Your Answer:* If the rows is brighter, it means that the current test data is not similar to all the training data. If the colum is brighter, it means that the corresponding training data for the column is not similar to any of the test data.\n",
    "\n",
    "\n",
    "\n"
   ]
  },
  {
   "cell_type": "markdown",
   "metadata": {},
   "source": [
    "### Question 2\n",
    "\n",
    "We can also use other distance metrics such as L1 distance.\n",
    "For pixel values $p_{ij}^{(k)}$ at location $(i,j)$ of some image $I_k$, \n",
    "\n",
    "the mean $\\mu$ across all pixels over all images is $$\\mu=\\frac{1}{nhw}\\sum_{k=1}^n\\sum_{i=1}^{h}\\sum_{j=1}^{w}p_{ij}^{(k)}$$\n",
    "And the pixel-wise mean $\\mu_{ij}$ across all images is \n",
    "$$\\mu_{ij}=\\frac{1}{n}\\sum_{k=1}^np_{ij}^{(k)}.$$\n",
    "The general standard deviation $\\sigma$ and pixel-wise standard deviation $\\sigma_{ij}$ is defined similarly.\n",
    "\n",
    "Which of the following preprocessing steps will not change the performance of a Nearest Neighbor classifier that uses L1 distance? Select all that apply.\n",
    "1. Subtracting the mean $\\mu$ ($\\tilde{p}_{ij}^{(k)}=p_{ij}^{(k)}-\\mu$.)\n",
    "2. Subtracting the per pixel mean $\\mu_{ij}$  ($\\tilde{p}_{ij}^{(k)}=p_{ij}^{(k)}-\\mu_{ij}$.)\n",
    "3. Subtracting the mean $\\mu$ and dividing by the standard deviation $\\sigma$.\n",
    "4. Subtracting the pixel-wise mean $\\mu_{ij}$ and dividing by the pixel-wise standard deviation $\\sigma_{ij}$.\n",
    "5. Rotating the coordinate axes of the data.\n",
    "\n",
    "*Your Answer:* 1, 2, 3 \n",
    "\n",
    "\n",
    "*Your Explanation:*\n",
    "1 - Since for each image $\\mu$ is a constant number, substracting the mean will only offset the pixel values, but this will not affect the maximum and minimum values of the L1 distance. This can be verified by the formula:\n",
    "$$L_{1}=\\frac{1}{n} \\sum_{k=1}^n ||\\,(x_{test} - \\mu) - (x_{train}^{(k)} - \\mu)\\,||_{1} = ||\\,x_{test} - x_{train}^{(k)}\\,||_{1}$$ where $x_{train}^{k}$ is the vector of the $k^{th}$ training image\n",
    "\n",
    "2 - Is a similar case as the first point, substracting $\\mu_{ij}$ has the effect of centering the data around the origin. This can also be verified by the formula: \n",
    "$$L_{1}=\\frac{1}{nhw}\\sum_{k=1}^n\\sum_{i=1}^{h}\\sum_{j=1}^{w} ||\\,(p_{ij} - \\mu_{ij}) - (q_{ij}^{(k)} - \\mu_{ij})\\,||_{1} = ||\\,p_{ij} - q_{ij}^{(k)}\\,||_{1}$$ where $q_{ij}^{(k)}$ are the pixels at $(i,j)$ at the $k^{th}$ training image\n",
    "\n",
    "\n",
    "3 - Subtracting the mean and dividing by the standard deviation would give the properties of standard normal distribution, that is, zero-centered data $\\mu$ = 0 with unit variance $\\sigma$ = 1.\n",
    "\n",
    "The L1 distance just gets scaled by a fixed factor, since the standard deviation is used to calculate over all pixels uniformly, this will cause the nearest neighbor of a point to remain the same.\n",
    "\n",
    "4 - Dividing by the pixel-wise standard deviation $\\sigma_{ij}$, will scale different dimensions differently, this could result that the nearest neighbor to a point gets changed.\n",
    "\n",
    "5 - For the L1 norm, the distance between two points change with the rotation of the axes. \n",
    "\n"
   ]
  },
  {
   "cell_type": "markdown",
   "metadata": {},
   "source": [
    "## Question 3\n",
    "\n",
    "Which of the following statements about $k$-Nearest Neighbor ($k$-NN) are true in a classification setting, and for all $k$? Select all that apply.\n",
    "1. The decision boundary (hyperplane between classes in feature space) of the k-NN classifier is linear.\n",
    "2. The training error of a 1-NN will always be lower than that of 5-NN.\n",
    "3. The test error of a 1-NN will always be lower than that of a 5-NN.\n",
    "4. The time needed to classify a test example with the k-NN classifier grows with the size of the training set.\n",
    "5. None of the above.\n",
    "\n",
    "*Your Answer:* 2, 4\n",
    "\n",
    "\n",
    "*Your Explanation:* 1 - False, the shape of decision boundaries depend on the way the data is ditributed  \n",
    "2 - When checking the training error, for 1-NN the nearest neighbor a point is going to be itself, thus the training error for 1-NN will be 0, however for 5-NN this is not always true, and 0 error for 5-NN is a lower bound instead.  \n",
    "3 - This is false since the optimal value of k is data dependent \n",
    "4 - This is true since both training and testing steps of the classificator are size dependent, the training step \"remembers\" the set and for calculates the distances between each test sample and each of the samples in the training set, and the testing step perform comparisions of each test sample with the entire training set.\n",
    "\n",
    "\n"
   ]
  },
  {
   "cell_type": "code",
   "execution_count": null,
   "metadata": {},
   "outputs": [],
   "source": []
  }
 ],
 "metadata": {
  "kernelspec": {
   "display_name": "Python 3 (ipykernel)",
   "language": "python",
   "name": "python3"
  },
  "language_info": {
   "codemirror_mode": {
    "name": "ipython",
    "version": 3
   },
   "file_extension": ".py",
   "mimetype": "text/x-python",
   "name": "python",
   "nbconvert_exporter": "python",
   "pygments_lexer": "ipython3",
   "version": "3.9.7"
  }
 },
 "nbformat": 4,
 "nbformat_minor": 4
}
